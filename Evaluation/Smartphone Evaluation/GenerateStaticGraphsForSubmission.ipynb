{
 "cells": [
  {
   "cell_type": "code",
   "execution_count": 1,
   "id": "54b6ade0",
   "metadata": {},
   "outputs": [],
   "source": [
    "import numpy as np\n",
    "import matplotlib.pyplot as plt\n",
    "# include if using a Jupyter notebook\n",
    "%matplotlib inline"
   ]
  },
  {
   "cell_type": "code",
   "execution_count": 2,
   "id": "dd3d3cad",
   "metadata": {},
   "outputs": [],
   "source": [
    "# Data\n",
    "dist0_5 = np.array([1.10, 0.86, 0.88, 1.02, 0.95])\n",
    "dist_1  = np.array([2.68, 1.47, 2.94, 1.95, 1.08])\n",
    "dist1_5 = np.array([0.405, 1.24, 1.77, 6.11, 3.36])\n",
    "dist2_25  =  np.array([1.20, 1.26, 1.75, 1.00, 1.15])\n",
    "dist3 = np.array([3.64, 3.69, 1.19, 2.44, 6.04])\n",
    "\n",
    "# Calculate the average\n",
    "mean1 = np.mean(dist0_5)\n",
    "mean2 = np.mean(dist_1)\n",
    "mean3 = np.mean(dist1_5)\n",
    "mean4 = np.mean(dist2_25)\n",
    "mean5 = np.mean(dist3)\n",
    "\n",
    "\n",
    "# Calculate the standard deviation\n",
    "std1 = np.std(dist0_5)\n",
    "std2 = np.std(dist_1)\n",
    "std3 = np.std(dist1_5)\n",
    "std4 = np.std(dist2_25)\n",
    "std5 = np.std(dist3)\n",
    "\n",
    "# Define labels, positions, bar heights and error bar heights\n",
    "labels = ['0.5m', '1m', '1.5m', '2.25m', '3m']\n",
    "x_pos = np.arange(len(labels))\n",
    "CTEs0 = [mean1, mean2, mean3, mean4, mean5]\n",
    "error0 = [std1, std2, std3, std4, std5]"
   ]
  },
  {
   "cell_type": "code",
   "execution_count": 3,
   "id": "cc35812b",
   "metadata": {},
   "outputs": [],
   "source": [
    "# Data\n",
    "dist0_5 = np.array([0.82, 1.76, 0.95, 1.43, 1.32])\n",
    "dist_1  = np.array([0.94, 3.52, 0.80, 0.89, 1.14])\n",
    "dist1_5 = np.array([2.71, 2.87, 0.64, 0.56, 0.64])\n",
    "dist2_25  =  np.array([2.43, 2.49, 2.72, 3.98, 1.83])\n",
    "dist3 = np.array([2.69, 3.82, 1.67, 1.48, 2.32])\n",
    "\n",
    "# Calculate the average\n",
    "mean190 = np.mean(dist0_5)\n",
    "mean290 = np.mean(dist_1)\n",
    "mean390 = np.mean(dist1_5)\n",
    "mean490 = np.mean(dist2_25)\n",
    "mean590 = np.mean(dist3)\n",
    "\n",
    "\n",
    "# Calculate the standard deviation\n",
    "std190 = np.std(dist0_5)\n",
    "std290 = np.std(dist_1)\n",
    "std390 = np.std(dist1_5)\n",
    "std490 = np.std(dist2_25)\n",
    "std590 = np.std(dist3)\n",
    "\n",
    "# Define labels, positions, bar heights and error bar heights\n",
    "labels = ['0.5m', '1m', '1.5m', '2.25m', '3m']\n",
    "x_pos = np.arange(len(labels))\n",
    "CTEs90 = [mean190, mean290, mean390, mean490, mean590]\n",
    "error90 = [std190, std290, std390, std490, std590]"
   ]
  },
  {
   "cell_type": "code",
   "execution_count": 4,
   "id": "ed735c6b",
   "metadata": {},
   "outputs": [],
   "source": [
    "# Data\n",
    "dist0_5 = np.array([1.56, 1.01, 0.86, 1.19, 0.92]\n",
    ")\n",
    "dist_1  = np.array([1.34, 0.70, 0.61, 0.65, 0.65]\n",
    ")\n",
    "dist1_5 = np.array([2.45, 0.98, 0.57, 0.74, 0.99]\n",
    ")\n",
    "dist2_25  =  np.array([2.37, 2.20, 1.92, 2.23, 2.39]\n",
    "                      )\n",
    "dist3 = np.array([1.71, 2.32, 2.07, 1.92, 2.10]\n",
    ")\n",
    "\n",
    "# Calculate the average\n",
    "mean1180 = np.mean(dist0_5)\n",
    "mean2180 = np.mean(dist_1)\n",
    "mean3180 = np.mean(dist1_5)\n",
    "mean4180 = np.mean(dist2_25)\n",
    "mean5180 = np.mean(dist3)\n",
    "\n",
    "\n",
    "# Calculate the standard deviation\n",
    "std1180 = np.std(dist0_5)\n",
    "std2180 = np.std(dist_1)\n",
    "std3180 = np.std(dist1_5)\n",
    "std4180 = np.std(dist2_25)\n",
    "std5180 = np.std(dist3)\n",
    "\n",
    "# Define labels, positions, bar heights and error bar heights\n",
    "labels = ['0.5m', '1m', '1.5m', '2.25m', '3m']\n",
    "x_pos = np.arange(len(labels))\n",
    "CTEs180 = [mean1180, mean2180, mean3180, mean4180, mean5180]\n",
    "error180 = [std1180, std2180, std3180, std4180, std5180]"
   ]
  },
  {
   "cell_type": "code",
   "execution_count": 5,
   "id": "0e2c142a",
   "metadata": {},
   "outputs": [
    {
     "data": {
      "text/plain": "<Figure size 432x288 with 1 Axes>",
      "image/png": "[encoded data removed]"
     },
     "metadata": {
      "needs_background": "light"
     },
     "output_type": "display_data"
    }
   ],
   "source": [
    "# Build the plot\n",
    "width = 0.25\n",
    "fig, ax = plt.subplots()\n",
    "ax.bar(x_pos, CTEs0,\n",
    "       yerr=error0,\n",
    "       align='center',\n",
    "       width = width,\n",
    "       alpha=0.5,\n",
    "       label = '0 degrees',\n",
    "       ecolor='black',\n",
    "       capsize=10)\n",
    "\n",
    "ax.bar(x_pos+width, CTEs90,\n",
    "       yerr=error90,\n",
    "       align='center',\n",
    "       width = width,\n",
    "       alpha=0.5,\n",
    "       label = '90 degrees',\n",
    "       ecolor='black',\n",
    "       capsize=10)\n",
    "\n",
    "ax.bar(x_pos+2*width, CTEs180,\n",
    "       yerr=error180,\n",
    "       align='center',\n",
    "       width = width,\n",
    "       alpha=0.5,\n",
    "       label = '180 degrees',\n",
    "       ecolor='black',\n",
    "       capsize=10)\n",
    "ax.legend()\n",
    "ax.set_ylabel('Test MSE')\n",
    "ax.set_xticks(x_pos)\n",
    "ax.set_xticklabels(labels)\n",
    "# ax.set_title('Coefficent of Thermal Expansion (CTE) of Three Metals')\n",
    "ax.yaxis.grid(True)\n",
    "\n",
    "# Save the figure and show\n",
    "plt.tight_layout()\n",
    "plt.savefig('bar_plot_with_error_bars.png')\n",
    "plt.show()"
   ]
  },
  {
   "cell_type": "code",
   "execution_count": 7,
   "id": "14f9c523",
   "metadata": {
    "scrolled": true
   },
   "outputs": [
    {
     "name": "stdout",
     "output_type": "stream",
     "text": [
      "   mean1  mean2  std1  std2\n",
      "A      4      6     1     3\n",
      "B      5      7     5     2\n"
     ]
    },
    {
     "data": {
      "text/plain": "<Figure size 432x288 with 1 Axes>",
      "image/png": "[encoded data removed]"
     },
     "metadata": {
      "needs_background": "light"
     },
     "output_type": "display_data"
    }
   ],
   "source": [
    "import pandas as pd\n",
    "import matplotlib.pyplot as plt\n",
    "df = pd.DataFrame([[4,6,1,3], [5,7,5,2]], columns = ['mean1', 'mean2', 'std1', 'std2'], index=['A', 'B'])\n",
    "print(df)\n",
    "\n",
    "df[['mean1', 'mean2']].plot(kind='bar', yerr=df[['std1', 'std2']].values.T, alpha = 0.5,error_kw=dict(ecolor='k'))\n",
    "plt.show()"
   ]
  },
  {
   "cell_type": "code",
   "execution_count": 8,
   "id": "62ba5008",
   "metadata": {},
   "outputs": [
    {
     "data": {
      "text/plain": "<Figure size 720x576 with 1 Axes>",
      "image/png": "[encoded data removed]"
     },
     "metadata": {
      "needs_background": "light"
     },
     "output_type": "display_data"
    }
   ],
   "source": [
    "import numpy as np\n",
    "import matplotlib.pyplot as plt\n",
    "\n",
    "n = ['0.5m', '1m', '1.5m', '2.25m']\n",
    "train_accuracy = [0.999, 0.997, 0.996, 0.986\n",
    "]\n",
    "test_accuracy = [ 0.978, 0.962, 0.959, 0.938\n",
    "\n",
    "\n",
    " ]\n",
    "precision = [0.983 , 0.965, 0.960, 0.940\n",
    "\n",
    "\n",
    " ]\n",
    "recall = [0.974, 0.958, 0.958, 0.937\n",
    "\n",
    "\n",
    "]\n",
    "f1 = [0.974, 0.958, 0.958,  0.937\n",
    "\n",
    "\n",
    " ]\n",
    "\n",
    "\n",
    "r = np.arange(len(n))\n",
    "width = 0.25\n",
    "  \n",
    "plt.figure(figsize=(10,8))\n",
    "plt.bar(r, train_accuracy, \n",
    "        width = width, edgecolor = 'black',\n",
    "        label='Train accuracy')\n",
    "plt.bar(r + width, test_accuracy,         width = width, edgecolor = 'black',\n",
    "        label='Test accuracy')\n",
    "\n",
    "plt.bar(r + 2*width, precision,         width = width, edgecolor = 'black',\n",
    "        label='Precision')\n",
    "\n",
    "plt.bar(r + 3*width, recall,         width = width, edgecolor = 'black',\n",
    "        label='Recall')\n",
    "plt.bar(r + 4*width, f1, \n",
    "        width = width, edgecolor = 'black',\n",
    "        label='F1 score')\n",
    "\n",
    "  \n",
    "plt.xlabel(\"Distances\")\n",
    "# plt.ylabel(\"Number of people voted\")\n",
    "# plt.title(\"Number of people voted in each year\")\n",
    "  \n",
    "# plt.grid(linestyle='--')\n",
    "plt.xticks(r + width,['0.5m', '1m', '1.5m', '2.25m'])\n",
    "plt.legend()\n",
    "  \n",
    "plt.show()"
   ]
  },
  {
   "cell_type": "code",
   "execution_count": 9,
   "id": "5c9bc282",
   "metadata": {},
   "outputs": [
    {
     "name": "stdout",
     "output_type": "stream",
     "text": [
      "2.2220000000000004\n"
     ]
    }
   ],
   "source": [
    "arr = np.array([2.37, 2.20, 1.92, 2.23, 2.39])\n",
    "print(np.average(arr))"
   ]
  },
  {
   "cell_type": "code",
   "execution_count": 10,
   "outputs": [],
   "source": [
    "# Data from Noise Study naive\n",
    "case1n = np.array([\n",
    "    20.769, 20.815, 28.873, 16.227, 13.520\n",
    "])\n",
    "case2n  = np.array([\n",
    "    19.715, 23.644, 26.96, 30.86, 20.769\n",
    "])\n",
    "case3n = np.array([\n",
    "    4.297, 4.630, 2.246, 3.2845, 3.6021\n",
    "])\n",
    "case4n  =  np.array([\n",
    "    2.862, 2.51, 3.803, 3.664, 3.071\n",
    "])\n",
    "case5n = np.array([\n",
    "    3.071, 6.714, 13.50, 8.273, 10.65\n",
    "])\n",
    "case6n = np.array([\n",
    "    2.967, 3.235, 2.398, 2.922, 8.738\n",
    "])\n",
    "\n",
    "# Calculate the average\n",
    "mean1 = np.mean(case1n)\n",
    "mean2 = np.mean(case2n)\n",
    "mean3 = np.mean(case3n)\n",
    "mean4 = np.mean(case4n)\n",
    "mean5 = np.mean(case5n)\n",
    "mean6 = np.mean(case6n)\n",
    "\n",
    "\n",
    "# Calculate the standard deviation\n",
    "std1 = np.std(case1n)\n",
    "std2 = np.std(case2n)\n",
    "std3 = np.std(case3n)\n",
    "std4 = np.std(case4n)\n",
    "std5 = np.std(case5n)\n",
    "std6 = np.std(case6n)\n",
    "\n",
    "# Define labels, positions, bar heights and error bar heights\n",
    "labels = ['Three person discussion', 'Two person conversation', 'Laptop fan', 'Music through speaker', 'Conversation through speaker', 'Street noise through speakers']\n",
    "x_pos = np.arange(len(labels))\n",
    "CTEn = [mean1, mean2, mean3, mean4, mean5, mean6]\n",
    "errorn = [std1, std2, std3, std4, std5, std6]"
   ],
   "metadata": {
    "collapsed": false,
    "pycharm": {
     "name": "#%%\n"
    }
   }
  },
  {
   "cell_type": "code",
   "execution_count": 11,
   "outputs": [],
   "source": [
    "# Data from Noise Study silent periods\n",
    "case1s = np.array([\n",
    "    1.09, 1.19, 2.48, 1.86, 1.16\n",
    "])\n",
    "case2s  = np.array([\n",
    "    2.7, 3.96, 2.64, 3.45, 2.19\n",
    "])\n",
    "case3s = np.array([\n",
    "    0.549, 0.675, 0.97, 0.761, 0.661\n",
    "])\n",
    "case4s  =  np.array([\n",
    "    1.95, 0.797, 1.08, 0.651, 0.751\n",
    "])\n",
    "case5s = np.array([\n",
    "    0.861, 1.45, 2.9, 1.0, 1.16\n",
    "])\n",
    "case6s = np.array([\n",
    "    1.0, 0.359, 0.974, 0.819, 0.953\n",
    "])\n",
    "\n",
    "# Calculate the average\n",
    "mean1 = np.mean(case1s)\n",
    "mean2 = np.mean(case2s)\n",
    "mean3 = np.mean(case3s)\n",
    "mean4 = np.mean(case4s)\n",
    "mean5 = np.mean(case5s)\n",
    "mean6 = np.mean(case6s)\n",
    "\n",
    "\n",
    "# Calculate the standard deviation\n",
    "std1 = np.std(case1s)\n",
    "std2 = np.std(case2s)\n",
    "std3 = np.std(case3s)\n",
    "std4 = np.std(case4s)\n",
    "std5 = np.std(case5s)\n",
    "std6 = np.std(case6s)\n",
    "\n",
    "# Define labels, positions, bar heights and error bar heights\n",
    "labels = ['Three person discussion', 'Two person conversation', 'Laptop fan', 'Music through speaker', 'Conversation through speaker', 'Street noise through speakers']\n",
    "x_pos = np.arange(len(labels))\n",
    "CTEs = [mean1, mean2, mean3, mean4, mean5, mean6]\n",
    "errors = [std1, std2, std3, std4, std5, std6]"
   ],
   "metadata": {
    "collapsed": false,
    "pycharm": {
     "name": "#%%\n"
    }
   }
  },
  {
   "cell_type": "code",
   "execution_count": 12,
   "outputs": [],
   "source": [
    "# Data from Noise Study just MPS\n",
    "case1m = np.array([\n",
    "    1.17, 0.252, 3.46, 0.448, 0.456\n",
    "])\n",
    "case2m  = np.array([\n",
    "    1.48, 0.729, 0.648, 2.09, 2.58\n",
    "])\n",
    "case3m = np.array([\n",
    "    0.91, 1.30, 0.436, 0.880, 1.04\n",
    "])\n",
    "case4m  =  np.array([\n",
    "    1.97, 1.21, 0.488, 0.631, 0.671\n",
    "])\n",
    "case5m = np.array([\n",
    "    0.464, 1.91, 2.36, 0.572, 1.43\n",
    "])\n",
    "case6m = np.array([\n",
    "    0.815, 0.742, 0.491, 0.357, 1.22\n",
    "])\n",
    "\n",
    "# Calculate the average\n",
    "mean1 = np.mean(case1m)\n",
    "mean2 = np.mean(case2m)\n",
    "mean3 = np.mean(case3m)\n",
    "mean4 = np.mean(case4m)\n",
    "mean5 = np.mean(case5m)\n",
    "mean6 = np.mean(case6m)\n",
    "\n",
    "\n",
    "# Calculate the standard deviation\n",
    "std1 = np.std(case1m)\n",
    "std2 = np.std(case2m)\n",
    "std3 = np.std(case3m)\n",
    "std4 = np.std(case4m)\n",
    "std5 = np.std(case5m)\n",
    "std6 = np.std(case6m)\n",
    "\n",
    "# Define labels, positions, bar heights and error bar heights\n",
    "labels = ['Three person discussion', 'Two person conversation', 'Laptop fan', 'Music through speaker', 'Conversation through speaker', 'Street noise through speakers']\n",
    "x_pos = np.arange(len(labels))\n",
    "CTEm = [mean1, mean2, mean3, mean4, mean5, mean6]\n",
    "errorm = [std1, std2, std3, std4, std5, std6]"
   ],
   "metadata": {
    "collapsed": false,
    "pycharm": {
     "name": "#%%\n"
    }
   }
  },
  {
   "cell_type": "code",
   "execution_count": 13,
   "outputs": [],
   "source": [
    "# Data from Noise Study (MPS)\n",
    "case1mps = np.array([\n",
    "    0.208, 0.060, 0.162, 0.434, 1.64\n",
    "])\n",
    "case2mps  = np.array([\n",
    "    0.454, 0.490, 0.280, 0.364, 0.330\n",
    "])\n",
    "case3mps = np.array([\n",
    "    0.932, 1.38, 0.291, 0.744, 0.893\n",
    "])\n",
    "case4mps  =  np.array([\n",
    "    0.555, 0.3606, 0.4634, 0.8286, 0.4816\n",
    "])\n",
    "case5mps = np.array([\n",
    "    0.3103, 1.445, 1.180, 0.4171, 1.0275\n",
    "])\n",
    "case6mps = np.array([\n",
    "    0.838, 0.511, 0.256, 0.279, 1.08\n",
    "])\n",
    "\n",
    "# Calculate the average\n",
    "mean1mps = np.mean(case1mps)\n",
    "mean2mps = np.mean(case2mps)\n",
    "mean3mps = np.mean(case3mps)\n",
    "mean4mps = np.mean(case4mps)\n",
    "mean5mps = np.mean(case5mps)\n",
    "mean6mps = np.mean(case6mps)\n",
    "\n",
    "\n",
    "# Calculate the standard deviation\n",
    "std1mps = np.std(case1mps)\n",
    "std2mps = np.std(case2mps)\n",
    "std3mps = np.std(case3mps)\n",
    "std4mps = np.std(case4mps)\n",
    "std5mps = np.std(case5mps)\n",
    "std6mps = np.std(case6mps)\n",
    "\n",
    "# Define labels, positions, bar heights and error bar heights\n",
    "labels = ['Case 1', 'Case 2', 'Case 3', 'Case 4', 'Case 5', 'Case 6']\n",
    "x_pos = np.arange(len(labels))\n",
    "CTEmps = [mean1mps, mean2mps, mean3mps, mean4mps, mean5mps, mean6mps]\n",
    "errormps = [std1mps, std2mps, std3mps, std4mps, std5mps, std6mps]"
   ],
   "metadata": {
    "collapsed": false,
    "pycharm": {
     "name": "#%%\n"
    }
   }
  },
  {
   "cell_type": "code",
   "execution_count": 22,
   "outputs": [
    {
     "data": {
      "text/plain": "<Figure size 650.323x238.411 with 1 Axes>",
      "image/png": "[encoded data removed]"
     },
     "metadata": {
      "needs_background": "light"
     },
     "output_type": "display_data"
    }
   ],
   "source": [
    "def set_size(w,h, ax=None):\n",
    "    \"\"\" w, h: width, height in inches \"\"\"\n",
    "    if not ax: ax=plt.gca()\n",
    "    l = ax.figure.subplotpars.left\n",
    "    r = ax.figure.subplotpars.right\n",
    "    t = ax.figure.subplotpars.top\n",
    "    b = ax.figure.subplotpars.bottom\n",
    "    figw = float(w)/(r-l)\n",
    "    figh = float(h)/(t-b)\n",
    "    ax.figure.set_size_inches(figw, figh)\n",
    "\n",
    "# Build the plot\n",
    "width = 0.25\n",
    "fig, ax = plt.subplots()\n",
    "ax.bar(x_pos-1.5*width, CTEn,\n",
    "       yerr=errorn,\n",
    "       align='center',\n",
    "       width = width*0.9,\n",
    "       alpha=0.5,\n",
    "       label = 'Naive Prediction',\n",
    "       ecolor='black',\n",
    "       capsize=10)\n",
    "\n",
    "ax.bar(x_pos+1.5*width, CTEmps,\n",
    "       yerr=errormps,\n",
    "       align='center',\n",
    "       width = width*0.9,\n",
    "       alpha=0.5,\n",
    "       label = 'Minimum Persistent and Silent Periods',\n",
    "       ecolor='black',\n",
    "       capsize=10)\n",
    "\n",
    "ax.bar(x_pos-width/2, CTEm,\n",
    "       yerr=errorm,\n",
    "       align='center',\n",
    "       width = width*0.9,\n",
    "       alpha=0.5,\n",
    "       label = 'Just Minimum Persistent',\n",
    "       ecolor='black',\n",
    "       capsize=10)\n",
    "\n",
    "ax.bar(x_pos+width/2, CTEs,\n",
    "       yerr=errors,\n",
    "       align='center',\n",
    "       width = width*0.9,\n",
    "       alpha=0.5,\n",
    "       label = 'Just Silent Periods',\n",
    "       ecolor='black',\n",
    "       capsize=10)\n",
    "\n",
    "ax.legend()\n",
    "ax.set_ylabel('Test MSE')\n",
    "ax.set_xticks(x_pos)\n",
    "ax.set_xticklabels(labels)\n",
    "# ax.set_title('Coefficent of Thermal Expansion (CTE) of Three Metals')\n",
    "ax.yaxis.grid(True)\n",
    "plt.title(\"Comparison of model performance in presence of ambient noise\")\n",
    "\n",
    "set_size(7,2.5)\n",
    "plt.tight_layout()\n",
    "plt.savefig('bar_plot_with_error_bars_noise.png')\n",
    "plt.show()"
   ],
   "metadata": {
    "collapsed": false,
    "pycharm": {
     "name": "#%%\n"
    }
   }
  },
  {
   "cell_type": "code",
   "execution_count": 14,
   "outputs": [],
   "source": [],
   "metadata": {
    "collapsed": false,
    "pycharm": {
     "name": "#%%\n"
    }
   }
  },
  {
   "cell_type": "code",
   "execution_count": null,
   "outputs": [],
   "source": [],
   "metadata": {
    "collapsed": false,
    "pycharm": {
     "name": "#%%\n"
    }
   }
  }
 ],
 "metadata": {
  "kernelspec": {
   "display_name": "Python 3",
   "language": "python",
   "name": "python3"
  },
  "language_info": {
   "codemirror_mode": {
    "name": "ipython",
    "version": 3
   },
   "file_extension": ".py",
   "mimetype": "text/x-python",
   "name": "python",
   "nbconvert_exporter": "python",
   "pygments_lexer": "ipython3",
   "version": "3.8.11"
  }
 },
 "nbformat": 4,
 "nbformat_minor": 5
}