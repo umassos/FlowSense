{
 "cells": [
  {
   "cell_type": "code",
   "execution_count": 1,
   "id": "61877515",
   "metadata": {},
   "outputs": [],
   "source": [
    "import speech_recognition as sr \n",
    "import numpy as np\n",
    "from scipy.io import wavfile"
   ]
  },
  {
   "cell_type": "code",
   "execution_count": 2,
   "id": "f4a7f1e6",
   "metadata": {},
   "outputs": [],
   "source": [
    "\n",
    "filename1 = \"fs.wav\"\n",
    "filename2 = \"new_filtered_fs.wav\"\n",
    "filename3 = \"subsampled_fs.wav\"\n",
    "filename4 = \"subsample_then_filter_fs.wav\"\n",
    "filename5 = \"filter_then_subsample_fs.wav\"\n",
    "\n",
    "\n",
    "r = sr.Recognizer()"
   ]
  },
  {
   "cell_type": "code",
   "execution_count": 5,
   "id": "6f4cc601",
   "metadata": {},
   "outputs": [
    {
     "name": "stdout",
     "output_type": "stream",
     "text": [
      "Possible transcriptions:\n",
      "{'alternative': [{'transcript': 'chosen is a novel sensing Paradigm that uses microphone as an air fuel sensor Stephen airstrikes on the microphone frequency components becomes highly dominant in the microphone signal based on this observation redesign test experiments to test the feasibility of using microphone as an air flow sensor', 'confidence': 0.64426684}, {'transcript': 'chosen is a novel sensing Paradigm that uses microphone as an air fuel sensor airstrikes on the microphone frequency components becomes highly dominant in the microphone signal based on this observation redesign test experiments to test the feasibility of using microphone as an air flow sensor'}, {'transcript': 'chosen is a novel sensing Paradigm that uses microphone as an air fuel sensor Stephen airstrikes on the microphone frequency confidence becomes highly dominant in the microphone signal based on this observation redesign test experiments to test the feasibility of using microphone as an air flow sensor'}, {'transcript': 'chosen is another sensing Paradigm that uses microphone as an air fuel sensor Stephen airstrikes on the microphone frequency components becomes highly dominant in the microphone signal based on this observation redesign test experiments to test the feasibility of using microphone as an air flow sensor'}, {'transcript': 'chosen is a novel sensing Paradigm that uses microphone as an air fuel sensor airstrikes on the microphone frequency confidence becomes highly dominant in the microphone signal based on this observation redesign test experiments to test the feasibility of using microphone as an air flow sensor'}], 'final': True}\n"
     ]
    }
   ],
   "source": [
    "import speech_recognition as sr\n",
    "r = sr.Recognizer()\n",
    "with sr.WavFile(filename1) as source:              # use \"test.wav\" as the audio source\n",
    "    audio = r.record(source)                        # extract audio data from the file\n",
    "\n",
    "try:\n",
    "    audio_list = r.recognize_google(audio, show_all=True)                  # generate a list of possible transcriptions\n",
    "    print(\"Possible transcriptions:\")\n",
    "    print (audio_list)\n",
    "except LookupError:                                 # speech is unintelligible\n",
    "    print(\"Could not understand audio\")"
   ]
  },
  {
   "cell_type": "code",
   "execution_count": 6,
   "id": "837c0d04",
   "metadata": {},
   "outputs": [
    {
     "name": "stdout",
     "output_type": "stream",
     "text": [
      "Possible transcriptions:\n",
      "[]\n"
     ]
    }
   ],
   "source": [
    "import speech_recognition as sr\n",
    "r = sr.Recognizer()\n",
    "with sr.WavFile(filename2) as source:              # use \"test.wav\" as the audio source\n",
    "    audio = r.record(source)                        # extract audio data from the file\n",
    "\n",
    "try:\n",
    "    audio_list2 = r.recognize_google(audio, show_all=True)                  # generate a list of possible transcriptions\n",
    "    print(\"Possible transcriptions:\")\n",
    "    print (audio_list2)\n",
    "except LookupError:                                 # speech is unintelligible\n",
    "    print(\"Could not understand audio\")"
   ]
  },
  {
   "cell_type": "code",
   "execution_count": null,
   "id": "1af1689d",
   "metadata": {},
   "outputs": [],
   "source": []
  }
 ],
 "metadata": {
  "kernelspec": {
   "display_name": "Python 3",
   "language": "python",
   "name": "python3"
  },
  "language_info": {
   "codemirror_mode": {
    "name": "ipython",
    "version": 3
   },
   "file_extension": ".py",
   "mimetype": "text/x-python",
   "name": "python",
   "nbconvert_exporter": "python",
   "pygments_lexer": "ipython3",
   "version": "3.9.2"
  }
 },
 "nbformat": 4,
 "nbformat_minor": 5
}
