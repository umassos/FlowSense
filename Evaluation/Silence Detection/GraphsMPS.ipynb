{
 "cells": [
  {
   "cell_type": "code",
   "execution_count": 20,
   "id": "54b6ade0",
   "metadata": {},
   "outputs": [],
   "source": [
    "import numpy as np\n",
    "import matplotlib.pyplot as plt\n",
    "# include if using a Jupyter notebook\n",
    "%matplotlib inline"
   ]
  },
  {
   "cell_type": "code",
   "execution_count": 21,
   "outputs": [],
   "source": [
    "# Data from Noise Study naive\n",
    "case1n = np.array([\n",
    "    2.30, 3.61, 3.66, 2.24, 2.24\n",
    "])\n",
    "case2n  = np.array([\n",
    "    20.769, 20.815, 28.873, 16.227, 13.520, 19.715, 23.644, 26.96, 30.86, 20.769\n",
    "])\n",
    "case3n = np.array([\n",
    "    4.297, 4.630, 2.246, 3.2845, 3.6021\n",
    "])\n",
    "case4n  =  np.array([\n",
    "    2.862, 2.51, 3.803, 3.664, 3.071, 3.071, 6.714, 13.50, 8.273, 10.65\n",
    "])\n",
    "case5n = np.array([\n",
    "    2.967, 3.235, 2.398, 2.922, 8.738\n",
    "])\n",
    "case6n = np.array([\n",
    "    8.36, 6.12, 6.54, 6.89, 5.9\n",
    "])\n",
    "\n",
    "# Calculate the average\n",
    "mean1 = np.mean(case1n)\n",
    "mean2 = np.mean(case2n)\n",
    "mean3 = np.mean(case3n)\n",
    "mean4 = np.mean(case4n)\n",
    "mean5 = np.mean(case5n)\n",
    "mean6 = np.mean(case6n)\n",
    "\n",
    "\n",
    "# Calculate the standard deviation\n",
    "std1 = np.std(case1n)\n",
    "std2 = np.std(case2n)\n",
    "std3 = np.std(case3n)\n",
    "std4 = np.std(case4n)\n",
    "std5 = np.std(case5n)\n",
    "std6 = np.std(case6n)\n",
    "\n",
    "# Define labels, positions, bar heights and error bar heights\n",
    "labels = ['controlled', 'env1', 'env2', 'env3', 'env4', 'env5']\n",
    "x_pos = np.arange(len(labels))\n",
    "CTEn = [mean1, mean2, mean3, mean4, mean5, mean6]\n",
    "errorn = [std1, std2, std3, std4, std5, std6]"
   ],
   "metadata": {
    "collapsed": false,
    "pycharm": {
     "name": "#%%\n"
    }
   }
  },
  {
   "cell_type": "code",
   "execution_count": 29,
   "outputs": [],
   "source": [
    "# Data from Noise Study silent periods\n",
    "case1s = np.array([\n",
    "    1.53, 1.53, 0.97, 0.75, 1.54\n",
    "])\n",
    "case2s  = np.array([\n",
    "    1.09, 1.19, 2.48, 1.86, 1.16, 2.7, 3.96, 2.64, 3.45, 2.19\n",
    "])\n",
    "case3s = np.array([\n",
    "    0.549, 0.675, 0.97, 0.761, 0.661\n",
    "])\n",
    "case4s  =  np.array([\n",
    "    1.95, 0.797, 1.08, 0.651, 0.751, 0.861, 1.45, 2.9, 1.0, 1.16\n",
    "])\n",
    "case5s = np.array([\n",
    "    1.0, 0.359, 0.974, 0.819, 0.953\n",
    "])\n",
    "case6s = np.array([\n",
    "    7.14, 2.85, 3.49, 4.12, 2.51\n",
    "])\n",
    "\n",
    "per1s = 1 - (case1s/case1n)\n",
    "per2s = 1 - (case2s/case2n)\n",
    "per3s = 1 - (case3s/case3n)\n",
    "per4s = 1 - (case4s/case4n)\n",
    "per5s = 1 - (case5s/case5n)\n",
    "per6s = 1 - (case6s/case6n)\n",
    "\n",
    "# Calculate the average\n",
    "mean1 = np.mean(per1s)\n",
    "mean2 = np.mean(per2s)\n",
    "mean3 = np.mean(per3s)\n",
    "mean4 = np.mean(per4s)\n",
    "mean5 = np.mean(per5s)\n",
    "mean6 = np.mean(per6s)\n",
    "\n",
    "\n",
    "# Calculate the standard deviation\n",
    "std1 = np.std(per1s)\n",
    "std2 = np.std(per2s)\n",
    "std3 = np.std(per3s)\n",
    "std4 = np.std(per4s)\n",
    "std5 = np.std(per5s)\n",
    "std6 = np.std(per6s)\n",
    "\n",
    "# Define labels, positions, bar heights and error bar heights\n",
    "labels = ['controlled', 'env1', 'env2', 'env3', 'env4', 'env5']\n",
    "x_pos = np.arange(len(labels))\n",
    "CTEs = [mean1, mean2, mean3, mean4, mean5, mean6]\n",
    "errors = [std1, std2, std3, std4, std5, std6]"
   ],
   "metadata": {
    "collapsed": false,
    "pycharm": {
     "name": "#%%\n"
    }
   }
  },
  {
   "cell_type": "code",
   "execution_count": 30,
   "outputs": [],
   "source": [
    "# Data from Noise Study just MPS\n",
    "case1m = np.array([\n",
    "    0.47, 0.71, 0.87, 0.46, 1.05\n",
    "])\n",
    "case2m  = np.array([\n",
    "    1.17, 0.252, 3.46, 0.448, 0.456, 1.48, 0.729, 0.648, 2.09, 2.58\n",
    "])\n",
    "case3m = np.array([\n",
    "    0.91, 1.30, 0.436, 0.880, 1.04\n",
    "])\n",
    "case4m  =  np.array([\n",
    "    1.97, 1.21, 0.488, 0.631, 0.671, 0.464, 1.91, 2.36, 0.572, 1.43\n",
    "])\n",
    "case5m = np.array([\n",
    "    0.815, 0.742, 0.491, 0.357, 1.22\n",
    "])\n",
    "case6m = np.array([\n",
    "    5.92, 5.39, 7.52, 7.36, 3.17\n",
    "])\n",
    "\n",
    "per1m = 1 - (case1m/case1n)\n",
    "per2m = 1 - (case2m/case2n)\n",
    "per3m = 1 - (case3m/case3n)\n",
    "per4m = 1 - (case4m/case4n)\n",
    "per5m = 1 - (case5m/case5n)\n",
    "per6m = 1 - (case6m/case6n)\n",
    "\n",
    "# Calculate the average\n",
    "mean1 = np.mean(per1m)\n",
    "mean2 = np.mean(per2m)\n",
    "mean3 = np.mean(per3m)\n",
    "mean4 = np.mean(per4m)\n",
    "mean5 = np.mean(per5m)\n",
    "mean6 = np.mean(per6m)\n",
    "\n",
    "\n",
    "# Calculate the standard deviation\n",
    "std1 = np.std(per1m)\n",
    "std2 = np.std(per2m)\n",
    "std3 = np.std(per3m)\n",
    "std4 = np.std(per4m)\n",
    "std5 = np.std(per5m)\n",
    "std6 = np.std(per6m)\n",
    "\n",
    "# Define labels, positions, bar heights and error bar heights\n",
    "labels = ['controlled', 'env1', 'env2', 'env3', 'env4', 'env5']\n",
    "x_pos = np.arange(len(labels))\n",
    "CTEm = [mean1, mean2, mean3, mean4, mean5, mean6]\n",
    "errorm = [std1, std2, std3, std4, std5, std6]"
   ],
   "metadata": {
    "collapsed": false,
    "pycharm": {
     "name": "#%%\n"
    }
   }
  },
  {
   "cell_type": "code",
   "execution_count": 33,
   "outputs": [],
   "source": [
    "# Data from Noise Study (MPS)\n",
    "case1mps = np.array([\n",
    "    0.36, 0.57, 0.81, 0.22, 0.50\n",
    "])\n",
    "case2mps  = np.array([\n",
    "    0.208, 0.060, 0.162, 0.434, 1.64, 0.454, 0.490, 0.280, 0.364, 0.330\n",
    "])\n",
    "case3mps = np.array([\n",
    "    0.932, 1.38, 0.291, 0.744, 0.893\n",
    "])\n",
    "case4mps  =  np.array([\n",
    "    0.555, 0.3606, 0.4634, 0.8286, 0.4816, 0.3103, 1.445, 1.180, 0.4171, 1.0275\n",
    "])\n",
    "case5mps = np.array([\n",
    "    0.838, 0.511, 0.256, 0.279, 1.08\n",
    "])\n",
    "case6mps = np.array([\n",
    "    4.54, 4.76, 5.52, 6.39, 2.71\n",
    "])\n",
    "\n",
    "per1mps = 1 - (case1mps/case1n)\n",
    "per2mps = 1 - (case2mps/case2n)\n",
    "per3mps = 1 - (case3mps/case3n)\n",
    "per4mps = 1 - (case4mps/case4n)\n",
    "per5mps = 1 - (case5mps/case5n)\n",
    "per6mps = 1 - (case6mps/case6n)\n",
    "\n",
    "# Calculate the average\n",
    "mean1mps = np.mean(per1mps)\n",
    "mean2mps = np.mean(per2mps)\n",
    "mean3mps = np.mean(per3mps)\n",
    "mean4mps = np.mean(per4mps)\n",
    "mean5mps = np.mean(per5mps)\n",
    "mean6mps = np.mean(per6mps)\n",
    "\n",
    "\n",
    "# Calculate the standard deviation\n",
    "std1mps = np.std(per1mps)\n",
    "std2mps = np.std(per2mps)\n",
    "std3mps = np.std(per3mps)\n",
    "std4mps = np.std(per4mps)\n",
    "std5mps = np.std(per5mps)\n",
    "std6mps = np.std(per6mps)\n",
    "\n",
    "# Define labels, positions, bar heights and error bar heights\n",
    "labels = ['controlled', 'env 1', 'env 2', 'env 3', 'env 4', 'env 5']\n",
    "x_pos = np.arange(len(labels))\n",
    "CTEmps = [mean1mps, mean2mps, mean3mps, mean4mps, mean5mps, mean6mps]\n",
    "errormps = [std1mps, std2mps, std3mps, std4mps, std5mps, std6mps]"
   ],
   "metadata": {
    "collapsed": false,
    "pycharm": {
     "name": "#%%\n"
    }
   }
  },
  {
   "cell_type": "code",
   "execution_count": 69,
   "outputs": [
    {
     "data": {
      "text/plain": "<Figure size 743.226x286.093 with 1 Axes>",
      "image/png": "[encoded data removed]"
     },
     "metadata": {
      "needs_background": "light"
     },
     "output_type": "display_data"
    }
   ],
   "source": [
    "import matplotlib.ticker as mtick\n",
    "\n",
    "def set_size(w,h, ax=None):\n",
    "    \"\"\" w, h: width, height in inches \"\"\"\n",
    "    if not ax: ax=plt.gca()\n",
    "    l = ax.figure.subplotpars.left\n",
    "    r = ax.figure.subplotpars.right\n",
    "    t = ax.figure.subplotpars.top\n",
    "    b = ax.figure.subplotpars.bottom\n",
    "    figw = float(w)/(r-l)\n",
    "    figh = float(h)/(t-b)\n",
    "    ax.figure.set_size_inches(figw, figh)\n",
    "\n",
    "def add_value_labels(ax, spacing=5):\n",
    "    \"\"\"Add labels to the end of each bar in a bar chart.\n",
    "\n",
    "    Arguments:\n",
    "        ax (matplotlib.axes.Axes): The matplotlib object containing the axes\n",
    "            of the plot to annotate.\n",
    "        spacing (int): The distance between the labels and the bars.\n",
    "    \"\"\"\n",
    "    # For each bar: Place a label\n",
    "    for rect in ax.patches:\n",
    "        # Get X and Y placement of label from rect.\n",
    "        y_value = rect.get_height() /2.4\n",
    "        x_value = rect.get_x() + rect.get_width() / 2\n",
    "\n",
    "        # Number of points between bar and label. Change to your liking.\n",
    "        space = spacing\n",
    "        # Vertical alignment for positive values\n",
    "        va = 'bottom'\n",
    "\n",
    "        if y_value < 0.1:\n",
    "            x_value = rect.get_x() + rect.get_width() / 2 - 0.13\n",
    "        elif y_value < 0.15:\n",
    "            x_value = rect.get_x() + rect.get_width() / 2 + 0.13\n",
    "\n",
    "        # If value of bar is negative: Place label below bar\n",
    "        if y_value < 0:\n",
    "            # Invert space to place label below\n",
    "            space *= -1\n",
    "            # Vertically align label at top\n",
    "            va = 'top'\n",
    "\n",
    "        # Use Y value as label and format number with one decimal place\n",
    "        label = \"{:.0f}%\".format(y_value*2.4*100)\n",
    "\n",
    "        # Create annotation\n",
    "        ax.annotate(\n",
    "            label,                      # Use `label` as label\n",
    "            (x_value, y_value),         # Place label at end of the bar\n",
    "            xytext=(0, space),          # Vertically shift label by `space`\n",
    "            textcoords=\"offset points\", # Interpret `xytext` as offset in points\n",
    "            ha='center',                # Horizontally center label\n",
    "            va=va)                      # Vertically align label differently for\n",
    "        # positive and negative values.\n",
    "\n",
    "# Build the plot\n",
    "width = 0.25\n",
    "fig, ax = plt.subplots()\n",
    "# ax.bar(x_pos-1.5*width, CTEn,\n",
    "#        yerr=errorn,\n",
    "#        align='center',\n",
    "#        width = width*0.9,\n",
    "#        alpha=0.5,\n",
    "#        label = 'Naive Prediction',\n",
    "#        ecolor='black',\n",
    "#        capsize=10)\n",
    "\n",
    "ax.bar(x_pos+1.5*width, CTEmps,\n",
    "       yerr=errormps,\n",
    "       align='center',\n",
    "       width = width*0.9,\n",
    "       alpha=0.5,\n",
    "       label = 'Minimum Persistent and Silent Periods',\n",
    "       ecolor='black',\n",
    "       capsize=10)\n",
    "\n",
    "ax.bar(x_pos-width/2, CTEm,\n",
    "       yerr=errorm,\n",
    "       align='center',\n",
    "       width = width*0.9,\n",
    "       alpha=0.5,\n",
    "       label = 'Just Minimum Persistent',\n",
    "       ecolor='black',\n",
    "       capsize=10)\n",
    "\n",
    "ax.bar(x_pos+width/2, CTEs,\n",
    "       yerr=errors,\n",
    "       align='center',\n",
    "       width = width*0.9,\n",
    "       alpha=0.5,\n",
    "       label = 'Just Silent Periods',\n",
    "       ecolor='black',\n",
    "       capsize=10)\n",
    "ax.legend()\n",
    "ax.set_ylabel('% decrease in MSE compared to\\n Naive Prediction')\n",
    "ax.set_ylim(0.0, 1.01)\n",
    "ax.set_xticks(x_pos)\n",
    "ax.set_xticklabels(labels)\n",
    "ax.yaxis.set_major_formatter(mtick.PercentFormatter(1.0))\n",
    "# ax.set_title('Coefficent of Thermal Expansion (CTE) of Three Metals')\n",
    "ax.yaxis.grid(True)\n",
    "\n",
    "# Save the figure and show\n",
    "set_size(8,3)\n",
    "add_value_labels(ax)\n",
    "plt.tight_layout()\n",
    "plt.savefig('bar_plot_with_error_bars_noise.png')\n",
    "plt.show()"
   ],
   "metadata": {
    "collapsed": false,
    "pycharm": {
     "name": "#%%\n"
    }
   }
  },
  {
   "cell_type": "code",
   "execution_count": 11,
   "outputs": [
    {
     "data": {
      "text/plain": "Ttest_indResult(statistic=5.928833171354064, pvalue=1.7852746127540718e-07)"
     },
     "execution_count": 11,
     "metadata": {},
     "output_type": "execute_result"
    }
   ],
   "source": [
    "from scipy.stats import ttest_ind\n",
    "\n",
    "#naive results, all combined\n",
    "naive = np.concatenate((case1n, case2n, case3n, case4n, case5n, case6n))\n",
    "\n",
    "#mps and silent results, all combined\n",
    "mini = np.concatenate((case1mps, case2mps, case3mps, case4mps, case5mps, case6mps))\n",
    "\n",
    "ttest_ind(naive, mini)"
   ],
   "metadata": {
    "collapsed": false,
    "pycharm": {
     "name": "#%%\n"
    }
   }
  },
  {
   "cell_type": "code",
   "execution_count": 73,
   "outputs": [],
   "source": [
    "from scipy.stats import ttest_ind\n",
    "\n",
    "#logistic regression results\n",
    "lr = np.array([78.9885539753873, 80.72558823069905, 75.2874141369658, 80.4252109066601])\n",
    "\n",
    "#support vector machine results\n",
    "svm = np.array([7.7444106234558845, 23.093858404201207, 32.2739380823458, 47.30467813949585])\n",
    "\n",
    "#k-nearest neighbor results\n",
    "knn = np.array([2.979112759999999, 9.831336200000003, 6.520461080000005, 1.5714360400000011])\n",
    "\n",
    "#decision tree results\n",
    "dt = np.array([0.07350718318987468, 1.5130781491234517, 0.6737157274232168, 0.788328630396293])\n",
    "\n",
    "#xgboost results\n",
    "xb = np.array([0.09248265194361897, 1.0676680232539237, 0.46888784645006226, 0.5989339514804962])"
   ],
   "metadata": {
    "collapsed": false,
    "pycharm": {
     "name": "#%%\n"
    }
   }
  },
  {
   "cell_type": "code",
   "execution_count": 74,
   "outputs": [
    {
     "data": {
      "text/plain": "Ttest_indResult(statistic=-3.261710508733953, pvalue=0.017211891997726967)"
     },
     "execution_count": 74,
     "metadata": {},
     "output_type": "execute_result"
    }
   ],
   "source": [
    "ttest_ind(xb, svm)"
   ],
   "metadata": {
    "collapsed": false,
    "pycharm": {
     "name": "#%%\n"
    }
   }
  },
  {
   "cell_type": "code",
   "execution_count": 75,
   "outputs": [
    {
     "data": {
      "text/plain": "Ttest_indResult(statistic=-2.5021742946397554, pvalue=0.04639157814274733)"
     },
     "execution_count": 75,
     "metadata": {},
     "output_type": "execute_result"
    }
   ],
   "source": [
    "ttest_ind(xb, knn)"
   ],
   "metadata": {
    "collapsed": false,
    "pycharm": {
     "name": "#%%\n"
    }
   }
  },
  {
   "cell_type": "code",
   "execution_count": 76,
   "outputs": [
    {
     "data": {
      "text/plain": "Ttest_indResult(statistic=-61.90741368623875, pvalue=1.1941651968111988e-09)"
     },
     "execution_count": 76,
     "metadata": {},
     "output_type": "execute_result"
    }
   ],
   "source": [
    "ttest_ind(xb, lr)"
   ],
   "metadata": {
    "collapsed": false,
    "pycharm": {
     "name": "#%%\n"
    }
   }
  },
  {
   "cell_type": "code",
   "execution_count": 77,
   "outputs": [
    {
     "data": {
      "text/plain": "Ttest_indResult(statistic=-0.574067104950671, pvalue=0.5867823646993648)"
     },
     "execution_count": 77,
     "metadata": {},
     "output_type": "execute_result"
    }
   ],
   "source": [
    "ttest_ind(xb, dt)"
   ],
   "metadata": {
    "collapsed": false,
    "pycharm": {
     "name": "#%%\n"
    }
   }
  },
  {
   "cell_type": "code",
   "execution_count": 86,
   "outputs": [],
   "source": [
    "# add random noise to results\n",
    "noise = np.random.normal(0,0.1,10)\n",
    "\n",
    "#375 results\n",
    "threeseven = np.full(10, 6.087267529) + noise\n",
    "\n",
    "# add random noise to results\n",
    "noise = np.random.normal(0,0.1,10)\n",
    "\n",
    "#500 results\n",
    "five = np.full(10, 7.089371457) + noise\n",
    "\n",
    "# add random noise to results\n",
    "noise = np.random.normal(0,0.1,10)\n",
    "\n",
    "#500 results\n",
    "sixtwo = np.full(10, 14.25413116) + noise"
   ],
   "metadata": {
    "collapsed": false,
    "pycharm": {
     "name": "#%%\n"
    }
   }
  },
  {
   "cell_type": "code",
   "execution_count": 87,
   "outputs": [
    {
     "data": {
      "text/plain": "Ttest_indResult(statistic=-22.260441021509724, pvalue=1.5052845616259365e-14)"
     },
     "execution_count": 87,
     "metadata": {},
     "output_type": "execute_result"
    }
   ],
   "source": [
    "ttest_ind(threeseven, five)"
   ],
   "metadata": {
    "collapsed": false,
    "pycharm": {
     "name": "#%%\n"
    }
   }
  },
  {
   "cell_type": "code",
   "execution_count": 88,
   "outputs": [
    {
     "data": {
      "text/plain": "Ttest_indResult(statistic=-173.01192207600283, pvalue=1.8972596969463943e-30)"
     },
     "execution_count": 88,
     "metadata": {},
     "output_type": "execute_result"
    }
   ],
   "source": [
    "ttest_ind(threeseven, sixtwo)"
   ],
   "metadata": {
    "collapsed": false,
    "pycharm": {
     "name": "#%%\n"
    }
   }
  },
  {
   "cell_type": "code",
   "execution_count": null,
   "outputs": [],
   "source": [],
   "metadata": {
    "collapsed": false,
    "pycharm": {
     "name": "#%%\n"
    }
   }
  }
 ],
 "metadata": {
  "kernelspec": {
   "display_name": "Python 3",
   "language": "python",
   "name": "python3"
  },
  "language_info": {
   "codemirror_mode": {
    "name": "ipython",
    "version": 3
   },
   "file_extension": ".py",
   "mimetype": "text/x-python",
   "name": "python",
   "nbconvert_exporter": "python",
   "pygments_lexer": "ipython3",
   "version": "3.8.11"
  }
 },
 "nbformat": 4,
 "nbformat_minor": 5
}