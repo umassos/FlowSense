{
 "cells": [
  {
   "cell_type": "code",
   "execution_count": 1,
   "id": "eef0ea1b",
   "metadata": {},
   "outputs": [],
   "source": [
    "import numpy as np\n",
    "import matplotlib.pyplot as plt\n",
    "# include if using a Jupyter notebook\n",
    "%matplotlib inline"
   ]
  },
  {
   "cell_type": "code",
   "execution_count": 2,
   "id": "29f750fd",
   "metadata": {},
   "outputs": [],
   "source": [
    "# Data\n",
    "dist0_5 = np.array([1.10, 0.86, 0.88, 1.02, 0.95])\n",
    "dist_1  = np.array([2.68, 1.47, 2.94, 1.95, 1.08])\n",
    "dist1_5 = np.array([0.405, 1.24, 1.77, 6.11, 3.36])\n",
    "dist2_25  =  np.array([1.20, 1.26, 1.75, 1.00, 1.15])\n",
    "dist3 = np.array([3.64, 3.69, 1.19, 2.44, 6.04])\n",
    "\n",
    "# Calculate the average\n",
    "mean1 = np.mean(dist0_5)\n",
    "mean2 = np.mean(dist_1)\n",
    "mean3 = np.mean(dist1_5)\n",
    "mean4 = np.mean(dist2_25)\n",
    "mean5 = np.mean(dist3)\n",
    "\n",
    "\n",
    "# Calculate the standard deviation\n",
    "std1 = np.std(dist0_5)\n",
    "std2 = np.std(dist_1)\n",
    "std3 = np.std(dist1_5)\n",
    "std4 = np.std(dist2_25)\n",
    "std5 = np.std(dist3)\n",
    "\n",
    "# Define labels, positions, bar heights and error bar heights\n",
    "labels = ['0.5m', '1m', '1.5m', '2.25m']\n",
    "x_pos = np.arange(len(labels))\n",
    "CTEs0 = [mean1, mean2, mean3, mean4]\n",
    "error0 = [std1, std2, std3, std4]"
   ]
  },
  {
   "cell_type": "code",
   "execution_count": 3,
   "id": "00fb82ec",
   "metadata": {},
   "outputs": [],
   "source": [
    "# Data\n",
    "dist0_5 = np.array([1.19, 1.62, 1.00, 1.21, 1.09])\n",
    "dist_1  = np.array([1.47, 0.64, 0.58, 0.62, 0.59])\n",
    "dist1_5 = np.array([3.78, 2.89, 0.61, 0.60, 0.66, 0.33])\n",
    "dist2_25  =  np.array([11.09, 2.57, 2.50, 3.11, 4.61])\n",
    "\n",
    "# Calculate the average\n",
    "mean190 = np.mean(dist0_5)\n",
    "mean290 = np.mean(dist_1)\n",
    "mean390 = np.mean(dist1_5)\n",
    "mean490 = np.mean(dist2_25)\n",
    "\n",
    "\n",
    "# Calculate the standard deviation\n",
    "std190 = np.std(dist0_5)\n",
    "std290 = np.std(dist_1)\n",
    "std390 = np.std(dist1_5)\n",
    "std490 = np.std(dist2_25)\n",
    "\n",
    "# Define labels, positions, bar heights and error bar heights\n",
    "labels = ['0.5m', '1m', '1.5m', '2.25m']\n",
    "x_pos = np.arange(len(labels))\n",
    "CTEs90 = [mean190, mean290, mean390, mean490]\n",
    "error90 = [std190, std290, std390, std490]"
   ]
  },
  {
   "cell_type": "code",
   "execution_count": 7,
   "id": "1ea90702",
   "metadata": {},
   "outputs": [],
   "source": [
    "# Data\n",
    "dist0_5 = np.array([2.54, 1.18, 0.95, 1.30, 1.02]\n",
    ")\n",
    "dist_1  = np.array([1.33, 3.54, 0.85, 0.98, 1.30]\n",
    ")\n",
    "dist1_5 = np.array([1.64, 1.19, 0.78, 2.30, 2.79, 0.41]\n",
    ")\n",
    "dist2_25  =  np.array([0.80, 4.49, 6.36, 14.19, 8.72]\n",
    ")\n",
    "\n",
    "# Calculate the average\n",
    "mean1180 = np.mean(dist0_5)\n",
    "mean2180 = np.mean(dist_1)\n",
    "mean3180 = np.mean(dist1_5)\n",
    "mean4180 = np.mean(dist2_25)\n",
    "\n",
    "\n",
    "# Calculate the standard deviation\n",
    "std1180 = np.std(dist0_5)\n",
    "std2180 = np.std(dist_1)\n",
    "std3180 = np.std(dist1_5)\n",
    "std4180 = np.std(dist2_25)\n",
    "\n",
    "# Define labels, positions, bar heights and error bar heights\n",
    "labels = ['0.5m', '1m', '1.5m', '2.25m']\n",
    "x_pos = np.arange(len(labels))\n",
    "CTEs180 = [mean1180, mean2180, mean3180, mean4180]\n",
    "error180 = [std1180, std2180, std3180, std4180]"
   ]
  },
  {
   "cell_type": "code",
   "execution_count": 10,
   "id": "5831e367",
   "metadata": {},
   "outputs": [
    {
     "data": {
      "image/png": "[encoded data removed]",
      "text/plain": [
       "<Figure size 432x288 with 1 Axes>"
      ]
     },
     "metadata": {
      "needs_background": "light"
     },
     "output_type": "display_data"
    }
   ],
   "source": [
    "# Build the plot\n",
    "width = 0.25\n",
    "fig, ax = plt.subplots()\n",
    "ax.bar(x_pos, CTEs0,\n",
    "       yerr=error0,\n",
    "       align='center',\n",
    "       width = width,\n",
    "       alpha=0.5,\n",
    "       label = '0 degrees',\n",
    "       ecolor='black',\n",
    "       capsize=10)\n",
    "\n",
    "ax.bar(x_pos+width, CTEs90,\n",
    "       yerr=error90,\n",
    "       align='center',\n",
    "       width = width,\n",
    "       alpha=0.5,\n",
    "       label = '90 degrees',\n",
    "       ecolor='black',\n",
    "       capsize=10)\n",
    "\n",
    "ax.bar(x_pos+2*width, CTEs180,\n",
    "       yerr=error180,\n",
    "       align='center',\n",
    "       width = width,\n",
    "       alpha=0.5,\n",
    "       label = '180 degrees',\n",
    "       ecolor='black',\n",
    "       capsize=10)\n",
    "ax.legend()\n",
    "ax.set_ylabel('Test MSE')\n",
    "ax.set_xticks(x_pos)\n",
    "ax.set_xticklabels(labels)\n",
    "# ax.set_title('Coefficent of Thermal Expansion (CTE) of Three Metals')\n",
    "ax.yaxis.grid(True)\n",
    "\n",
    "# Save the figure and show\n",
    "plt.tight_layout()\n",
    "plt.savefig('bar_plot_with_error_bars.png')\n",
    "plt.show()"
   ]
  },
  {
   "cell_type": "code",
   "execution_count": null,
   "id": "61a54a8e",
   "metadata": {
    "scrolled": true
   },
   "outputs": [],
   "source": [
    "import pandas as pd\n",
    "import matplotlib.pyplot as plt\n",
    "df = pd.DataFrame([[4,6,1,3], [5,7,5,2]], columns = ['mean1', 'mean2', 'std1', 'std2'], index=['A', 'B'])\n",
    "print(df)\n",
    "\n",
    "df[['mean1', 'mean2']].plot(kind='bar', yerr=df[['std1', 'std2']].values.T, alpha = 0.5,error_kw=dict(ecolor='k'))\n",
    "plt.show()"
   ]
  },
  {
   "cell_type": "code",
   "execution_count": 22,
   "id": "5625fc8c",
   "metadata": {},
   "outputs": [
    {
     "data": {
      "image/png": "[encoded data removed]",
      "text/plain": [
       "<Figure size 720x576 with 1 Axes>"
      ]
     },
     "metadata": {
      "needs_background": "light"
     },
     "output_type": "display_data"
    }
   ],
   "source": [
    "import numpy as np\n",
    "import matplotlib.pyplot as plt\n",
    "\n",
    "n = ['0.5m', '1m', '1.5m', '2.25m']\n",
    "train_accuracy = [0.999, 0.997, 0.996, 0.986\n",
    "]\n",
    "test_accuracy = [ 0.978, 0.962, 0.959, 0.938\n",
    "\n",
    "\n",
    " ]\n",
    "precision = [0.983 , 0.965, 0.960, 0.940\n",
    "\n",
    "\n",
    " ]\n",
    "recall = [0.974, 0.958, 0.958, 0.937\n",
    "\n",
    "\n",
    "]\n",
    "f1 = [0.974, 0.958, 0.958,  0.937\n",
    "\n",
    "\n",
    " ]\n",
    "\n",
    "\n",
    "r = np.arange(len(n))\n",
    "width = 0.25\n",
    "  \n",
    "plt.figure(figsize=(10,8))\n",
    "plt.bar(r, train_accuracy, \n",
    "        width = width, edgecolor = 'black',\n",
    "        label='Train accuracy')\n",
    "plt.bar(r + width, test_accuracy,         width = width, edgecolor = 'black',\n",
    "        label='Test accuracy')\n",
    "\n",
    "plt.bar(r + 2*width, precision,         width = width, edgecolor = 'black',\n",
    "        label='Precision')\n",
    "\n",
    "plt.bar(r + 3*width, recall,         width = width, edgecolor = 'black',\n",
    "        label='Recall')\n",
    "plt.bar(r + 4*width, f1, \n",
    "        width = width, edgecolor = 'black',\n",
    "        label='F1 score')\n",
    "\n",
    "  \n",
    "plt.xlabel(\"Distances\")\n",
    "# plt.ylabel(\"Number of people voted\")\n",
    "# plt.title(\"Number of people voted in each year\")\n",
    "  \n",
    "# plt.grid(linestyle='--')\n",
    "plt.xticks(r + width,['0.5m', '1m', '1.5m', '2.25m'])\n",
    "plt.legend()\n",
    "  \n",
    "plt.show()"
   ]
  },
  {
   "cell_type": "code",
   "execution_count": null,
   "id": "02700119",
   "metadata": {},
   "outputs": [],
   "source": []
  }
 ],
 "metadata": {
  "kernelspec": {
   "display_name": "Python 3",
   "language": "python",
   "name": "python3"
  },
  "language_info": {
   "codemirror_mode": {
    "name": "ipython",
    "version": 3
   },
   "file_extension": ".py",
   "mimetype": "text/x-python",
   "name": "python",
   "nbconvert_exporter": "python",
   "pygments_lexer": "ipython3",
   "version": "3.8.11"
  }
 },
 "nbformat": 4,
 "nbformat_minor": 5
}
