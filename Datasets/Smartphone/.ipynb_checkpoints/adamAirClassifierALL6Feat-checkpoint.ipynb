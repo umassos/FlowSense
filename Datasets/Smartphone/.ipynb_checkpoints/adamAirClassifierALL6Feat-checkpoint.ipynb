{
 "cells": [
  {
   "cell_type": "code",
   "execution_count": 4,
   "metadata": {},
   "outputs": [],
   "source": [
    "import numpy as np\n",
    "import pandas as pd\n",
    "from pathlib import Path\n",
    "import torch\n",
    "from torch import nn\n",
    "import torch.nn.functional as F\n",
    "import matplotlib.pyplot as plt\n",
    "from sklearn.model_selection import learning_curve\n",
    "from sklearn.metrics import mean_squared_error\n",
    "from sklearn import datasets, ensemble\n",
    "from sklearn.inspection import permutation_importance\n",
    "import os\n",
    "import glob\n",
    "from sklearn.ensemble import GradientBoostingClassifier\n",
    "from sklearn import neighbors\n",
    "from sklearn import datasets, linear_model, metrics\n",
    "\n",
    "from sklearn.svm import SVR\n",
    "from sklearn.tree import DecisionTreeRegressor\n",
    "from sklearn.linear_model import LogisticRegression, LogisticRegressionCV, LinearRegression\n",
    "from sklearn.metrics import confusion_matrix, accuracy_score, recall_score, precision_score, f1_score\n",
    "from sklearn.model_selection import train_test_split\n",
    "from sklearn.preprocessing import StandardScaler\n",
    "from sklearnex import patch_sklearn\n",
    "\n",
    "pd.set_option('display.max_colwidth', None)\n",
    "\n",
    "np.random.seed(0)"
   ]
  },
  {
   "cell_type": "code",
   "execution_count": 5,
   "metadata": {},
   "outputs": [
    {
     "name": "stderr",
     "output_type": "stream",
     "text": [
      "Intel(R) Extension for Scikit-learn* enabled (https://github.com/intel/scikit-learn-intelex)\n"
     ]
    }
   ],
   "source": [
    "# Params\n",
    "params = {'learning_rate': 0.2,\n",
    "          'n_estimators': 500,\n",
    "          'min_samples_split': 5,\n",
    "          'max_depth': 6}\n",
    "\n",
    "patch_sklearn()\n",
    "\n",
    "def convert(df: pd.DataFrame, frame_size=10):\n",
    "    x = np.asarray(df.iloc[:, 1]).reshape(-1, frame_size)\n",
    "#     x = x[x.shape[0]//10:-x.shape[0]//10]\n",
    "    return x"
   ]
  },
  {
   "cell_type": "code",
   "execution_count": 62,
   "metadata": {},
   "outputs": [],
   "source": [
    "data_dir = Path(\"./50cm\") \n",
    "df1 = pd.read_csv(data_dir / \"fft_50_0_Vent1_0.txt\", low_memory=False, names= ['frequency','amplitude'] , index_col = False)\n",
    "df1 = df1[df1['frequency'] != \"clocktime\"]\n",
    "df1 = df1.dropna()\n",
    "df1 = convert(df1)\n",
    "# df36 = df36[:129*198]\n",
    "\n",
    "df2 = pd.read_csv(data_dir / \"fft_50_180_Vent1_0.txt\", low_memory=False, names= ['frequency','amplitude'] , index_col = False)\n",
    "df2 = df2[df2['frequency'] != \"clocktime\"]\n",
    "df2 = df2.dropna()\n",
    "df2 = convert(df2)\n",
    "\n",
    "df3 = pd.read_csv(data_dir / \"fft_50_90_Vent1_0.txt\", low_memory=False, names= ['frequency','amplitude'] , index_col = False)\n",
    "df3 = df3[df3['frequency'] != \"clocktime\"]\n",
    "df3 = df3.dropna()\n",
    "df3 = convert(df3)\n",
    "\n",
    "\n",
    "data_dir = Path(\"./1m\") \n",
    "df4 = pd.read_csv(data_dir / \"fft_100_0_Vent1_0.txt\", low_memory=False, names= ['frequency','amplitude'] , index_col = False)\n",
    "df4 = df4[df4['frequency'] != \"clocktime\"]\n",
    "df4 = df4.dropna()\n",
    "df4 = convert(df4)\n",
    "\n",
    "# df36 = df36[:129*198]\n",
    "\n",
    "df5 = pd.read_csv(data_dir / \"fft_100_180_Vent1_0.txt\", low_memory=False, names= ['frequency','amplitude'] , index_col = False)\n",
    "df5 = df5[df5['frequency'] != \"clocktime\"]\n",
    "df5 = df5.dropna()\n",
    "df5 = convert(df5)\n",
    "\n",
    "\n",
    "df6 = pd.read_csv(data_dir / \"fft_100_90_Vent1_0.txt\", low_memory=False, names= ['frequency','amplitude'] , index_col = False)\n",
    "df6 = df6[df6['frequency'] != \"clocktime\"]\n",
    "df6 = df6.dropna()\n",
    "df6 = convert(df6)\n",
    "\n",
    "\n",
    "data_dir = Path(\"./1.5m\") \n",
    "df7 = pd.read_csv(data_dir / \"fft_150_0_Vent1_0.txt\", low_memory=False, names= ['frequency','amplitude'] , index_col = False)\n",
    "df7 = df7[df7['frequency'] != \"clocktime\"]\n",
    "df7 = df7.dropna()\n",
    "df7 = convert(df7)\n",
    "\n",
    "\n",
    "data_dir = Path(\"./1.5m\") \n",
    "df8 = pd.read_csv(data_dir / \"fft_150_90_Vent1_0.txt\", low_memory=False, names= ['frequency','amplitude'] , index_col = False)\n",
    "df8 = df8[df8['frequency'] != \"clocktime\"]\n",
    "df8 = df8.dropna()\n",
    "df8 = convert(df8)\n",
    "\n",
    "\n",
    "data_dir = Path(\"./1.5m\") \n",
    "df9 = pd.read_csv(data_dir / \"fft_150_180_Vent1_0.txt\", low_memory=False, names= ['frequency','amplitude'] , index_col = False)\n",
    "df9 = df9[df9['frequency'] != \"clocktime\"]\n",
    "df9 = df9.dropna()\n",
    "df9 = convert(df9)\n",
    "\n",
    "\n",
    "data_dir = Path(\"./SideVent\") \n",
    "df10 = pd.read_csv(data_dir / \"fft_0_0_SideVent_0.txt\", low_memory=False, names= ['frequency','amplitude'] , index_col = False)\n",
    "df10 = df10[df10['frequency'] != \"clocktime\"]\n",
    "df10 = df10.dropna()\n",
    "df10 = convert(df10)\n",
    "\n",
    "\n",
    "data_dir = Path(\"./2.25m\") \n",
    "df11 = pd.read_csv(data_dir / \"fft_225_90_Vent1_0.txt\", low_memory=False, names= ['frequency','amplitude'] , index_col = False)\n",
    "df11 = df11[df11['frequency'] != \"clocktime\"]\n",
    "df11 = df11.dropna()\n",
    "df11 = convert(df11)\n",
    "\n",
    "df12 = pd.read_csv(data_dir / \"fft_225_90_Vent2_0.txt\", low_memory=False, names= ['frequency','amplitude'] , index_col = False)\n",
    "df12 = df12[df12['frequency'] != \"clocktime\"]\n",
    "df12 = df12.dropna()\n",
    "df12 = convert(df12)\n",
    "\n",
    "df13 = pd.read_csv(data_dir / \"fft_225_180_Vent1_0.txt\", low_memory=False, names= ['frequency','amplitude'] , index_col = False)\n",
    "df13 = df13[df13['frequency'] != \"clocktime\"]\n",
    "df13 = df13.dropna()\n",
    "df13 = convert(df13)\n",
    "\n",
    "df14 = pd.read_csv(data_dir / \"fft_225_0_Vent1_0.txt\", low_memory=False, names= ['frequency','amplitude'] , index_col = False)\n",
    "df14 = df14[df14['frequency'] != \"clocktime\"]\n",
    "df14 = df14.dropna()\n",
    "df14 = convert(df14)\n",
    "\n",
    "data_dir = Path(\"./NoAir-Data\") \n",
    "df15 = pd.read_csv(data_dir / \"fft_NOAIR1.txt\", low_memory=False, names= ['frequency','amplitude'] , index_col = False)\n",
    "df15 = df15[df15['frequency'] != \"clocktime\"]\n",
    "df15 = df15.dropna()\n",
    "df15 = convert(df15)\n",
    "\n",
    "df16 = pd.read_csv(data_dir / \"fft_NOAIR2.txt\", low_memory=False, names= ['frequency','amplitude'] , index_col = False)\n",
    "df16 = df16[df16['frequency'] != \"clocktime\"]\n",
    "df16 = df16.dropna()\n",
    "df16 = convert(df16)\n",
    "\n",
    "# print(df15[:,9].max(), df16[:,9].max())\n",
    "\n",
    "# i = 0\n",
    "# while i < df15.shape[0]:\n",
    "#     if df15[i,9] > 3.0:\n",
    "#         df15 = np.delete(df15, i, axis = 0)\n",
    "#     else:\n",
    "#         i += 1\n",
    "\n",
    "# print(df15[:,9].max(), df16[:,9].max())\n",
    "\n",
    "# i = 0\n",
    "# while i < df16.shape[0]:\n",
    "#     if df16[i,9] > 3.0:\n",
    "#         df16 = np.delete(df16, i, axis = 0)\n",
    "#     else:\n",
    "#         i += 1\n",
    "    \n",
    "# df15_final = df15\n",
    "# df16_final = df16\n",
    "        \n",
    "# print(df15[:,9].max(), df16[:,9].max())"
   ]
  },
  {
   "cell_type": "code",
   "execution_count": 63,
   "metadata": {},
   "outputs": [
    {
     "name": "stdout",
     "output_type": "stream",
     "text": [
      "[[ 56.      65.6098  34.8674 ...  28.       2.75     0.    ]\n",
      " [ 20.     116.041   78.2427 ...  16.       2.82     0.    ]\n",
      " [ 10.      76.1686 114.066  ...  38.       2.75     0.    ]\n",
      " ...\n",
      " [  0.      36.4319  26.3913 ...   4.       2.82     0.    ]\n",
      " [ 78.      84.0899  26.2492 ...   2.       2.95     0.    ]\n",
      " [ 72.      19.6024  22.7432 ...   0.       2.63     0.    ]]\n"
     ]
    }
   ],
   "source": [
    "def indices(df):\n",
    "#     return np.random.choice(df.shape[0], size=2000, replace=False, p=None)\n",
    "    return df[2000:7000]\n",
    "\n",
    "ones = np.ones(5000).reshape(-1, 1)\n",
    "zeroes = np.zeros(20000).reshape(-1, 1)\n",
    "\n",
    "#LABELED DATA W/ AIRFLOW\n",
    "\n",
    "df1 = np.append(indices(df1), ones, 1)\n",
    "df4 = np.append(indices(df4), ones, 1)\n",
    "df5 = np.append(indices(df5), ones, 1)\n",
    "df6 = np.append(indices(df6), ones, 1)\n",
    "df7 = np.append(indices(df7), ones, 1)\n",
    "df8 = np.append(indices(df8), ones, 1)\n",
    "df11 = np.append(indices(df11), ones, 1)\n",
    "df14 = np.append(indices(df14), ones, 1)\n",
    "\n",
    "#LABELED DATA W/OUT AIRFLOW\n",
    "df15 = np.append(df15[:20000], zeroes, 1)\n",
    "df16 = np.append(df16[:20000], zeroes, 1)\n",
    "\n",
    "print(df15)"
   ]
  },
  {
   "cell_type": "code",
   "execution_count": 64,
   "metadata": {},
   "outputs": [
    {
     "name": "stdout",
     "output_type": "stream",
     "text": [
      "(80000, 11)\n"
     ]
    }
   ],
   "source": [
    "df = np.concatenate([df1, df4, df5, df6, df7, df8, df11, df14, df15, df16], axis=0)\n",
    "#df = df1.append([df4])\n",
    "\n",
    "# New change\n",
    "np.random.shuffle(df)\n",
    "print(df.shape)"
   ]
  },
  {
   "cell_type": "code",
   "execution_count": 65,
   "metadata": {},
   "outputs": [],
   "source": [
    "data = df"
   ]
  },
  {
   "cell_type": "code",
   "execution_count": 66,
   "metadata": {},
   "outputs": [
    {
     "data": {
      "text/plain": [
       "(80000, 5)"
      ]
     },
     "execution_count": 66,
     "metadata": {},
     "output_type": "execute_result"
    }
   ],
   "source": [
    "X = data[:,:-1]\n",
    "\n",
    "X = X[:, :5]\n",
    "X.shape"
   ]
  },
  {
   "cell_type": "code",
   "execution_count": 67,
   "metadata": {},
   "outputs": [
    {
     "data": {
      "text/plain": [
       "array([[ 32.    ,  19.4392,   5.4458,   4.025 ,   2.8284],\n",
       "       [ 72.    ,  13.6312,  13.1474,  16.8123,   6.3246],\n",
       "       [ 30.    ,  27.12  ,  50.8539,  34.7557,  46.6905],\n",
       "       ...,\n",
       "       [ 58.    , 149.8176, 126.4999,  29.2736,  32.5576],\n",
       "       [ 86.    ,  48.4896,  62.2044,  50.1576,  10.7703],\n",
       "       [  4.    ,  21.3077,  15.4206,  16.9935,  22.0907]])"
      ]
     },
     "execution_count": 67,
     "metadata": {},
     "output_type": "execute_result"
    }
   ],
   "source": [
    "X"
   ]
  },
  {
   "cell_type": "code",
   "execution_count": 68,
   "metadata": {},
   "outputs": [
    {
     "data": {
      "text/plain": [
       "(80000,)"
      ]
     },
     "execution_count": 68,
     "metadata": {},
     "output_type": "execute_result"
    }
   ],
   "source": [
    "y = data[:, -1]\n",
    "y.shape\n"
   ]
  },
  {
   "cell_type": "code",
   "execution_count": 69,
   "metadata": {},
   "outputs": [
    {
     "data": {
      "text/plain": [
       "array([0., 0., 1., ..., 1., 1., 0.])"
      ]
     },
     "execution_count": 69,
     "metadata": {},
     "output_type": "execute_result"
    }
   ],
   "source": [
    "y"
   ]
  },
  {
   "cell_type": "code",
   "execution_count": 70,
   "metadata": {},
   "outputs": [
    {
     "name": "stdout",
     "output_type": "stream",
     "text": [
      "(80000, 5) (80000,)\n"
     ]
    }
   ],
   "source": [
    "print (X.shape, y.shape)"
   ]
  },
  {
   "cell_type": "code",
   "execution_count": 75,
   "metadata": {},
   "outputs": [],
   "source": [
    "X_train, X_test, y_train, y_test = train_test_split(X, y, test_size=0.2)"
   ]
  },
  {
   "cell_type": "code",
   "execution_count": 107,
   "metadata": {},
   "outputs": [
    {
     "name": "stdout",
     "output_type": "stream",
     "text": [
      "Accuracy from sk-learn: 0.9025625\n",
      "Train score:  0.954296875\n"
     ]
    }
   ],
   "source": [
    "# Params\n",
    "params = {'learning_rate': 0.2,\n",
    "          'n_estimators': 500,\n",
    "          'min_samples_split': 5,\n",
    "          'max_depth': 5}\n",
    "\n",
    "clf = GradientBoostingClassifier(**params)\n",
    "clf.fit(X_train, y_train.ravel())\n",
    "\n",
    "print('Accuracy from sk-learn: {0}'.format(clf.score(X_test, y_test)))\n",
    "print(\"Train score: \", clf.score(X_train, y_train))"
   ]
  },
  {
   "cell_type": "code",
   "execution_count": 108,
   "metadata": {},
   "outputs": [],
   "source": [
    "y_pred = clf.predict(X_test)\n",
    "y_train_pred = clf.predict(X_train)"
   ]
  },
  {
   "cell_type": "code",
   "execution_count": 109,
   "metadata": {},
   "outputs": [
    {
     "name": "stdout",
     "output_type": "stream",
     "text": [
      "[1. 1. 1. 0. 0.]\n",
      "[1. 1. 1. 0. 0.]\n"
     ]
    }
   ],
   "source": [
    "print(y_pred[:5])\n",
    "print(y_test[:5])"
   ]
  },
  {
   "cell_type": "code",
   "execution_count": 110,
   "metadata": {},
   "outputs": [
    {
     "name": "stdout",
     "output_type": "stream",
     "text": [
      "[1. 1. 1. 0. 0.]\n",
      "[1. 1. 0. 0. 0.]\n"
     ]
    }
   ],
   "source": [
    "print(y_train_pred[:5])\n",
    "print(y_train[:5])"
   ]
  },
  {
   "cell_type": "code",
   "execution_count": 111,
   "metadata": {},
   "outputs": [
    {
     "name": "stdout",
     "output_type": "stream",
     "text": [
      "Test score:  0.9025625\n"
     ]
    }
   ],
   "source": [
    "print(\"Test score: \", clf.score(X_test, y_test))"
   ]
  },
  {
   "cell_type": "code",
   "execution_count": 112,
   "metadata": {},
   "outputs": [
    {
     "name": "stdout",
     "output_type": "stream",
     "text": [
      "Train score:  0.954296875\n"
     ]
    }
   ],
   "source": [
    "print(\"Train score: \", clf.score(X_train, y_train))"
   ]
  },
  {
   "cell_type": "code",
   "execution_count": 113,
   "metadata": {},
   "outputs": [
    {
     "data": {
      "image/png": "[encoded data removed]",
      "text/plain": [
       "<Figure size 1500x500 with 1 Axes>"
      ]
     },
     "metadata": {},
     "output_type": "display_data"
    }
   ],
   "source": [
    "predictions = clf.predict(X_test[:80])\n",
    "plt.figure(figsize=(15,5))\n",
    "plt.plot(predictions, label = \"predicted airflow\")\n",
    "plt.plot(y_test[:80], label = \"actual airflow\")\n",
    "plt.legend()\n",
    "plt.show()"
   ]
  },
  {
   "cell_type": "code",
   "execution_count": 8,
   "metadata": {},
   "outputs": [],
   "source": [
    "from joblib import dump,load\n",
    "\n",
    "#dump(clf, '5FeatflowClassifer.joblib')\n",
    "clf = load('5FeatflowClassifer.joblib')"
   ]
  },
  {
   "cell_type": "code",
   "execution_count": 116,
   "metadata": {},
   "outputs": [
    {
     "name": "stdout",
     "output_type": "stream",
     "text": [
      "[[7290  763]\n",
      " [ 796 7151]]\n"
     ]
    }
   ],
   "source": [
    "predictions = clf.predict(X_test)\n",
    "from sklearn import metrics\n",
    "cm = metrics.confusion_matrix(y_test, predictions)\n",
    "print(cm)"
   ]
  },
  {
   "cell_type": "code",
   "execution_count": 117,
   "metadata": {},
   "outputs": [
    {
     "data": {
      "image/png": "[encoded data removed]",
      "text/plain": [
       "<Figure size 640x480 with 2 Axes>"
      ]
     },
     "metadata": {},
     "output_type": "display_data"
    }
   ],
   "source": [
    "import seaborn as sns\n",
    "\n",
    "plt.figure()\n",
    "sns.heatmap(cm, annot=True, fmt=\".3f\", linewidths=.5, square = True, cmap = 'Blues_r');\n",
    "plt.ylabel('Actual label');\n",
    "plt.xlabel('Predicted label');\n",
    "score = clf.score(X_test, y_test)\n",
    "all_sample_title = 'Accuracy Score: {0}'.format(score)\n",
    "plt.title(all_sample_title, size = 15);\n",
    "plt.show()"
   ]
  },
  {
   "cell_type": "code",
   "execution_count": 118,
   "metadata": {},
   "outputs": [
    {
     "name": "stdout",
     "output_type": "stream",
     "text": [
      "Precision:  0.8998364162577073\n",
      "Recall:  0.9035885772049532\n",
      "F1 Score:  0.9035885772049532\n"
     ]
    }
   ],
   "source": [
    "from sklearn.metrics import precision_score, recall_score, f1_score\n",
    "precision = precision_score(clf.predict(X_test), y_test, average='binary')\n",
    "print(\"Precision: \", precision)\n",
    "\n",
    "recall = recall_score(clf.predict(X_test), y_test, average='binary')\n",
    "print(\"Recall: \", recall)\n",
    "\n",
    "f1 = f1_score(clf.predict(X_test), y_test, average='binary')\n",
    "print(\"F1 Score: \", recall)"
   ]
  },
  {
   "cell_type": "code",
   "execution_count": 119,
   "metadata": {},
   "outputs": [],
   "source": [
    "scores_30 = []\n",
    "scores_60 = []\n",
    "scores_90 = []\n",
    "scores_Crowd = []\n",
    "scores_Vacuum = []\n",
    "\n",
    "#Looking at predictions from Noise Study\n",
    "data_dir = Path(\"./Noise-Study\") \n",
    "df1 = pd.read_csv(data_dir / \"fft_225_90_Vent1_30.txt\", low_memory=False, names= ['frequency','amplitude'] , index_col = False)\n",
    "df1 = df1[df1['frequency'] != \"clocktime\"]\n",
    "df1 = df1.dropna()\n",
    "\n",
    "df2 = pd.read_csv(data_dir / \"fft_225_90_Vent1_60.txt\", low_memory=False, names= ['frequency','amplitude'] , index_col = False)\n",
    "df2 = df2[df2['frequency'] != \"clocktime\"]\n",
    "df2 = df2.dropna()\n",
    "\n",
    "df3 = pd.read_csv(data_dir / \"fft_225_90_Vent1_90.txt\", low_memory=False, names= ['frequency','amplitude'] , index_col = False)\n",
    "df3 = df3[df3['frequency'] != \"clocktime\"]\n",
    "df3 = df3.dropna()\n",
    "\n",
    "df4 = pd.read_csv(data_dir / \"fft_225_90_Vent1_50Crowd.txt\", low_memory=False, names= ['frequency','amplitude'] , index_col = False)\n",
    "df4 = df4[df4['frequency'] != \"clocktime\"]\n",
    "df4 = df4.dropna()\n",
    "\n",
    "df5 = pd.read_csv(data_dir / \"fft_225_90_Vent1_50Vacuum.txt\", low_memory=False, names= ['frequency','amplitude'] , index_col = False)\n",
    "df5 = df5[df5['frequency'] != \"clocktime\"]\n",
    "df5 = df5.dropna()\n",
    "\n",
    "df = convert(df1)\n",
    "for indices in [range(4000,5000), range(5000,6000), range(6000,7000), range(8000,9000)]:\n",
    "    X = df[:,:-1]\n",
    "    X = X[indices, :5]\n",
    "    y = np.ones(1000)\n",
    "    scores_30.append(clf.score(X, y))\n",
    "        \n",
    "df = convert(df2)\n",
    "for indices in [range(4000,5000), range(5000,6000), range(6000,7000), range(8000,9000)]:\n",
    "    X = df[:,:-1]\n",
    "    X = X[indices, :5]\n",
    "    y = np.ones(1000)\n",
    "    scores_60.append(clf.score(X, y))\n",
    "    \n",
    "df = convert(df3)\n",
    "for indices in [range(4000,5000), range(5000,6000), range(6000,7000), range(8000,9000)]:\n",
    "    X = df[:,:-1]\n",
    "    X = X[indices, :5]\n",
    "    y = np.ones(1000)\n",
    "    scores_90.append(clf.score(X, y))\n",
    "    \n",
    "df = convert(df4)\n",
    "for indices in [range(4000,5000), range(5000,6000), range(6000,7000), range(8000,9000)]:\n",
    "    X = df[:,:-1]\n",
    "    X = X[indices, :5]\n",
    "    y = np.ones(1000)\n",
    "    scores_Crowd.append(clf.score(X, y))\n",
    "    \n",
    "df = convert(df5)\n",
    "for indices in [range(1000), range(1000,2000), range(2000,3000), range(3000,4000)]:\n",
    "    X = df[:,:-1]\n",
    "    X = X[indices, :5]\n",
    "    y = np.ones(1000)\n",
    "    scores_Vacuum.append(clf.score(X, y))"
   ]
  },
  {
   "cell_type": "code",
   "execution_count": 120,
   "metadata": {},
   "outputs": [
    {
     "name": "stdout",
     "output_type": "stream",
     "text": [
      "30% volume:\n",
      "[0.9, 0.897, 0.924, 0.901]\n",
      "60% volume:\n",
      "[0.923, 0.907, 0.92, 0.903]\n",
      "90% volume:\n",
      "[0.873, 0.862, 0.875, 0.859]\n",
      "Crowd noise:\n",
      "[0.957, 0.969, 0.969, 0.961]\n",
      "Vacuum noise:\n",
      "[0.961, 0.964, 0.969, 0.972]\n"
     ]
    }
   ],
   "source": [
    "print(\"30% volume:\")\n",
    "print(scores_30)\n",
    "\n",
    "print(\"60% volume:\")\n",
    "print(scores_60)\n",
    "\n",
    "print(\"90% volume:\")\n",
    "print(scores_90)\n",
    "\n",
    "print(\"Crowd noise:\")\n",
    "print(scores_Crowd)\n",
    "\n",
    "print(\"Vacuum noise:\")\n",
    "print(scores_Vacuum)"
   ]
  },
  {
   "cell_type": "code",
   "execution_count": 36,
   "metadata": {},
   "outputs": [],
   "source": [
    "from pathlib import Path\n",
    "\n",
    "scores_3_0 = []\n",
    "scores_3_90 = []\n",
    "scores_3_180 = []\n",
    "\n",
    "#Looking at predictions from 3 meters\n",
    "data_dir = Path(\"./3m\") \n",
    "df1 = pd.read_csv(data_dir / \"fft_3_90_Vent1_0.txt\", low_memory=False, names= ['frequency','amplitude'] , index_col = False)\n",
    "df1 = df1[df1['frequency'] != \"clocktime\"]\n",
    "df1 = df1[df1['frequency'] != \"silence\"]\n",
    "df1 = df1.dropna()\n",
    "\n",
    "df2 = pd.read_csv(data_dir / \"fft_3_180_Vent1_0.txt\", low_memory=False, names= ['frequency','amplitude'] , index_col = False)\n",
    "df2 = df2[df2['frequency'] != \"clocktime\"]\n",
    "df2 = df2[df2['frequency'] != \"silence\"]\n",
    "df2 = df2.dropna()\n",
    "\n",
    "df3 = pd.read_csv(data_dir / \"fft_3_0_Vent1_0.txt\", low_memory=False, names= ['frequency','amplitude'] , index_col = False)\n",
    "df3 = df3[df3['frequency'] != \"clocktime\"]\n",
    "df3 = df3[df3['frequency'] != \"silence\"]\n",
    "df3 = df3.dropna()\n",
    "\n",
    "df = convert(df1)\n",
    "for indices in [range(4000,5000), range(5000,6000), range(6000,7000), range(8000,9000)]:\n",
    "    X = df[:,:-1]\n",
    "    X = X[indices, :5]\n",
    "    y = np.ones(1000)\n",
    "    scores_3_90.append(clf.score(X, y))\n",
    "    \n",
    "df = convert(df2)\n",
    "for indices in [range(4000,5000), range(5000,6000), range(6000,7000), range(8000,9000)]:\n",
    "    X = df[:,:-1]\n",
    "    X = X[indices, :5]\n",
    "    y = np.ones(1000)\n",
    "    scores_3_180.append(clf.score(X, y))\n",
    "    \n",
    "df = convert(df3)\n",
    "for indices in [range(14000,15000), range(15000,16000), range(16000,17000), range(17000,18000)]:\n",
    "    X = df[:,:-1]\n",
    "    X = X[indices, :5]\n",
    "    y = np.ones(1000)\n",
    "    scores_3_0.append(clf.score(X, y))"
   ]
  },
  {
   "cell_type": "code",
   "execution_count": 37,
   "metadata": {},
   "outputs": [
    {
     "name": "stdout",
     "output_type": "stream",
     "text": [
      "3m, 0 degrees\n",
      "[0.649, 0.632, 0.641, 0.718]\n",
      "3m, 90 degrees\n",
      "[0.948, 0.97, 0.955, 0.961]\n",
      "3m, 180 degrees\n",
      "[0.354, 0.338, 0.391, 0.394]\n"
     ]
    }
   ],
   "source": [
    "print(\"3m, 0 degrees\")\n",
    "print(scores_3_0)\n",
    "\n",
    "print(\"3m, 90 degrees\")\n",
    "print(scores_3_90)\n",
    "\n",
    "print(\"3m, 180 degrees\")\n",
    "print(scores_3_180)"
   ]
  },
  {
   "cell_type": "code",
   "execution_count": 14,
   "metadata": {},
   "outputs": [],
   "source": [
    "from pathlib import Path\n",
    "\n",
    "scores_2_0 = []\n",
    "scores_2_90 = []\n",
    "scores_2_180 = []\n",
    "\n",
    "#Looking at predictions from 2.25 meters\n",
    "data_dir = Path(\"./2.25m\") \n",
    "df1 = pd.read_csv(data_dir / \"fft_225_0_Vent1_0.txt\", low_memory=False, names= ['frequency','amplitude'] , index_col = False)\n",
    "df1 = df1[df1['frequency'] != \"clocktime\"]\n",
    "df1 = df1.dropna()\n",
    "\n",
    "df2 = pd.read_csv(data_dir / \"fft_225_90_Vent1_0.txt\", low_memory=False, names= ['frequency','amplitude'] , index_col = False)\n",
    "df2 = df2[df2['frequency'] != \"clocktime\"]\n",
    "df2 = df2.dropna()\n",
    "\n",
    "df3 = pd.read_csv(data_dir / \"fft_225_180_Vent1_0.txt\", low_memory=False, names= ['frequency','amplitude'] , index_col = False)\n",
    "df3 = df3[df3['frequency'] != \"clocktime\"]\n",
    "df3 = df3.dropna()\n",
    "\n",
    "df = convert(df1)\n",
    "for indices in [range(4000,5000), range(5000,6000), range(6000,7000), range(8000,9000)]:\n",
    "    X = df[:,:-1]\n",
    "    X = X[indices, :5]\n",
    "    y = np.ones(1000)\n",
    "    scores_2_0.append(clf.score(X, y))\n",
    "    \n",
    "df = convert(df2)\n",
    "for indices in [range(4000,5000), range(5000,6000), range(6000,7000), range(8000,9000)]:\n",
    "    X = df[:,:-1]\n",
    "    X = X[indices, :5]\n",
    "    y = np.ones(1000)\n",
    "    scores_2_90.append(clf.score(X, y))\n",
    "    \n",
    "df = convert(df3)\n",
    "for indices in [range(4000,5000), range(5000,6000), range(6000,7000), range(8000,9000)]:\n",
    "    X = df[:,:-1]\n",
    "    X = X[indices, :5]\n",
    "    y = np.ones(1000)\n",
    "    scores_2_180.append(clf.score(X, y))"
   ]
  },
  {
   "cell_type": "code",
   "execution_count": 15,
   "metadata": {},
   "outputs": [
    {
     "name": "stdout",
     "output_type": "stream",
     "text": [
      "2.25m, 0 degrees\n",
      "[0.856, 0.882, 0.861, 0.809]\n",
      "2.25m, 90 degrees\n",
      "[0.954, 0.957, 0.957, 0.933]\n",
      "2.25m, 180 degrees\n",
      "[0.754, 0.9, 0.92, 0.928]\n"
     ]
    }
   ],
   "source": [
    "print(\"2.25m, 0 degrees\")\n",
    "print(scores_2_0)\n",
    "\n",
    "print(\"2.25m, 90 degrees\")\n",
    "print(scores_2_90)\n",
    "\n",
    "print(\"2.25m, 180 degrees\")\n",
    "print(scores_2_180)"
   ]
  },
  {
   "cell_type": "code",
   "execution_count": 40,
   "metadata": {},
   "outputs": [],
   "source": [
    "from pathlib import Path\n",
    "\n",
    "scores_4_0 = []\n",
    "scores_4_90 = []\n",
    "scores_4_180 = []\n",
    "\n",
    "#Looking at predictions from 4 meters\n",
    "data_dir = Path(\"./4m\") \n",
    "df1 = pd.read_csv(data_dir / \"fft_4_90_Vent1_0.txt\", low_memory=False, names= ['frequency','amplitude'] , index_col = False)\n",
    "df1 = df1[df1['frequency'] != \"clocktime\"]\n",
    "df1 = df1[df1['frequency'] != \"silence\"]\n",
    "df1 = df1.dropna()\n",
    "\n",
    "df2 = pd.read_csv(data_dir / \"fft_4_180_Vent1_0.txt\", low_memory=False, names= ['frequency','amplitude'] , index_col = False)\n",
    "df2 = df2[df2['frequency'] != \"clocktime\"]\n",
    "df2 = df2[df2['frequency'] != \"silence\"]\n",
    "df2 = df2.dropna()\n",
    "\n",
    "df3 = pd.read_csv(data_dir / \"fft_4_0_Vent1_0.txt\", low_memory=False, names= ['frequency','amplitude'] , index_col = False)\n",
    "df3 = df3[df3['frequency'] != \"clocktime\"]\n",
    "df3 = df3[df3['frequency'] != \"silence\"]\n",
    "df3 = df3.dropna()\n",
    "\n",
    "df = convert(df1)\n",
    "for indices in [range(4000,5000), range(5000,6000), range(6000,7000), range(8000,9000)]:\n",
    "    X = df[:,:-1]\n",
    "    X = X[indices, :5]\n",
    "    y = np.ones(1000)\n",
    "    scores_4_90.append(clf.score(X, y))\n",
    "    \n",
    "df = convert(df2)\n",
    "for indices in [range(4000,5000), range(5000,6000), range(6000,7000), range(8000,9000)]:\n",
    "    X = df[:,:-1]\n",
    "    X = X[indices, :5]\n",
    "    y = np.ones(1000)\n",
    "    scores_4_180.append(clf.score(X, y))\n",
    "    \n",
    "df = convert(df3)\n",
    "for indices in [range(14000,15000), range(15000,16000), range(6000,7000), range(8000,9000)]:\n",
    "    X = df[:,:-1]\n",
    "    X = X[indices, :5]\n",
    "    y = np.ones(1000)\n",
    "    scores_4_0.append(clf.score(X, y))"
   ]
  },
  {
   "cell_type": "code",
   "execution_count": 41,
   "metadata": {},
   "outputs": [
    {
     "name": "stdout",
     "output_type": "stream",
     "text": [
      "4m, 0 degrees\n",
      "[0.937, 0.949, 0.953, 0.958]\n",
      "4m, 90 degrees\n",
      "[0.959, 0.939, 0.94, 0.95]\n",
      "4m, 180 degrees\n",
      "[0.964, 0.958, 0.972, 0.955]\n"
     ]
    }
   ],
   "source": [
    "print(\"4m, 0 degrees\")\n",
    "print(scores_4_0)\n",
    "\n",
    "print(\"4m, 90 degrees\")\n",
    "print(scores_4_90)\n",
    "\n",
    "print(\"4m, 180 degrees\")\n",
    "print(scores_4_180)"
   ]
  },
  {
   "cell_type": "code",
   "execution_count": 80,
   "metadata": {},
   "outputs": [],
   "source": [
    "from pathlib import Path\n",
    "\n",
    "scores_P1_5u = []\n",
    "scores_P1_5o = []\n",
    "scores_P1_2u = []\n",
    "scores_P1_2o = []\n",
    "scores_P1_2h = []\n",
    "\n",
    "prec_P1_5u = []\n",
    "prec_P1_5o = []\n",
    "prec_P1_2u = []\n",
    "prec_P1_2o = []\n",
    "prec_P1_2h = []\n",
    "\n",
    "rec_P1_5u = []\n",
    "rec_P1_5o = []\n",
    "rec_P1_2u = []\n",
    "rec_P1_2o = []\n",
    "rec_P1_2h = []\n",
    "\n",
    "#Looking at predictions from PHONE1 realworld\n",
    "data_dir = Path(\"./RealWorld\") \n",
    "df1 = pd.read_csv(data_dir / \"fft_50_U_P1.txt\", low_memory=False, names= ['frequency','amplitude'] , index_col = False)\n",
    "df1 = df1[df1['frequency'] != \"clocktime\"]\n",
    "df1 = df1[df1['frequency'] != \"silence\"]\n",
    "df1 = df1.dropna()\n",
    "\n",
    "df2 = pd.read_csv(data_dir / \"fft_50_O_P1.txt\", low_memory=False, names= ['frequency','amplitude'] , index_col = False)\n",
    "df2 = df2[df2['frequency'] != \"clocktime\"]\n",
    "df2 = df2[df2['frequency'] != \"silence\"]\n",
    "df2 = df2.dropna()\n",
    "\n",
    "df3 = pd.read_csv(data_dir / \"fft_225_U_P1.txt\", low_memory=False, names= ['frequency','amplitude'] , index_col = False)\n",
    "df3 = df3[df3['frequency'] != \"clocktime\"]\n",
    "df3 = df3[df3['frequency'] != \"silence\"]\n",
    "df3 = df3.dropna()\n",
    "\n",
    "df4 = pd.read_csv(data_dir / \"fft_225_O_P1.txt\", low_memory=False, names= ['frequency','amplitude'] , index_col = False)\n",
    "df4 = df4[df4['frequency'] != \"clocktime\"]\n",
    "df4 = df4[df4['frequency'] != \"silence\"]\n",
    "df4 = df4.dropna()\n",
    "\n",
    "df5 = pd.read_csv(data_dir / \"fft_2_O_P1_INHAND.txt\", low_memory=False, names= ['frequency','amplitude'] , index_col = False)\n",
    "df5 = df5[df5['frequency'] != \"clocktime\"]\n",
    "df5 = df5[df5['frequency'] != \"silence\"]\n",
    "df5 = df5.dropna()\n",
    "\n",
    "df = convert(df1)\n",
    "for indices in [range(1000), range(9000,10000), range(10000,11000), range(11000,12000)]:\n",
    "    X = df[:,:-1]\n",
    "    X = X[indices, :5]\n",
    "    y = np.ones(1000)\n",
    "    scores_P1_5u.append(clf.score(X, y))\n",
    "    prec_P1_5u.append(precision_score(clf.predict(X), y))\n",
    "    rec_P1_5u.append(recall_score(clf.predict(X), y, average='binary'))\n",
    "        \n",
    "df = convert(df2)\n",
    "for indices in [range(3000,4000), range(4000,5000), range(5000,6000), range(6000,7000)]:\n",
    "    X = df[:,:-1]\n",
    "    X = X[indices, :5]\n",
    "    y = np.ones(1000)\n",
    "    scores_P1_5o.append(clf.score(X, y))\n",
    "    prec_P1_5o.append(precision_score(clf.predict(X), y))\n",
    "    rec_P1_5o.append(recall_score(clf.predict(X), y, average='binary'))\n",
    "    \n",
    "df = convert(df3)\n",
    "for indices in [range(1000), range(1000,2000), range(2000,3000), range(3000,4000)]:\n",
    "    X = df[:,:-1]\n",
    "    X = X[indices, :5]\n",
    "    y = np.ones(1000)\n",
    "    scores_P1_2u.append(clf.score(X, y))\n",
    "    prec_P1_2u.append(precision_score(clf.predict(X), y))\n",
    "    rec_P1_2u.append(recall_score(clf.predict(X), y, average='binary'))\n",
    "    \n",
    "df = convert(df4)\n",
    "for indices in [range(1000), range(1000,2000), range(2000,3000), range(3000,4000)]:\n",
    "    X = df[:,:-1]\n",
    "    X = X[indices, :5]\n",
    "    y = np.ones(1000)\n",
    "    scores_P1_2o.append(clf.score(X, y))\n",
    "    prec_P1_2o.append(precision_score(clf.predict(X), y))\n",
    "    rec_P1_2o.append(recall_score(clf.predict(X), y, average='binary'))\n",
    "    \n",
    "df = convert(df5)\n",
    "for indices in [range(1000), range(1000,2000), range(2000,3000), range(3000,4000)]:\n",
    "    X = df[:,:-1]\n",
    "    X = X[indices, :5]\n",
    "    y = np.ones(1000)\n",
    "    scores_P1_2h.append(clf.score(X, y))\n",
    "    prec_P1_2h.append(precision_score(clf.predict(X), y))\n",
    "    rec_P1_2h.append(recall_score(clf.predict(X), y, average='binary'))"
   ]
  },
  {
   "cell_type": "code",
   "execution_count": 81,
   "metadata": {},
   "outputs": [
    {
     "name": "stdout",
     "output_type": "stream",
     "text": [
      "Phone1 0.5m, unocc\n",
      "0.7437500000000001\n",
      "0.7437500000000001\n",
      "1.0\n",
      "\n",
      "Phone1 0.5m, occ\n",
      "0.79425\n",
      "0.79425\n",
      "1.0\n",
      "\n",
      "Phone1 2.25m, unocc\n",
      "0.9052500000000001\n",
      "0.9052500000000001\n",
      "1.0\n",
      "\n",
      "Phone1 2.25m, occ\n",
      "0.96475\n",
      "0.96475\n",
      "1.0\n",
      "\n",
      "Phone1 2.25m, hand\n",
      "0.6715\n",
      "0.6715\n",
      "1.0\n"
     ]
    }
   ],
   "source": [
    "print(\"Phone1 0.5m, unocc\")\n",
    "print(sum(scores_P1_5u) / len(scores_P1_5u))\n",
    "print(sum(prec_P1_5u) / len(prec_P1_5u))\n",
    "print(sum(rec_P1_5u) / len(rec_P1_5u))\n",
    "print(\"\")\n",
    "print(\"Phone1 0.5m, occ\")\n",
    "print(sum(scores_P1_5o) / len(scores_P1_5o))\n",
    "print(sum(prec_P1_5o) / len(prec_P1_5o))\n",
    "print(sum(rec_P1_5o) / len(rec_P1_5o))\n",
    "print(\"\")\n",
    "print(\"Phone1 2.25m, unocc\")\n",
    "print(sum(scores_P1_2u) / len(scores_P1_2u))\n",
    "print(sum(prec_P1_2u) / len(prec_P1_2u))\n",
    "print(sum(rec_P1_2u) / len(rec_P1_2u))\n",
    "print(\"\")\n",
    "print(\"Phone1 2.25m, occ\")\n",
    "print(sum(scores_P1_2o) / len(scores_P1_2o))\n",
    "print(sum(prec_P1_2o) / len(prec_P1_2o))\n",
    "print(sum(rec_P1_2o) / len(rec_P1_2o))\n",
    "print(\"\")\n",
    "print(\"Phone1 2.25m, hand\")\n",
    "print(sum(scores_P1_2h) / len(scores_P1_2h))\n",
    "print(sum(prec_P1_2h) / len(prec_P1_2h))\n",
    "print(sum(rec_P1_2h) / len(rec_P1_2h))"
   ]
  },
  {
   "cell_type": "code",
   "execution_count": 95,
   "metadata": {},
   "outputs": [
    {
     "name": "stdout",
     "output_type": "stream",
     "text": [
      "Phone3 2.25m, unocc\n",
      "[0.566, 0.542, 0.519, 0.509, 0.533]\n",
      "0.5338\n"
     ]
    }
   ],
   "source": [
    "scores_P3 = []\n",
    "\n",
    "#Looking at predictions from phone 3\n",
    "data_dir = Path(\"./RealWorld\") \n",
    "df1 = pd.read_csv(data_dir / \"fft_225_U_P3.txt\", low_memory=False, names= ['frequency','amplitude'] , index_col = False)\n",
    "df1 = df1[df1['frequency'] != \"clocktime\"]\n",
    "df1 = df1[df1['frequency'] != \"silence\"]\n",
    "df1 = df1.dropna()\n",
    "\n",
    "df = convert(df1)\n",
    "for indices in [range(6000,7000), range(7000,8000), range(8000,9000), range(9000,10000), range(14000,15000)]:\n",
    "    X = df[:,:-1]\n",
    "    X = X[indices, :5]\n",
    "    y = np.ones(1000)\n",
    "    scores_P3.append(clf.score(X, y))\n",
    "    \n",
    "print(\"Phone3 2.25m, unocc\")\n",
    "print(scores_P3)\n",
    "print(sum(scores_P3) / len(scores_P3))"
   ]
  },
  {
   "cell_type": "code",
   "execution_count": 96,
   "metadata": {},
   "outputs": [],
   "source": [
    "from pathlib import Path\n",
    "\n",
    "scores_2_0 = []\n",
    "scores_2_90 = []\n",
    "scores_2_180 = []\n",
    "\n",
    "#Looking at predictions from 50 centimeters\n",
    "data_dir = Path(\"./50cm\") \n",
    "df1 = pd.read_csv(data_dir / \"fft_50_0_Vent1_0.txt\", low_memory=False, names= ['frequency','amplitude'] , index_col = False)\n",
    "df1 = df1[df1['frequency'] != \"clocktime\"]\n",
    "df1 = df1.dropna()\n",
    "\n",
    "df2 = pd.read_csv(data_dir / \"fft_50_90_Vent1_0.txt\", low_memory=False, names= ['frequency','amplitude'] , index_col = False)\n",
    "df2 = df2[df2['frequency'] != \"clocktime\"]\n",
    "df2 = df2.dropna()\n",
    "\n",
    "df3 = pd.read_csv(data_dir / \"fft_50_180_Vent1_0.txt\", low_memory=False, names= ['frequency','amplitude'] , index_col = False)\n",
    "df3 = df3[df3['frequency'] != \"clocktime\"]\n",
    "df3 = df3.dropna()\n",
    "\n",
    "df = convert(df1)\n",
    "for indices in [range(4000,5000), range(5000,6000), range(6000,7000), range(8000,9000)]:\n",
    "    X = df[:,:-1]\n",
    "    X = X[indices, :5]\n",
    "    y = np.ones(1000)\n",
    "    scores_2_0.append(clf.score(X, y))\n",
    "    \n",
    "df = convert(df2)\n",
    "for indices in [range(4000,5000), range(5000,6000), range(6000,7000), range(8000,9000)]:\n",
    "    X = df[:,:-1]\n",
    "    X = X[indices, :5]\n",
    "    y = np.ones(1000)\n",
    "    scores_2_90.append(clf.score(X, y))\n",
    "    \n",
    "df = convert(df3)\n",
    "for indices in [range(4000,5000), range(5000,6000), range(6000,7000), range(8000,9000)]:\n",
    "    X = df[:,:-1]\n",
    "    X = X[indices, :5]\n",
    "    y = np.ones(1000)\n",
    "    scores_2_180.append(clf.score(X, y))"
   ]
  },
  {
   "cell_type": "code",
   "execution_count": 97,
   "metadata": {},
   "outputs": [
    {
     "name": "stdout",
     "output_type": "stream",
     "text": [
      "50cm, 0 degrees\n",
      "[0.994, 0.99, 0.996, 0.982]\n",
      "50cm, 90 degrees\n",
      "[0.981, 0.959, 0.973, 0.975]\n",
      "50cm, 180 degrees\n",
      "[0.98, 0.971, 0.972, 0.98]\n"
     ]
    }
   ],
   "source": [
    "print(\"50cm, 0 degrees\")\n",
    "print(scores_2_0)\n",
    "\n",
    "print(\"50cm, 90 degrees\")\n",
    "print(scores_2_90)\n",
    "\n",
    "print(\"50cm, 180 degrees\")\n",
    "print(scores_2_180)"
   ]
  },
  {
   "cell_type": "code",
   "execution_count": null,
   "metadata": {},
   "outputs": [],
   "source": []
  }
 ],
 "metadata": {
  "kernelspec": {
   "display_name": "Python 3",
   "language": "python",
   "name": "python3"
  },
  "language_info": {
   "codemirror_mode": {
    "name": "ipython",
    "version": 3
   },
   "file_extension": ".py",
   "mimetype": "text/x-python",
   "name": "python",
   "nbconvert_exporter": "python",
   "pygments_lexer": "ipython3",
   "version": "3.8.11"
  }
 },
 "nbformat": 4,
 "nbformat_minor": 4
}
