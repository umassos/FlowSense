{
 "cells": [
  {
   "cell_type": "code",
   "execution_count": 781,
   "metadata": {},
   "outputs": [],
   "source": [
    "import numpy as np\n",
    "import pandas as pd\n",
    "from pathlib import Path\n",
    "import torch\n",
    "from torch import nn\n",
    "import torch.nn.functional as F\n",
    "import matplotlib.pyplot as plt\n",
    "from sklearn.metrics import mean_squared_error\n",
    "from sklearn import datasets, ensemble\n",
    "from sklearn.inspection import permutation_importance\n",
    "import os\n",
    "import glob\n",
    "from sklearn.neighbors import KNeighborsClassifier\n",
    "from sklearn import neighbors\n",
    "from sklearn import datasets, linear_model, metrics\n",
    "\n",
    "from sklearn.svm import SVR\n",
    "from sklearn.tree import DecisionTreeRegressor\n",
    "from sklearn.linear_model import LogisticRegression, LogisticRegressionCV, LinearRegression\n",
    "from sklearn.metrics import confusion_matrix, accuracy_score, recall_score, precision_score, f1_score\n",
    "from sklearn.model_selection import train_test_split\n",
    "pd.set_option('display.max_colwidth', None)\n",
    "\n",
    "np.random.seed(0)"
   ]
  },
  {
   "cell_type": "code",
   "execution_count": 782,
   "metadata": {},
   "outputs": [],
   "source": [
    "data_dir = Path('./Data_Files')"
   ]
  },
  {
   "cell_type": "code",
   "execution_count": 783,
   "metadata": {},
   "outputs": [],
   "source": [
    "# Params\n",
    "params = {'n_estimators': 500,\n",
    "          'max_depth': 4,\n",
    "          'min_samples_split': 5,\n",
    "          'learning_rate': 0.1,\n",
    "          'loss': 'ls'}"
   ]
  },
  {
   "cell_type": "code",
   "execution_count": 784,
   "metadata": {},
   "outputs": [],
   "source": [
    "def convert(df: pd.DataFrame, frame_size=10):\n",
    "    x = np.asarray(df.iloc[:, 1]).reshape(-1, frame_size)\n",
    "#     x = x[x.shape[0]//10:-x.shape[0]//10]\n",
    "    return x\n",
    "\n",
    "\n",
    "def change(df4: pd.DataFrame):\n",
    "    for index, row in df4.iterrows():\n",
    "        if row['frequency'] != \"airflow(m/s)\":\n",
    "            if float(row['frequency']) > 500:\n",
    "                df4.drop(index, inplace=True)\n",
    "    return df4"
   ]
  },
  {
   "cell_type": "code",
   "execution_count": 785,
   "metadata": {},
   "outputs": [],
   "source": [
    "data_dir6 = Path(\"./new_files_july23/\") \n",
    "\n",
    "df29 = pd.read_csv(data_dir6 / \"desk.txt\", low_memory=False, names= ['frequency','amplitude'] , index_col = False)\n",
    "df29 = df29[df29['frequency'] != \"clocktime\"]\n",
    "df29 = df29.dropna()\n",
    "df29 = change(df29)\n",
    "df29 = convert(df29)\n",
    "\n",
    "df30 = pd.read_csv(data_dir6 / \"no_air.txt\", low_memory=False, names= ['frequency','amplitude'] , index_col = False)\n",
    "df30 = df30[df30['frequency'] != \"clocktime\"]\n",
    "df30 = df30.dropna()\n",
    "df30 = change(df30)\n",
    "df30 = convert(df30)\n",
    "\n",
    "df31 = pd.read_csv(data_dir6 / \"onvent.txt\", low_memory=False, names= ['frequency','amplitude'] , index_col = False)\n",
    "df31 = df31[df31['frequency'] != \"clocktime\"]\n",
    "df31 = df31.dropna()\n",
    "df31 = change(df31)\n",
    "df31 = convert(df31)"
   ]
  },
  {
   "cell_type": "code",
   "execution_count": 786,
   "metadata": {},
   "outputs": [],
   "source": [
    "data_dir7 = Path(\"./final/\") \n",
    "\n",
    "df32 = pd.read_csv(data_dir7 / \"1m_v1.txt\", low_memory=False, names= ['frequency','amplitude'] , index_col = False)\n",
    "df32 = df32[df32['frequency'] != \"clocktime\"]\n",
    "df32 = df32.dropna()\n",
    "df32 = change(df32)\n",
    "df32 = convert(df32)\n",
    "\n",
    "df33 = pd.read_csv(data_dir7 / \"fan_66cm.txt\", low_memory=False, names= ['frequency','amplitude'] , index_col = False)\n",
    "df33 = df33[df33['frequency'] != \"clocktime\"]\n",
    "df33 = df33.dropna()\n",
    "df33 = change(df33)\n",
    "df33 = convert(df33)\n",
    "\n",
    "df34 = pd.read_csv(data_dir7 / \"50cm_v1.txt\", low_memory=False, names= ['frequency','amplitude'] , index_col = False)\n",
    "df34 = df34[df34['frequency'] != \"clocktime\"]\n",
    "df34 = df34.dropna()\n",
    "df34 = change(df34)\n",
    "df34 = convert(df34)\n",
    "# df34 = df34[:129*198]\n",
    "\n",
    "df35 = pd.read_csv(data_dir7 / \"150cm_v1.txt\", low_memory=False, names= ['frequency','amplitude'] , index_col = False)\n",
    "df35 = df35[df35['frequency'] != \"clocktime\"]\n",
    "df35 = df35.dropna()\n",
    "# df35 = df35[:211*129]\n",
    "df35 = change(df35)\n",
    "df35 = convert(df35)\n",
    "\n",
    "\n",
    "data_dir8 = Path(\"./finale/\") \n",
    "df36 = pd.read_csv(data_dir7 / \"50cm_v1.txt\", low_memory=False, names= ['frequency','amplitude'] , index_col = False)\n",
    "df36 = df36[df36['frequency'] != \"clocktime\"]\n",
    "df36 = df36.dropna()\n",
    "df36 = change(df36)\n",
    "df36 = convert(df36)\n",
    "# df36 = df36[:129*198]\n",
    "\n",
    "df37 = pd.read_csv(data_dir7 / \"1m_v1.txt\", low_memory=False, names= ['frequency','amplitude'] , index_col = False)\n",
    "df37 = df37[df37['frequency'] != \"clocktime\"]\n",
    "df37 = df37.dropna()\n",
    "df37 = change(df37)\n",
    "df37 = convert(df37)\n",
    "# df37 = df37[:129*198]"
   ]
  },
  {
   "cell_type": "code",
   "execution_count": 787,
   "metadata": {},
   "outputs": [
    {
     "data": {
      "text/plain": [
       "array([[6.70182937e+04, 2.80998738e+04, 8.76974000e+02, ...,\n",
       "        3.92943400e+02, 2.66950000e+02, 3.01000000e+00],\n",
       "       [1.44151110e+03, 9.55155400e+02, 1.37974300e+02, ...,\n",
       "        6.09679000e+01, 3.00350000e+01, 3.15000000e+00],\n",
       "       [9.76112600e+02, 6.68443100e+02, 1.72824300e+02, ...,\n",
       "        5.02424000e+01, 1.75779000e+01, 3.59000000e+00],\n",
       "       ...,\n",
       "       [1.07246120e+03, 8.70115300e+02, 4.58536600e+02, ...,\n",
       "        5.65764000e+01, 3.26326000e+01, 7.13000000e+00],\n",
       "       [1.86571620e+03, 8.71248900e+02, 3.63561600e+02, ...,\n",
       "        3.81551000e+01, 3.86097000e+01, 6.65000000e+00],\n",
       "       [3.90487400e+02, 2.24437000e+02, 1.80475500e+02, ...,\n",
       "        3.11271000e+01, 2.76080000e+01, 4.95000000e+00]])"
      ]
     },
     "execution_count": 787,
     "metadata": {},
     "output_type": "execute_result"
    }
   ],
   "source": [
    "df34"
   ]
  },
  {
   "cell_type": "code",
   "execution_count": 788,
   "metadata": {},
   "outputs": [
    {
     "data": {
      "text/plain": [
       "array([[6.70182937e+04, 2.80998738e+04, 8.76974000e+02, ...,\n",
       "        3.92943400e+02, 2.66950000e+02, 3.01000000e+00],\n",
       "       [1.44151110e+03, 9.55155400e+02, 1.37974300e+02, ...,\n",
       "        6.09679000e+01, 3.00350000e+01, 3.15000000e+00],\n",
       "       [9.76112600e+02, 6.68443100e+02, 1.72824300e+02, ...,\n",
       "        5.02424000e+01, 1.75779000e+01, 3.59000000e+00],\n",
       "       ...,\n",
       "       [1.07246120e+03, 8.70115300e+02, 4.58536600e+02, ...,\n",
       "        5.65764000e+01, 3.26326000e+01, 7.13000000e+00],\n",
       "       [1.86571620e+03, 8.71248900e+02, 3.63561600e+02, ...,\n",
       "        3.81551000e+01, 3.86097000e+01, 6.65000000e+00],\n",
       "       [3.90487400e+02, 2.24437000e+02, 1.80475500e+02, ...,\n",
       "        3.11271000e+01, 2.76080000e+01, 4.95000000e+00]])"
      ]
     },
     "execution_count": 788,
     "metadata": {},
     "output_type": "execute_result"
    }
   ],
   "source": [
    "\n",
    "\n",
    "df36[:129*210]"
   ]
  },
  {
   "cell_type": "code",
   "execution_count": 789,
   "metadata": {},
   "outputs": [],
   "source": [
    "data_dir9 = Path('./Aug12')\n",
    "\n",
    "df38 = pd.read_csv(data_dir9 / \"vent1_1.txt\", low_memory=False, names= ['frequency','amplitude'] , index_col = False)\n",
    "df38 = df38[df38['frequency'] != \"clocktime\"]\n",
    "df38 = df38.dropna()\n",
    "df38 = convert(df38)\n",
    "# dftest1 = df38[-50:]\n",
    "# df38 = df38[-50:]\n",
    "\n",
    "\n",
    "df39 = pd.read_csv(data_dir9 / \"v1_50cm.txt\", low_memory=False, names= ['frequency','amplitude'] , index_col = False)\n",
    "df39 = df39[df39['frequency'] != \"clocktime\"]\n",
    "df39 = df39.dropna()\n",
    "df39 = convert(df39)\n",
    "# dftest0_5 = df39[-50:]\n",
    "# df39 = df39[-50:]\n",
    "\n",
    "\n",
    "\n",
    "df40 = pd.read_csv(data_dir9 / \"v1_150cm.txt\", low_memory=False, names= ['frequency','amplitude'] , index_col = False)\n",
    "df40 = df40[df40['frequency'] != \"clocktime\"]\n",
    "df40 = df40.dropna()\n",
    "df40 = convert(df40)\n",
    "# dftest1_5 = df40[-50:]\n",
    "# df40 = df40[-50:]\n",
    "\n",
    "\n",
    "df41 = pd.read_csv(data_dir9 / \"v1_2m.txt\", low_memory=False, names= ['frequency','amplitude'] , index_col = False)\n",
    "df41 = df41[df41['frequency'] != \"clocktime\"]\n",
    "df41 = df41.dropna()\n",
    "df41 = convert(df41)\n",
    "# dftest2 = df41[-50:]\n",
    "# df41 = df41[-50:]\n",
    "\n",
    "# df38 = pd.read_csv(data_dir9 / \"vent1_1.txt\", low_memory=False, names= ['frequency','amplitude'] , index_col = False)\n",
    "# df38 = df38[df38['frequency'] != \"clocktime\"]\n",
    "# df38 = df38.dropna()\n",
    "# df38 = convert(df38)"
   ]
  },
  {
   "cell_type": "code",
   "execution_count": 790,
   "metadata": {},
   "outputs": [
    {
     "data": {
      "text/plain": [
       "array([[6.75248207e+04, 2.89011927e+04, 1.79804800e+02, ...,\n",
       "        1.42315600e+02, 5.13654000e+01, 4.06000000e+00],\n",
       "       [3.10801520e+03, 1.51114530e+03, 3.95596500e+02, ...,\n",
       "        7.65062000e+01, 5.17596000e+01, 3.15000000e+00],\n",
       "       [1.51328740e+03, 1.17330160e+03, 4.81010100e+02, ...,\n",
       "        4.14626000e+01, 4.63846000e+01, 3.08000000e+00],\n",
       "       ...,\n",
       "       [1.67436920e+03, 1.09449270e+03, 5.62893700e+02, ...,\n",
       "        2.04001800e+02, 1.92069400e+02, 8.03000000e+00],\n",
       "       [5.16791800e+02, 8.49069700e+02, 2.00180000e+02, ...,\n",
       "        2.55714500e+02, 4.13798500e+02, 6.54000000e+00],\n",
       "       [6.62164500e+02, 3.57477100e+02, 5.34932900e+02, ...,\n",
       "        1.37277400e+02, 1.23004700e+02, 5.05000000e+00]])"
      ]
     },
     "execution_count": 790,
     "metadata": {},
     "output_type": "execute_result"
    }
   ],
   "source": [
    "df38"
   ]
  },
  {
   "cell_type": "code",
   "execution_count": 791,
   "metadata": {},
   "outputs": [
    {
     "data": {
      "text/plain": [
       "array([[7.46939946e+04, 3.23727107e+04, 4.98730100e+02, ...,\n",
       "        1.81583300e+02, 9.38874000e+01, 5.97000000e+00],\n",
       "       [2.99705830e+03, 1.11389490e+03, 2.78978500e+02, ...,\n",
       "        1.56829000e+02, 1.30692200e+02, 6.89000000e+00],\n",
       "       [4.14477600e+02, 2.24770800e+02, 2.45985700e+02, ...,\n",
       "        8.88909000e+01, 1.53278100e+02, 6.77000000e+00],\n",
       "       ...,\n",
       "       [2.00635470e+03, 1.75354510e+03, 6.18427100e+02, ...,\n",
       "        1.02395000e+02, 4.94670000e+01, 5.25000000e+00],\n",
       "       [8.85255000e+01, 5.58540200e+02, 6.67146600e+02, ...,\n",
       "        7.07958000e+01, 4.32855000e+01, 4.77000000e+00],\n",
       "       [2.52628830e+03, 1.26381890e+03, 2.04769300e+02, ...,\n",
       "        1.43815700e+02, 1.04168600e+02, 4.32000000e+00]])"
      ]
     },
     "execution_count": 791,
     "metadata": {},
     "output_type": "execute_result"
    }
   ],
   "source": [
    "df39"
   ]
  },
  {
   "cell_type": "code",
   "execution_count": 792,
   "metadata": {},
   "outputs": [
    {
     "data": {
      "text/plain": [
       "array([[7.18052191e+04, 3.06204344e+04, 1.58075300e+02, ...,\n",
       "        6.05669000e+01, 8.18163000e+01, 4.15000000e+00],\n",
       "       [4.02816740e+03, 1.95124160e+03, 3.12837800e+02, ...,\n",
       "        9.04382000e+01, 9.71537000e+01, 4.32000000e+00],\n",
       "       [1.32188730e+03, 6.33675500e+02, 1.78411000e+02, ...,\n",
       "        5.70151000e+01, 7.55806000e+01, 4.32000000e+00],\n",
       "       ...,\n",
       "       [4.03904700e+02, 6.48653900e+02, 1.24145100e+02, ...,\n",
       "        1.62163000e+01, 7.62439000e+01, 4.58000000e+00],\n",
       "       [1.88987800e+02, 2.58951600e+02, 2.24166000e+02, ...,\n",
       "        6.55249000e+01, 5.41574000e+01, 4.15000000e+00],\n",
       "       [8.43830700e+02, 7.86803800e+02, 2.99248300e+02, ...,\n",
       "        5.66726000e+01, 6.52863000e+01, 3.98000000e+00]])"
      ]
     },
     "execution_count": 792,
     "metadata": {},
     "output_type": "execute_result"
    }
   ],
   "source": [
    "df40[:10*700]\n",
    "df40"
   ]
  },
  {
   "cell_type": "code",
   "execution_count": 793,
   "metadata": {},
   "outputs": [
    {
     "data": {
      "text/plain": [
       "array([[6.62204522e+04, 2.82888909e+04, 2.56816700e+02, ...,\n",
       "        5.05667000e+01, 6.65650000e+00, 3.74000000e+00],\n",
       "       [2.37845130e+03, 7.47708100e+02, 2.11342300e+02, ...,\n",
       "        4.93574000e+01, 2.52591000e+01, 4.41000000e+00],\n",
       "       [1.99851100e+02, 2.72417900e+02, 8.52300000e+01, ...,\n",
       "        3.28351000e+01, 3.50869000e+01, 5.87000000e+00],\n",
       "       ...,\n",
       "       [2.87880380e+03, 1.45966390e+03, 1.23847500e+02, ...,\n",
       "        3.83945000e+01, 2.42426000e+01, 3.44000000e+00],\n",
       "       [4.99177800e+02, 2.73552700e+02, 2.48066200e+02, ...,\n",
       "        3.26337000e+01, 3.38529000e+01, 3.15000000e+00],\n",
       "       [4.03818096e+04, 1.67366966e+04, 5.26075700e+02, ...,\n",
       "        2.90430000e+01, 3.24771000e+01, 2.05600000e+01]])"
      ]
     },
     "execution_count": 793,
     "metadata": {},
     "output_type": "execute_result"
    }
   ],
   "source": [
    "df41[:10*33]\n",
    "df41"
   ]
  },
  {
   "cell_type": "code",
   "execution_count": 794,
   "metadata": {},
   "outputs": [],
   "source": [
    "# df = df1.append([df2, df3, df4, df5, df6, df7, df8, df9, df10, df11, df12, df13, df14, df16, df17, df18, df20, df22, df23, df24, df25, df26, df27, df28, df29, df30, df31, df32, df33])\n",
    "# df = np.concatenate([df29, df30, df31, df32, df33, df34, df35, df36, df37])\n",
    "\n",
    "# df = np.concatenate([df39, df38, df40, df41])\n",
    "\n",
    "df = np.concatenate([df38, df32, df34, df35, df36, df37, df30, df31])"
   ]
  },
  {
   "cell_type": "code",
   "execution_count": null,
   "metadata": {},
   "outputs": [],
   "source": []
  },
  {
   "cell_type": "code",
   "execution_count": null,
   "metadata": {},
   "outputs": [],
   "source": []
  },
  {
   "cell_type": "code",
   "execution_count": null,
   "metadata": {},
   "outputs": [],
   "source": []
  },
  {
   "cell_type": "code",
   "execution_count": 795,
   "metadata": {},
   "outputs": [],
   "source": [
    "# df = df[df.columns[1:2]]\n"
   ]
  },
  {
   "cell_type": "code",
   "execution_count": 796,
   "metadata": {},
   "outputs": [],
   "source": [
    "data = df\n"
   ]
  },
  {
   "cell_type": "code",
   "execution_count": 797,
   "metadata": {},
   "outputs": [
    {
     "data": {
      "text/plain": [
       "(2127, 9)"
      ]
     },
     "execution_count": 797,
     "metadata": {},
     "output_type": "execute_result"
    }
   ],
   "source": [
    "X = data[:,:-1]\n",
    "\n",
    "X = X[:, :10]\n",
    "X.shape"
   ]
  },
  {
   "cell_type": "code",
   "execution_count": null,
   "metadata": {},
   "outputs": [],
   "source": []
  },
  {
   "cell_type": "code",
   "execution_count": 798,
   "metadata": {},
   "outputs": [
    {
     "data": {
      "text/plain": [
       "(2127,)"
      ]
     },
     "execution_count": 798,
     "metadata": {},
     "output_type": "execute_result"
    }
   ],
   "source": [
    "y = data[:, -1]\n",
    "y.shape\n"
   ]
  },
  {
   "cell_type": "code",
   "execution_count": 799,
   "metadata": {},
   "outputs": [
    {
     "name": "stdout",
     "output_type": "stream",
     "text": [
      "(2127, 9) (2127,)\n"
     ]
    }
   ],
   "source": [
    "print (X.shape, y.shape)"
   ]
  },
  {
   "cell_type": "code",
   "execution_count": 800,
   "metadata": {},
   "outputs": [
    {
     "name": "stdout",
     "output_type": "stream",
     "text": [
      "32.9 2.17\n"
     ]
    }
   ],
   "source": [
    "print(max(y), min(y))\n",
    "for i in range(len(y)):\n",
    "    if i >= len(y):\n",
    "        break\n",
    "    if y[i]>35 or y[i]<1:\n",
    "        print (i, y[i])\n",
    "        X = np.delete(X, i, axis = 0)\n",
    "        y = np.delete(y, i)\n",
    "        "
   ]
  },
  {
   "cell_type": "code",
   "execution_count": 801,
   "metadata": {},
   "outputs": [],
   "source": [
    "X_train, X_test, y_train, y_test = train_test_split(X, y, test_size=0.2)"
   ]
  },
  {
   "cell_type": "code",
   "execution_count": 802,
   "metadata": {},
   "outputs": [
    {
     "data": {
      "text/plain": [
       "GradientBoostingRegressor(max_depth=4, min_samples_split=5, n_estimators=500)"
      ]
     },
     "execution_count": 802,
     "metadata": {},
     "output_type": "execute_result"
    }
   ],
   "source": [
    "reg = ensemble.GradientBoostingRegressor(**params)\n",
    "reg.fit(X_train, y_train)\n"
   ]
  },
  {
   "cell_type": "code",
   "execution_count": 803,
   "metadata": {},
   "outputs": [
    {
     "data": {
      "text/plain": [
       "['flowSense.joblib']"
      ]
     },
     "execution_count": 803,
     "metadata": {},
     "output_type": "execute_result"
    }
   ],
   "source": [
    "from joblib import dump, load\n",
    "dump(reg, \"flowSense.joblib\")"
   ]
  },
  {
   "cell_type": "code",
   "execution_count": 804,
   "metadata": {},
   "outputs": [],
   "source": [
    "y_pred = reg.predict(X_test)\n",
    "y_train_pred = reg.predict(X_train)"
   ]
  },
  {
   "cell_type": "code",
   "execution_count": 805,
   "metadata": {},
   "outputs": [
    {
     "name": "stdout",
     "output_type": "stream",
     "text": [
      "[3.13021935 4.4956349  3.35730119 3.39097519 4.76281976]\n",
      "[3.01 4.49 3.29 2.69 5.55]\n"
     ]
    }
   ],
   "source": [
    "print(y_pred[:5])\n",
    "print(y_test[:5])"
   ]
  },
  {
   "cell_type": "code",
   "execution_count": 806,
   "metadata": {},
   "outputs": [
    {
     "name": "stdout",
     "output_type": "stream",
     "text": [
      "[3.70881636 3.23155419 3.3373799  4.45434891 5.50652158]\n",
      "[3.59 2.88 2.95 4.49 5.76]\n"
     ]
    }
   ],
   "source": [
    "print(y_train_pred[:5])\n",
    "print(y_train[:5])"
   ]
  },
  {
   "cell_type": "code",
   "execution_count": 807,
   "metadata": {},
   "outputs": [
    {
     "name": "stdout",
     "output_type": "stream",
     "text": [
      "MSE of test:  2.515068956583541\n",
      "(426,)\n",
      "Test Reg score:  0.9662023976200468\n"
     ]
    }
   ],
   "source": [
    "print(\"MSE of test: \", mean_squared_error(y_test, y_pred))\n",
    "print(y_pred.shape)\n",
    "\n",
    "print(\"Test Reg score: \", reg.score(X_test, y_test))\n",
    "    "
   ]
  },
  {
   "cell_type": "code",
   "execution_count": 808,
   "metadata": {},
   "outputs": [
    {
     "name": "stdout",
     "output_type": "stream",
     "text": [
      "MSE of training:  0.08996571349655225\n",
      "Train Reg score:  0.9986656681063029\n"
     ]
    }
   ],
   "source": [
    "print(\"MSE of training: \",  mean_squared_error(y_train, y_train_pred))\n",
    "\n",
    "print(\"Train Reg score: \", reg.score(X_train, y_train))"
   ]
  },
  {
   "cell_type": "code",
   "execution_count": 809,
   "metadata": {},
   "outputs": [
    {
     "data": {
      "image/png": "[encoded data removed]",
      "text/plain": [
       "<Figure size 720x360 with 1 Axes>"
      ]
     },
     "metadata": {
      "needs_background": "light"
     },
     "output_type": "display_data"
    }
   ],
   "source": [
    "plt.figure(figsize=(10,5))\n",
    "plt.plot(y_test[50:100], 'g', label=\"actual\")\n",
    "plt.plot(y_pred[50:100], 'r', label=\"predicted\")\n",
    "plt.legend()\n",
    "plt.xlabel(\"test points\")\n",
    "plt.ylabel(\"airflow(m/s)\")\n",
    "plt.title(\"Estimating Airflow (XGBoost)\")\n",
    "plt.savefig(\"final.png\")"
   ]
  },
  {
   "cell_type": "code",
   "execution_count": 810,
   "metadata": {},
   "outputs": [
    {
     "data": {
      "text/plain": [
       "Text(0.5, 1.0, 'Estimating Airflow (XGBoost)')"
      ]
     },
     "execution_count": 810,
     "metadata": {},
     "output_type": "execute_result"
    },
    {
     "data": {
      "image/png": "[encoded data removed]",
      "text/plain": [
       "<Figure size 720x360 with 1 Axes>"
      ]
     },
     "metadata": {
      "needs_background": "light"
     },
     "output_type": "display_data"
    }
   ],
   "source": [
    "plt.figure(figsize=(10,5))\n",
    "plt.plot(y_train[50:100], 'g', label=\"actual\")\n",
    "plt.plot(y_train_pred[50:100], 'r', label=\"predicted\")\n",
    "plt.legend()\n",
    "plt.xlabel(\"train points\")\n",
    "plt.ylabel(\"airflow(m/s)\")\n",
    "plt.title(\"Estimating Airflow (XGBoost)\")\n",
    "# plt.savefig(\"1m_v1.jpg\")\n",
    "\n"
   ]
  },
  {
   "cell_type": "code",
   "execution_count": null,
   "metadata": {},
   "outputs": [],
   "source": []
  },
  {
   "cell_type": "code",
   "execution_count": null,
   "metadata": {},
   "outputs": [],
   "source": []
  }
 ],
 "metadata": {
  "kernelspec": {
   "display_name": "Python 3",
   "language": "python",
   "name": "python3"
  },
  "language_info": {
   "codemirror_mode": {
    "name": "ipython",
    "version": 3
   },
   "file_extension": ".py",
   "mimetype": "text/x-python",
   "name": "python",
   "nbconvert_exporter": "python",
   "pygments_lexer": "ipython3",
   "version": "3.9.2"
  }
 },
 "nbformat": 4,
 "nbformat_minor": 4
}
