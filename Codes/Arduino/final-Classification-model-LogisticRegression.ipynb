{
 "cells": [
  {
   "cell_type": "code",
   "execution_count": 1,
   "metadata": {},
   "outputs": [],
   "source": [
    "import numpy as np\n",
    "import pandas as pd\n",
    "from pathlib import Path\n",
    "import matplotlib.pyplot as plt\n",
    "from sklearn.linear_model import LogisticRegression, LogisticRegressionCV\n",
    "from sklearn.metrics import confusion_matrix, accuracy_score, recall_score, precision_score, f1_score\n",
    "from sklearn.model_selection import train_test_split\n",
    "from sklearn.ensemble import GradientBoostingClassifier\n",
    "np.random.seed(0)"
   ]
  },
  {
   "cell_type": "code",
   "execution_count": 2,
   "metadata": {
    "scrolled": true
   },
   "outputs": [],
   "source": [
    "data_dir = Path('./Data_Files')"
   ]
  },
  {
   "cell_type": "code",
   "execution_count": 3,
   "metadata": {},
   "outputs": [],
   "source": [
    "# Params\n",
    "params = {'n_estimators': 500,\n",
    "          'max_depth': 4,\n",
    "          'min_samples_split': 5,\n",
    "          'learning_rate': 0.1,\n",
    "          'loss': 'ls'}"
   ]
  },
  {
   "cell_type": "code",
   "execution_count": 4,
   "metadata": {},
   "outputs": [],
   "source": [
    "def convert(df: pd.DataFrame, frame_size=10):\n",
    "    x = np.asarray(df.iloc[:, 1]).reshape(-1, frame_size)\n",
    "#     x = x[x.shape[0]//10:-x.shape[0]//10]\n",
    "    return x\n",
    "\n",
    "\n",
    "def change(df4: pd.DataFrame):\n",
    "    for index, row in df4.iterrows():\n",
    "        if row['frequency'] != \"airflow(m/s)\":\n",
    "            if float(row['frequency']) > 500:\n",
    "                df4.drop(index, inplace=True)\n",
    "    return df4"
   ]
  },
  {
   "cell_type": "code",
   "execution_count": 5,
   "metadata": {},
   "outputs": [],
   "source": [
    "data_dir6 = Path(\"./new_files_july23/\") \n",
    "\n",
    "df29 = pd.read_csv(data_dir6 / \"desk.txt\", low_memory=False, names= ['frequency','amplitude'] , index_col = False)\n",
    "df29 = df29[df29['frequency'] != \"clocktime\"]\n",
    "df29 = df29.dropna()\n",
    "df29 = change(df29)\n",
    "df29 = convert(df29)\n",
    "\n",
    "\n",
    "df30 = pd.read_csv(data_dir6 / \"no_air.txt\", low_memory=False, names= ['frequency','amplitude'] , index_col = False)\n",
    "df30 = df30[df30['frequency'] != \"clocktime\"]\n",
    "df30 = df30.dropna()\n",
    "df30 = change(df30)\n",
    "df30 = convert(df30)\n",
    "\n",
    "df31 = pd.read_csv(data_dir6 / \"onvent.txt\", low_memory=False, names= ['frequency','amplitude'] , index_col = False)\n",
    "df31 = df31[df31['frequency'] != \"clocktime\"]\n",
    "df31 = df31.dropna()\n",
    "df31 = change(df31)\n",
    "df31 = convert(df31)"
   ]
  },
  {
   "cell_type": "code",
   "execution_count": null,
   "metadata": {},
   "outputs": [],
   "source": [
    "data_dir7 = Path(\"./final/\") \n",
    "\n",
    "df32 = pd.read_csv(data_dir7 / \"1m_v1.txt\", low_memory=False, names= ['frequency','amplitude'] , index_col = False)\n",
    "df32 = df32[df32['frequency'] != \"clocktime\"]\n",
    "df32 = df32.dropna()\n",
    "df32 = change(df32)\n",
    "df32 = convert(df32)\n",
    "\n",
    "df33 = pd.read_csv(data_dir7 / \"fan_66cm.txt\", low_memory=False, names= ['frequency','amplitude'] , index_col = False)\n",
    "df33 = df33[df33['frequency'] != \"clocktime\"]\n",
    "df33 = df33.dropna()\n",
    "df33 = change(df33)\n",
    "df33 = convert(df33)\n",
    "\n",
    "df34 = pd.read_csv(data_dir7 / \"50cm_v1.txt\", low_memory=False, names= ['frequency','amplitude'] , index_col = False)\n",
    "df34 = df34[df34['frequency'] != \"clocktime\"]\n",
    "df34 = df34.dropna()\n",
    "df34 = change(df34)\n",
    "df34 = convert(df34)\n",
    "# df34 = df34[:129*198]\n",
    "\n",
    "df35 = pd.read_csv(data_dir7 / \"150cm_v1.txt\", low_memory=False, names= ['frequency','amplitude'] , index_col = False)\n",
    "df35 = df35[df35['frequency'] != \"clocktime\"]\n",
    "df35 = df35.dropna()\n",
    "# df35 = df35[:211*129]\n",
    "df35 = change(df35)\n",
    "df35 = convert(df35)\n",
    "\n",
    "\n",
    "data_dir8 = Path(\"./finale/\") \n",
    "df36 = pd.read_csv(data_dir7 / \"50cm_v1.txt\", low_memory=False, names= ['frequency','amplitude'] , index_col = False)\n",
    "df36 = df36[df36['frequency'] != \"clocktime\"]\n",
    "df36 = df36.dropna()\n",
    "df36 = change(df36)\n",
    "df36 = convert(df36)\n",
    "# df36 = df36[:129*198]\n",
    "\n",
    "df37 = pd.read_csv(data_dir7 / \"1m_v1.txt\", low_memory=False, names= ['frequency','amplitude'] , index_col = False)\n",
    "df37 = df37[df37['frequency'] != \"clocktime\"]\n",
    "df37 = df37.dropna()\n",
    "df37 = change(df37)\n",
    "df37 = convert(df37)\n",
    "# df37 = df37[:129*198]"
   ]
  },
  {
   "cell_type": "code",
   "execution_count": null,
   "metadata": {},
   "outputs": [],
   "source": [
    "data_dir9 = Path('./Aug12')\n",
    "\n",
    "df38 = pd.read_csv(data_dir9 / \"vent1_1.txt\", low_memory=False, names= ['frequency','amplitude'] , index_col = False)\n",
    "df38 = df38[df38['frequency'] != \"clocktime\"]\n",
    "df38 = df38.dropna()\n",
    "df38 = convert(df38)\n",
    "# dftest1 = df38[-50:]\n",
    "# df38 = df38[-50:]\n",
    "\n",
    "\n",
    "df39 = pd.read_csv(data_dir9 / \"v1_50cm.txt\", low_memory=False, names= ['frequency','amplitude'] , index_col = False)\n",
    "df39 = df39[df39['frequency'] != \"clocktime\"]\n",
    "df39 = df39.dropna()\n",
    "df39 = convert(df39)\n",
    "# dftest0_5 = df39[-50:]\n",
    "# df39 = df39[-50:]\n",
    "\n",
    "\n",
    "\n",
    "df40 = pd.read_csv(data_dir9 / \"v1_150cm.txt\", low_memory=False, names= ['frequency','amplitude'] , index_col = False)\n",
    "df40 = df40[df40['frequency'] != \"clocktime\"]\n",
    "df40 = df40.dropna()\n",
    "df40 = convert(df40)\n",
    "# dftest1_5 = df40[-50:]\n",
    "# df40 = df40[-50:]\n",
    "\n",
    "\n",
    "df41 = pd.read_csv(data_dir9 / \"v1_2m.txt\", low_memory=False, names= ['frequency','amplitude'] , index_col = False)\n",
    "df41 = df41[df41['frequency'] != \"clocktime\"]\n",
    "df41 = df41.dropna()\n",
    "df41 = convert(df41)\n",
    "# dftest2 = df41[-50:]\n",
    "# df41 = df41[-50:]\n",
    "\n",
    "# df38 = pd.read_csv(data_dir9 / \"vent1_1.txt\", low_memory=False, names= ['frequency','amplitude'] , index_col = False)\n",
    "# df38 = df38[df38['frequency'] != \"clocktime\"]\n",
    "# df38 = df38.dropna()\n",
    "# df38 = convert(df38)"
   ]
  },
  {
   "cell_type": "code",
   "execution_count": null,
   "metadata": {},
   "outputs": [],
   "source": [
    "data_dir10 = Path('./Nov8')\n",
    "\n",
    "df42 = pd.read_csv(data_dir10 / \"noair.txt\", low_memory=False, names= ['frequency','amplitude'] , index_col = False)\n",
    "df42 = df42[df42['frequency'] != \"clocktime\"]\n",
    "df42 = df42.dropna()\n",
    "df42 = convert(df42)\n",
    "\n",
    "\n",
    "df43 = pd.read_csv(data_dir10 / \"new1.txt\", low_memory=False, names= ['frequency','amplitude'] , index_col = False)\n",
    "df43 = df43[df43['frequency'] != \"clocktime\"]\n",
    "df43 = df43.dropna()\n",
    "df43 = convert(df43)\n",
    "# dftest1 = df43[-50:]\n",
    "# df43 = df43[-50:]"
   ]
  },
  {
   "cell_type": "code",
   "execution_count": null,
   "metadata": {},
   "outputs": [],
   "source": [
    "# df = df1.append([df2, df3, df4, df5, df6, df7, df8, df9, df10, df11, df12, df13, df14, df16, df17, df18, df20, df22, df23, df24, df25, df26, df27, df28, df29, df30, df31, df32, df33])\n",
    "# df = np.concatenate([df29, df30, df31, df32, df33, df34, df35, df36, df37])\n",
    "\n",
    "# df = np.concatenate([df39, df38, df40, df41])\n",
    "\n",
    "df = np.concatenate([df39, df38, df40, df41, df32, df34, df35, df36, df37, df29, df31])\n",
    "df2 = np.concatenate([df30, df42])"
   ]
  },
  {
   "cell_type": "code",
   "execution_count": null,
   "metadata": {},
   "outputs": [],
   "source": [
    "df.shape"
   ]
  },
  {
   "cell_type": "code",
   "execution_count": null,
   "metadata": {},
   "outputs": [],
   "source": [
    "df2.shape"
   ]
  },
  {
   "cell_type": "code",
   "execution_count": null,
   "metadata": {},
   "outputs": [],
   "source": [
    "data = df\n"
   ]
  },
  {
   "cell_type": "code",
   "execution_count": null,
   "metadata": {},
   "outputs": [],
   "source": [
    "X1 = data[:,:-1]\n",
    "\n",
    "X1 = X1[:, :7]\n",
    "X1.shape"
   ]
  },
  {
   "cell_type": "code",
   "execution_count": null,
   "metadata": {},
   "outputs": [],
   "source": [
    "y1 =  np.ones(X1.shape[0], dtype=int)\n",
    "\n",
    "# y = data[:, -1]\n",
    "y1.shape\n"
   ]
  },
  {
   "cell_type": "code",
   "execution_count": null,
   "metadata": {},
   "outputs": [],
   "source": [
    "X2 = df2[:,:-1]\n",
    "\n",
    "X2 = X2[:, :7]\n",
    "X2.shape\n",
    "\n",
    "y2 =  np.zeros(X2.shape[0], dtype=int)\n",
    "\n",
    "# y = data[:, -1]\n",
    "y2.shape\n",
    "\n",
    "\n"
   ]
  },
  {
   "cell_type": "code",
   "execution_count": null,
   "metadata": {},
   "outputs": [],
   "source": [
    "X = np.concatenate([X1,X2])\n",
    "y = np.concatenate([y1,y2])"
   ]
  },
  {
   "cell_type": "code",
   "execution_count": null,
   "metadata": {},
   "outputs": [],
   "source": [
    "print (X.shape, y.shape)"
   ]
  },
  {
   "cell_type": "code",
   "execution_count": null,
   "metadata": {},
   "outputs": [],
   "source": [
    "X_train, X_test, y_train, y_test = train_test_split(X, y, test_size=0.2)"
   ]
  },
  {
   "cell_type": "code",
   "execution_count": null,
   "metadata": {},
   "outputs": [],
   "source": [
    "clf = LogisticRegression(max_iter=10000).fit(X_train, y_train)\n",
    "clf.fit(X_train, y_train)\n"
   ]
  },
  {
   "cell_type": "code",
   "execution_count": null,
   "metadata": {},
   "outputs": [],
   "source": [
    "from joblib import dump, load\n",
    "dump(clf, \"flowSense_classifier.joblib\")"
   ]
  },
  {
   "cell_type": "code",
   "execution_count": null,
   "metadata": {},
   "outputs": [],
   "source": [
    "y_pred = clf.predict(X_test)\n",
    "y_train_pred = clf.predict(X_train)"
   ]
  },
  {
   "cell_type": "code",
   "execution_count": null,
   "metadata": {},
   "outputs": [],
   "source": [
    "print(y_pred[:5])\n",
    "print(y_test[:5])"
   ]
  },
  {
   "cell_type": "code",
   "execution_count": null,
   "metadata": {},
   "outputs": [],
   "source": [
    "print(y_train_pred[:5])\n",
    "print(y_train[:5])"
   ]
  },
  {
   "cell_type": "code",
   "execution_count": null,
   "metadata": {},
   "outputs": [],
   "source": [
    "\n",
    "from sklearn.metrics import confusion_matrix, accuracy_score, recall_score, precision_score, f1_score\n",
    "\n",
    "# Confusion Matrix\n",
    "print(\"Confusion Matrix: \",confusion_matrix(y_test, y_pred))\n",
    "\n",
    "# Accuracy\n",
    "print(\"Accuracy Score: \", accuracy_score(y_test, y_pred))\n",
    "\n",
    "# Recall\n",
    "print(\"Recall: \", recall_score(y_test, y_pred, average=None))\n",
    "\n",
    "# Precision\n",
    "print(\"Precision: \",precision_score(y_test, y_pred, average=None))\n",
    "\n",
    "#F1\n",
    "print(\"F1 Score: \",f1_score(y_test, y_pred, average=None))\n"
   ]
  },
  {
   "cell_type": "code",
   "execution_count": null,
   "metadata": {},
   "outputs": [],
   "source": [
    "# Confusion Matrix\n",
    "print(\"Confusion Matrix: \",confusion_matrix(y_train, y_train_pred))\n",
    "\n",
    "# Accuracy\n",
    "print(\"Accuracy Score: \", accuracy_score(y_train, y_train_pred))\n",
    "\n",
    "# Recall\n",
    "print(\"Recall: \", recall_score(y_train, y_train_pred, average=None))\n",
    "\n",
    "# Precision\n",
    "print(\"Precision: \",precision_score(y_train, y_train_pred, average=None))\n",
    "\n",
    "#F1\n",
    "print(\"F1 Score: \",f1_score(y_train, y_train_pred, average=None))\n"
   ]
  },
  {
   "cell_type": "code",
   "execution_count": null,
   "metadata": {},
   "outputs": [],
   "source": [
    "plt.figure(figsize=(10,5))\n",
    "plt.plot(y_test[50:100], 'g', label=\"actual\")\n",
    "plt.plot(y_pred[50:100], 'r', label=\"predicted\")\n",
    "plt.legend()\n",
    "plt.xlabel(\"test points\")\n",
    "plt.ylabel(\"airflow(m/s)\")\n",
    "plt.title(\"Estimating Airflow (XGBoost)\")\n",
    "plt.savefig(\"final.png\")"
   ]
  },
  {
   "cell_type": "code",
   "execution_count": null,
   "metadata": {},
   "outputs": [],
   "source": [
    "plt.figure(figsize=(10,5))\n",
    "plt.plot(y_train[50:100], 'g', label=\"actual\")\n",
    "plt.plot(y_train_pred[50:100], 'r', label=\"predicted\")\n",
    "plt.legend()\n",
    "plt.xlabel(\"train points\")\n",
    "plt.ylabel(\"airflow(m/s)\")\n",
    "plt.title(\"Estimating Airflow (XGBoost)\")\n",
    "# plt.savefig(\"1m_v1.jpg\")\n",
    "\n"
   ]
  },
  {
   "cell_type": "code",
   "execution_count": null,
   "metadata": {},
   "outputs": [],
   "source": []
  },
  {
   "cell_type": "code",
   "execution_count": null,
   "metadata": {},
   "outputs": [],
   "source": []
  }
 ],
 "metadata": {
  "kernelspec": {
   "display_name": "Python 3",
   "language": "python",
   "name": "python3"
  },
  "language_info": {
   "codemirror_mode": {
    "name": "ipython",
    "version": 3
   },
   "file_extension": ".py",
   "mimetype": "text/x-python",
   "name": "python",
   "nbconvert_exporter": "python",
   "pygments_lexer": "ipython3",
   "version": "3.9.2"
  }
 },
 "nbformat": 4,
 "nbformat_minor": 4
}
