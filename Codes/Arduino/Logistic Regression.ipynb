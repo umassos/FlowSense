{
 "cells": [
  {
   "cell_type": "code",
   "execution_count": 1,
   "metadata": {},
   "outputs": [],
   "source": [
    "import numpy as np\n",
    "import pandas as pd\n",
    "from pathlib import Path\n",
    "\n",
    "from sklearn.linear_model import LogisticRegression, LogisticRegressionCV\n",
    "from sklearn.metrics import confusion_matrix, accuracy_score, recall_score, precision_score, f1_score\n",
    "from sklearn.model_selection import train_test_split\n",
    "\n",
    "np.random.seed(0)"
   ]
  },
  {
   "cell_type": "code",
   "execution_count": 2,
   "metadata": {},
   "outputs": [],
   "source": [
    "data_dir = Path('./Data_Files')"
   ]
  },
  {
   "cell_type": "code",
   "execution_count": 3,
   "metadata": {},
   "outputs": [],
   "source": [
    "df1 = pd.read_csv(data_dir / \"air_Ambient.csv\")\n",
    "df2 = pd.read_csv(data_dir / \"Noair_NoAmbient.csv\")\n",
    "df3 = pd.read_csv(data_dir / \"Noair_Ambient.csv\")\n",
    "df4 = pd.read_csv(data_dir / \"air_NoAmbient.csv\")"
   ]
  },
  {
   "cell_type": "code",
   "execution_count": 4,
   "metadata": {},
   "outputs": [],
   "source": [
    "def convert(df: pd.DataFrame, frame_size=128):\n",
    "    x = np.asarray(df.iloc[:, 0]).reshape(-1, frame_size)\n",
    "    x = x[x.shape[0]//10:-x.shape[0]//10]\n",
    "    return x, np.zeros(x.shape[0], dtype=int)"
   ]
  },
  {
   "cell_type": "code",
   "execution_count": 5,
   "metadata": {},
   "outputs": [],
   "source": [
    "X1, y1 = convert(df1)\n",
    "X2, y2 = convert(df2)\n",
    "X3, y3 = convert(df3)\n",
    "X4, y4 = convert(df4)\n",
    "\n",
    "y1 = y1 + 1\n",
    "y4 = y4 + 1"
   ]
  },
  {
   "cell_type": "code",
   "execution_count": 6,
   "metadata": {},
   "outputs": [
    {
     "name": "stdout",
     "output_type": "stream",
     "text": [
      "(226, 128)\n",
      "(226,)\n"
     ]
    }
   ],
   "source": [
    "X = np.concatenate((X1, X2, X3, X4), axis=0)\n",
    "y = np.concatenate((y1, y2, y3, y4), axis=0)\n",
    "\n",
    "X_train, X_test, y_train, y_test = train_test_split(X, y, test_size=0.2)\n",
    "\n",
    "print(X.shape)\n",
    "print(y.shape)\n",
    "classifier = LogisticRegression(max_iter=10000).fit(X_train, y_train)"
   ]
  },
  {
   "cell_type": "code",
   "execution_count": 7,
   "metadata": {},
   "outputs": [
    {
     "data": {
      "text/plain": [
       "array([1])"
      ]
     },
     "execution_count": 7,
     "metadata": {},
     "output_type": "execute_result"
    }
   ],
   "source": [
    "classifier.predict(X[0:1])"
   ]
  },
  {
   "cell_type": "code",
   "execution_count": 8,
   "metadata": {},
   "outputs": [
    {
     "data": {
      "text/plain": [
       "array([[0., 1.]])"
      ]
     },
     "execution_count": 8,
     "metadata": {},
     "output_type": "execute_result"
    }
   ],
   "source": [
    "classifier.predict_proba(X[0:1])"
   ]
  },
  {
   "cell_type": "code",
   "execution_count": 9,
   "metadata": {},
   "outputs": [],
   "source": [
    "y_pred = classifier.predict(X_test)"
   ]
  },
  {
   "cell_type": "code",
   "execution_count": 10,
   "metadata": {},
   "outputs": [
    {
     "name": "stdout",
     "output_type": "stream",
     "text": [
      "Accuracy percentage:  100.0\n"
     ]
    }
   ],
   "source": [
    "print(\"Accuracy percentage: \", 100*np.mean(y_pred == y_test))"
   ]
  },
  {
   "cell_type": "code",
   "execution_count": 11,
   "metadata": {},
   "outputs": [
    {
     "name": "stdout",
     "output_type": "stream",
     "text": [
      "[[-7.19619184e+01  1.15702212e-03  8.24275669e-03  1.40712255e-02\n",
      "   5.98322305e-03  1.07759710e-02 -4.71157753e-03 -1.43750940e-03\n",
      "   6.90747562e-03 -1.80718460e-03 -5.02313115e-03 -1.83214160e-03\n",
      "   1.35365263e-03 -3.58612915e-04 -2.50431520e-03  1.26071142e-04\n",
      "  -4.82416495e-04  9.81366415e-05  5.35582702e-04 -3.20204849e-04\n",
      "   7.32020595e-04 -9.66206477e-05  3.00147616e-04 -4.26213586e-04\n",
      "   2.87308376e-04  3.08072640e-04  5.78075586e-04  4.17600054e-04\n",
      "  -2.92883711e-04  5.36949695e-04 -7.81274796e-06  7.01706539e-04\n",
      "   3.88033250e-05  8.58381112e-04 -2.03413665e-05 -8.39895860e-05\n",
      "  -2.63793086e-04  1.02961176e-04 -1.97085578e-04 -3.85708356e-04\n",
      "  -3.71554910e-04  7.52171270e-04  2.30205594e-04  2.20566018e-04\n",
      "   4.12557100e-05  1.43635471e-04  1.89159565e-04  3.08086016e-04\n",
      "   3.10510338e-04 -3.71779917e-05  6.65191449e-04  5.37045820e-04\n",
      "   6.75459512e-04  3.23462262e-04  2.90311488e-04  3.75885284e-04\n",
      "   6.10743826e-04  4.29006792e-05  3.54109089e-04  3.66908123e-04\n",
      "   3.30759154e-04  5.23364250e-05 -1.78421027e-04 -2.03552000e-05\n",
      "   6.66026151e-05  1.76827696e-04  3.48254739e-04  1.35475278e-04\n",
      "   2.84109626e-04  1.09514494e-05  1.09124994e-04 -1.38834543e-04\n",
      "  -3.58950990e-04 -1.32154723e-04 -1.34036496e-04  2.18256173e-04\n",
      "   1.08833492e-04  3.85445431e-04  2.49851725e-04  1.22376695e-04\n",
      "  -1.86975564e-04 -1.71745597e-04 -5.68087017e-04  1.20602555e-04\n",
      "   1.92936063e-04  2.22956079e-05  2.19544631e-04  4.82098839e-05\n",
      "   2.40290148e-04  1.63396318e-04  3.58850666e-04  2.96603951e-04\n",
      "   4.29530939e-04  1.42813072e-04  4.48085495e-05  4.70138194e-04\n",
      "   2.24705255e-04  4.34293339e-04  4.90850684e-05  5.49962777e-04\n",
      "   7.01867766e-05  3.83062914e-05  3.71149485e-04  2.98068314e-04\n",
      "   5.93060545e-04  7.32687546e-04  5.67631869e-04  8.58157115e-04\n",
      "   4.00898993e-04  7.50197033e-04  1.08685543e-03  1.20274431e-03\n",
      "   6.19155885e-04  5.99012924e-04  7.14333657e-04  2.86445050e-04\n",
      "   5.88039518e-04  1.29012768e-04  2.93013376e-04  1.20761156e-04\n",
      "   3.93382833e-04  1.02710913e-04  2.33204399e-04  3.16666537e-04\n",
      "   3.08908679e-04  3.71666096e-04  3.57011918e-04  1.19456615e-04\n",
      "   4.20316089e-04]]\n"
     ]
    }
   ],
   "source": [
    "print(np.hstack((classifier.intercept_[:,None], classifier.coef_)))"
   ]
  },
  {
   "cell_type": "code",
   "execution_count": 12,
   "metadata": {},
   "outputs": [
    {
     "name": "stdout",
     "output_type": "stream",
     "text": [
      "MSE:  0.0\n"
     ]
    }
   ],
   "source": [
    "from sklearn.metrics import mean_squared_error\n",
    "print(\"MSE: \", mean_squared_error(y_test, y_pred))"
   ]
  },
  {
   "cell_type": "code",
   "execution_count": 13,
   "metadata": {
    "scrolled": true
   },
   "outputs": [
    {
     "name": "stdout",
     "output_type": "stream",
     "text": [
      "Confusion Matrix:  [[28  0]\n",
      " [ 0 18]]\n",
      "Accuracy Score:  1.0\n",
      "Recall:  [1. 1.]\n",
      "Precision:  [1. 1.]\n",
      "F1 Score:  [1. 1.]\n"
     ]
    }
   ],
   "source": [
    "# Confusion Matrix\n",
    "print(\"Confusion Matrix: \",confusion_matrix(y_test, y_pred))\n",
    "\n",
    "# Accuracy\n",
    "print(\"Accuracy Score: \", accuracy_score(y_test, y_pred))\n",
    "\n",
    "# Recall\n",
    "print(\"Recall: \", recall_score(y_test, y_pred, average=None))\n",
    "\n",
    "# Precision\n",
    "print(\"Precision: \",precision_score(y_test, y_pred, average=None))\n",
    "\n",
    "#F1\n",
    "print(\"F1 Score: \",f1_score(y_test, y_pred, average=None))"
   ]
  },
  {
   "cell_type": "code",
   "execution_count": null,
   "metadata": {},
   "outputs": [],
   "source": []
  }
 ],
 "metadata": {
  "kernelspec": {
   "display_name": "Python 3",
   "language": "python",
   "name": "python3"
  },
  "language_info": {
   "codemirror_mode": {
    "name": "ipython",
    "version": 3
   },
   "file_extension": ".py",
   "mimetype": "text/x-python",
   "name": "python",
   "nbconvert_exporter": "python",
   "pygments_lexer": "ipython3",
   "version": "3.9.2"
  }
 },
 "nbformat": 4,
 "nbformat_minor": 4
}
