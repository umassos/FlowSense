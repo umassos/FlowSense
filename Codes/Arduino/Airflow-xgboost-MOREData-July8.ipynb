{
 "cells": [
  {
   "cell_type": "code",
   "execution_count": 133,
   "metadata": {},
   "outputs": [],
   "source": [
    "import numpy as np\n",
    "import pandas as pd\n",
    "from pathlib import Path\n",
    "import torch\n",
    "from torch import nn\n",
    "import torch.nn.functional as F\n",
    "import matplotlib.pyplot as plt\n",
    "from sklearn.metrics import mean_squared_error\n",
    "from sklearn import datasets, ensemble\n",
    "from sklearn.inspection import permutation_importance\n",
    "import os\n",
    "import glob\n",
    "\n",
    "from sklearn.linear_model import LogisticRegression, LogisticRegressionCV, LinearRegression\n",
    "from sklearn.metrics import confusion_matrix, accuracy_score, recall_score, precision_score, f1_score\n",
    "from sklearn.model_selection import train_test_split\n",
    "pd.set_option('display.max_colwidth', None)\n",
    "\n",
    "np.random.seed(0)"
   ]
  },
  {
   "cell_type": "code",
   "execution_count": 134,
   "metadata": {},
   "outputs": [],
   "source": [
    "data_dir = Path('./Data_Files')"
   ]
  },
  {
   "cell_type": "code",
   "execution_count": 135,
   "metadata": {},
   "outputs": [],
   "source": [
    "# Params\n",
    "params = {'n_estimators': 500,\n",
    "          'max_depth': 4,\n",
    "          'min_samples_split': 5,\n",
    "          'learning_rate': 0.01,\n",
    "          'loss': 'ls'}"
   ]
  },
  {
   "cell_type": "code",
   "execution_count": 136,
   "metadata": {},
   "outputs": [],
   "source": [
    "df1 = pd.read_csv(data_dir / \"+60degrees.csv\", low_memory=False, names= ['frequency','amplitude'] , index_col = False)\n",
    "df2 = pd.read_csv(data_dir / \"0degrees.csv\", low_memory=False, names= ['frequency','amplitude'] , index_col = False)\n",
    "df3 = pd.read_csv(data_dir / \"16cm_away.csv\", low_memory=False, names= ['frequency','amplitude'] , index_col = False)\n",
    "df4 = pd.read_csv(data_dir / \"180.csv\", low_memory=False, names= ['frequency','amplitude'] , index_col = False)\n",
    "df5 = pd.read_csv(data_dir / \"32cm_away.csv\", low_memory=False, names= ['frequency','amplitude'] , index_col = False)\n",
    "df6 = pd.read_csv(data_dir / \"80cm_away.csv\", low_memory=False, names= ['frequency','amplitude'] , index_col = False)\n",
    "df7 = pd.read_csv(data_dir / \"air.csv\", low_memory=False, names= ['frequency','amplitude'] , index_col = False)\n",
    "df8 = pd.read_csv(data_dir / \"minus_60degrees.csv\", low_memory=False, names= ['frequency','amplitude'] , index_col = False)\n",
    "df9 = pd.read_csv(data_dir / \"no_air_.csv\", low_memory=False, names= ['frequency','amplitude'] , index_col = False)\n",
    "df10 = pd.read_csv(data_dir / \"vent_air.csv\", low_memory=False, names= ['frequency','amplitude'] , index_col = False)\n",
    "df11 = pd.read_csv(data_dir / \"very_close_to_vent.csv\", low_memory=False, names= ['frequency','amplitude'] , index_col = False)"
   ]
  },
  {
   "cell_type": "code",
   "execution_count": 137,
   "metadata": {},
   "outputs": [],
   "source": [
    "data_dir2 = Path(\"./Jun30_data_files/\")"
   ]
  },
  {
   "cell_type": "code",
   "execution_count": 138,
   "metadata": {},
   "outputs": [],
   "source": [
    "# for dir,subdir,files in os.walk(data_dir2):\n",
    "#     for i in files:\n",
    "#         print (i)\n",
    "#         if i==\"test2.txt\" and i == \"TEST2.TXT.sb-5b453c2d-NvFVlZ\":\n",
    "#             continue\n",
    "#         dataframe = pd.read_csv(data_dir2 / i, low_memory=False, names= ['frequency','amplitude'] , index_col = False)\n",
    "#         dataframe = dataframe[dataframe['frequency'] != \"clocktime\"]\n",
    "#         print(dataframe)\n",
    "#         dataframe = dataframe.dropna()\n",
    "#         #dataframe = dataframe[:129]\n",
    "#         #print(dataframe[:129*7])\n",
    "#         df12 = df12.append(dataframe)"
   ]
  },
  {
   "cell_type": "code",
   "execution_count": 139,
   "metadata": {},
   "outputs": [],
   "source": [
    "df12 = pd.read_csv(data_dir2 / \"Dist1_4.txt\", low_memory=False, names= ['frequency','amplitude'] , index_col = False)\n",
    "df12 = df12[df12['frequency'] != \"clocktime\"]\n",
    "\n",
    "\n",
    "df13 = pd.read_csv(data_dir2 / \"Dist1_6.txt\", low_memory=False, names= ['frequency','amplitude'] , index_col = False)\n",
    "df13 = df13[df13['frequency'] != \"clocktime\"]\n",
    "\n",
    "\n",
    "df14 = pd.read_csv(data_dir2 / \"Dist1_8.txt\", low_memory=False, names= ['frequency','amplitude'] , index_col = False)\n",
    "df14 = df14[df14['frequency'] != \"clocktime\"]\n",
    "\n",
    "\n",
    "df15 = pd.read_csv(data_dir2 / \"Dist1.txt\", low_memory=False, names= ['frequency','amplitude'] , index_col = False)\n",
    "df15 = df15[df15['frequency'] != \"clocktime\"]\n",
    "df15 = df15[:129*2]\n",
    "\n",
    "df16 = pd.read_csv(data_dir2 / \"Dist2.txt\", low_memory=False, names= ['frequency','amplitude'] , index_col = False)\n",
    "df16 = df16[df16['frequency'] != \"clocktime\"]\n",
    "\n",
    "df17 = pd.read_csv(data_dir2 / \"Dist1_2.txt\", low_memory=False, names= ['frequency','amplitude'] , index_col = False)\n",
    "df17 = df17[df17['frequency'] != \"clocktime\"]\n",
    "\n",
    "df18 = pd.read_csv(data_dir2 / \"Dist0_5.txt\", low_memory=False, names= ['frequency','amplitude'] , index_col = False)\n",
    "df18 = df18[df18['frequency'] != \"clocktime\"]\n",
    "\n",
    "df19 = pd.read_csv(data_dir2 / \"Dist0_3.txt\", low_memory=False, names= ['frequency','amplitude'] , index_col = False)\n",
    "df19 = df19[df19['frequency'] != \"clocktime\"]\n"
   ]
  },
  {
   "cell_type": "code",
   "execution_count": 140,
   "metadata": {},
   "outputs": [
    {
     "data": {
      "text/html": [
       "<div>\n",
       "<style scoped>\n",
       "    .dataframe tbody tr th:only-of-type {\n",
       "        vertical-align: middle;\n",
       "    }\n",
       "\n",
       "    .dataframe tbody tr th {\n",
       "        vertical-align: top;\n",
       "    }\n",
       "\n",
       "    .dataframe thead th {\n",
       "        text-align: right;\n",
       "    }\n",
       "</style>\n",
       "<table border=\"1\" class=\"dataframe\">\n",
       "  <thead>\n",
       "    <tr style=\"text-align: right;\">\n",
       "      <th></th>\n",
       "      <th>frequency</th>\n",
       "      <th>amplitude</th>\n",
       "    </tr>\n",
       "  </thead>\n",
       "  <tbody>\n",
       "    <tr>\n",
       "      <th>0</th>\n",
       "      <td>0.00</td>\n",
       "      <td>62997.4405</td>\n",
       "    </tr>\n",
       "    <tr>\n",
       "      <th>1</th>\n",
       "      <td>62.50</td>\n",
       "      <td>27144.8022</td>\n",
       "    </tr>\n",
       "    <tr>\n",
       "      <th>2</th>\n",
       "      <td>125.00</td>\n",
       "      <td>200.6097</td>\n",
       "    </tr>\n",
       "    <tr>\n",
       "      <th>3</th>\n",
       "      <td>187.50</td>\n",
       "      <td>174.9460</td>\n",
       "    </tr>\n",
       "    <tr>\n",
       "      <th>4</th>\n",
       "      <td>250.00</td>\n",
       "      <td>155.6979</td>\n",
       "    </tr>\n",
       "    <tr>\n",
       "      <th>...</th>\n",
       "      <td>...</td>\n",
       "      <td>...</td>\n",
       "    </tr>\n",
       "    <tr>\n",
       "      <th>124</th>\n",
       "      <td>3812.50</td>\n",
       "      <td>6.6091</td>\n",
       "    </tr>\n",
       "    <tr>\n",
       "      <th>125</th>\n",
       "      <td>3875.00</td>\n",
       "      <td>3.3312</td>\n",
       "    </tr>\n",
       "    <tr>\n",
       "      <th>126</th>\n",
       "      <td>3937.50</td>\n",
       "      <td>8.6702</td>\n",
       "    </tr>\n",
       "    <tr>\n",
       "      <th>127</th>\n",
       "      <td>4000.00</td>\n",
       "      <td>4.8962</td>\n",
       "    </tr>\n",
       "    <tr>\n",
       "      <th>128</th>\n",
       "      <td>4062.50</td>\n",
       "      <td>6.0034</td>\n",
       "    </tr>\n",
       "  </tbody>\n",
       "</table>\n",
       "<p>129 rows × 2 columns</p>\n",
       "</div>"
      ],
      "text/plain": [
       "    frequency   amplitude\n",
       "0        0.00  62997.4405\n",
       "1       62.50  27144.8022\n",
       "2      125.00    200.6097\n",
       "3      187.50    174.9460\n",
       "4      250.00    155.6979\n",
       "..        ...         ...\n",
       "124   3812.50      6.6091\n",
       "125   3875.00      3.3312\n",
       "126   3937.50      8.6702\n",
       "127   4000.00      4.8962\n",
       "128   4062.50      6.0034\n",
       "\n",
       "[129 rows x 2 columns]"
      ]
     },
     "execution_count": 140,
     "metadata": {},
     "output_type": "execute_result"
    }
   ],
   "source": [
    "df19[:129]"
   ]
  },
  {
   "cell_type": "code",
   "execution_count": 141,
   "metadata": {},
   "outputs": [],
   "source": [
    "data_dir3 = Path(\"./July1_data_files/\") \n",
    "\n",
    "df20 = pd.read_csv(data_dir3 / \"Dist10cm.txt\", low_memory=False, names= ['frequency','amplitude'] , index_col = False)\n",
    "df20 = df20[df20['frequency'] != \"clocktime\"]\n",
    "\n",
    "df21 = pd.read_csv(data_dir3 / \"Dist15cm.txt\", low_memory=False, names= ['frequency','amplitude'] , index_col = False)\n",
    "df21 = df21[df21['frequency'] != \"clocktime\"]\n",
    "df21 = df21[:129*4]\n",
    "\n",
    "df22 = pd.read_csv(data_dir3 / \"Dist20cm.txt\", low_memory=False, names= ['frequency','amplitude'] , index_col = False)\n",
    "df22 = df22[df22['frequency'] != \"clocktime\"]\n",
    "\n",
    "df23 = pd.read_csv(data_dir3 / \"Dist25cm.txt\", low_memory=False, names= ['frequency','amplitude'] , index_col = False)\n",
    "df23 = df23[df23['frequency'] != \"clocktime\"]\n",
    "\n",
    "df24 = pd.read_csv(data_dir3 / \"Dist30cm.txt\", low_memory=False, names= ['frequency','amplitude'] , index_col = False)\n",
    "df24 = df24[df24['frequency'] != \"clocktime\"]\n"
   ]
  },
  {
   "cell_type": "code",
   "execution_count": 142,
   "metadata": {},
   "outputs": [
    {
     "data": {
      "text/html": [
       "<div>\n",
       "<style scoped>\n",
       "    .dataframe tbody tr th:only-of-type {\n",
       "        vertical-align: middle;\n",
       "    }\n",
       "\n",
       "    .dataframe tbody tr th {\n",
       "        vertical-align: top;\n",
       "    }\n",
       "\n",
       "    .dataframe thead th {\n",
       "        text-align: right;\n",
       "    }\n",
       "</style>\n",
       "<table border=\"1\" class=\"dataframe\">\n",
       "  <thead>\n",
       "    <tr style=\"text-align: right;\">\n",
       "      <th></th>\n",
       "      <th>frequency</th>\n",
       "      <th>amplitude</th>\n",
       "    </tr>\n",
       "  </thead>\n",
       "  <tbody>\n",
       "    <tr>\n",
       "      <th>0</th>\n",
       "      <td>0.00</td>\n",
       "      <td>64181.0745</td>\n",
       "    </tr>\n",
       "    <tr>\n",
       "      <th>1</th>\n",
       "      <td>62.50</td>\n",
       "      <td>27679.9321</td>\n",
       "    </tr>\n",
       "    <tr>\n",
       "      <th>2</th>\n",
       "      <td>125.00</td>\n",
       "      <td>805.2501</td>\n",
       "    </tr>\n",
       "    <tr>\n",
       "      <th>3</th>\n",
       "      <td>187.50</td>\n",
       "      <td>612.9744</td>\n",
       "    </tr>\n",
       "    <tr>\n",
       "      <th>4</th>\n",
       "      <td>250.00</td>\n",
       "      <td>54.4231</td>\n",
       "    </tr>\n",
       "    <tr>\n",
       "      <th>...</th>\n",
       "      <td>...</td>\n",
       "      <td>...</td>\n",
       "    </tr>\n",
       "    <tr>\n",
       "      <th>514</th>\n",
       "      <td>4687.50</td>\n",
       "      <td>6.0488</td>\n",
       "    </tr>\n",
       "    <tr>\n",
       "      <th>515</th>\n",
       "      <td>4750.00</td>\n",
       "      <td>6.4397</td>\n",
       "    </tr>\n",
       "    <tr>\n",
       "      <th>516</th>\n",
       "      <td>4812.50</td>\n",
       "      <td>5.7914</td>\n",
       "    </tr>\n",
       "    <tr>\n",
       "      <th>517</th>\n",
       "      <td>4875.00</td>\n",
       "      <td>7.9436</td>\n",
       "    </tr>\n",
       "    <tr>\n",
       "      <th>518</th>\n",
       "      <td>4937.50</td>\n",
       "      <td>11.7199</td>\n",
       "    </tr>\n",
       "  </tbody>\n",
       "</table>\n",
       "<p>516 rows × 2 columns</p>\n",
       "</div>"
      ],
      "text/plain": [
       "    frequency   amplitude\n",
       "0        0.00  64181.0745\n",
       "1       62.50  27679.9321\n",
       "2      125.00    805.2501\n",
       "3      187.50    612.9744\n",
       "4      250.00     54.4231\n",
       "..        ...         ...\n",
       "514   4687.50      6.0488\n",
       "515   4750.00      6.4397\n",
       "516   4812.50      5.7914\n",
       "517   4875.00      7.9436\n",
       "518   4937.50     11.7199\n",
       "\n",
       "[516 rows x 2 columns]"
      ]
     },
     "execution_count": 142,
     "metadata": {},
     "output_type": "execute_result"
    }
   ],
   "source": [
    "df21"
   ]
  },
  {
   "cell_type": "code",
   "execution_count": 143,
   "metadata": {},
   "outputs": [
    {
     "data": {
      "text/html": [
       "<div>\n",
       "<style scoped>\n",
       "    .dataframe tbody tr th:only-of-type {\n",
       "        vertical-align: middle;\n",
       "    }\n",
       "\n",
       "    .dataframe tbody tr th {\n",
       "        vertical-align: top;\n",
       "    }\n",
       "\n",
       "    .dataframe thead th {\n",
       "        text-align: right;\n",
       "    }\n",
       "</style>\n",
       "<table border=\"1\" class=\"dataframe\">\n",
       "  <thead>\n",
       "    <tr style=\"text-align: right;\">\n",
       "      <th></th>\n",
       "      <th>frequency</th>\n",
       "      <th>amplitude</th>\n",
       "    </tr>\n",
       "  </thead>\n",
       "  <tbody>\n",
       "    <tr>\n",
       "      <th>0</th>\n",
       "      <td>0</td>\n",
       "      <td>17959.1616</td>\n",
       "    </tr>\n",
       "    <tr>\n",
       "      <th>1</th>\n",
       "      <td>NaN</td>\n",
       "      <td>NaN</td>\n",
       "    </tr>\n",
       "    <tr>\n",
       "      <th>2</th>\n",
       "      <td>62.5</td>\n",
       "      <td>14926.8584</td>\n",
       "    </tr>\n",
       "    <tr>\n",
       "      <th>3</th>\n",
       "      <td>NaN</td>\n",
       "      <td>NaN</td>\n",
       "    </tr>\n",
       "    <tr>\n",
       "      <th>4</th>\n",
       "      <td>125</td>\n",
       "      <td>8456.3285</td>\n",
       "    </tr>\n",
       "    <tr>\n",
       "      <th>...</th>\n",
       "      <td>...</td>\n",
       "      <td>...</td>\n",
       "    </tr>\n",
       "    <tr>\n",
       "      <th>254</th>\n",
       "      <td>7750.00</td>\n",
       "      <td>13.8772</td>\n",
       "    </tr>\n",
       "    <tr>\n",
       "      <th>255</th>\n",
       "      <td>7812.50</td>\n",
       "      <td>6.5316</td>\n",
       "    </tr>\n",
       "    <tr>\n",
       "      <th>256</th>\n",
       "      <td>7875.00</td>\n",
       "      <td>4.5014</td>\n",
       "    </tr>\n",
       "    <tr>\n",
       "      <th>257</th>\n",
       "      <td>7937.50</td>\n",
       "      <td>3.4407</td>\n",
       "    </tr>\n",
       "    <tr>\n",
       "      <th>258</th>\n",
       "      <td>airflow(m/s)</td>\n",
       "      <td>9.4500</td>\n",
       "    </tr>\n",
       "  </tbody>\n",
       "</table>\n",
       "<p>188945 rows × 2 columns</p>\n",
       "</div>"
      ],
      "text/plain": [
       "        frequency   amplitude\n",
       "0               0  17959.1616\n",
       "1             NaN         NaN\n",
       "2            62.5  14926.8584\n",
       "3             NaN         NaN\n",
       "4             125   8456.3285\n",
       "..            ...         ...\n",
       "254       7750.00     13.8772\n",
       "255       7812.50      6.5316\n",
       "256       7875.00      4.5014\n",
       "257       7937.50      3.4407\n",
       "258  airflow(m/s)      9.4500\n",
       "\n",
       "[188945 rows x 2 columns]"
      ]
     },
     "execution_count": 143,
     "metadata": {},
     "output_type": "execute_result"
    }
   ],
   "source": [
    "df = df1.append([df2, df3, df4, df5, df6, df7, df8, df9, df10, df11, df12, df13, df14, df16, df17, df18, df20, df22, df23, df24])\n",
    "df"
   ]
  },
  {
   "cell_type": "code",
   "execution_count": 144,
   "metadata": {},
   "outputs": [
    {
     "data": {
      "text/html": [
       "<div>\n",
       "<style scoped>\n",
       "    .dataframe tbody tr th:only-of-type {\n",
       "        vertical-align: middle;\n",
       "    }\n",
       "\n",
       "    .dataframe tbody tr th {\n",
       "        vertical-align: top;\n",
       "    }\n",
       "\n",
       "    .dataframe thead th {\n",
       "        text-align: right;\n",
       "    }\n",
       "</style>\n",
       "<table border=\"1\" class=\"dataframe\">\n",
       "  <thead>\n",
       "    <tr style=\"text-align: right;\">\n",
       "      <th></th>\n",
       "      <th>frequency</th>\n",
       "      <th>amplitude</th>\n",
       "    </tr>\n",
       "  </thead>\n",
       "  <tbody>\n",
       "    <tr>\n",
       "      <th>0</th>\n",
       "      <td>0</td>\n",
       "      <td>17959.1616</td>\n",
       "    </tr>\n",
       "    <tr>\n",
       "      <th>2</th>\n",
       "      <td>62.5</td>\n",
       "      <td>14926.8584</td>\n",
       "    </tr>\n",
       "    <tr>\n",
       "      <th>4</th>\n",
       "      <td>125</td>\n",
       "      <td>8456.3285</td>\n",
       "    </tr>\n",
       "    <tr>\n",
       "      <th>6</th>\n",
       "      <td>187.5</td>\n",
       "      <td>1466.4065</td>\n",
       "    </tr>\n",
       "    <tr>\n",
       "      <th>8</th>\n",
       "      <td>250</td>\n",
       "      <td>1123.9574</td>\n",
       "    </tr>\n",
       "    <tr>\n",
       "      <th>...</th>\n",
       "      <td>...</td>\n",
       "      <td>...</td>\n",
       "    </tr>\n",
       "    <tr>\n",
       "      <th>254</th>\n",
       "      <td>7750.00</td>\n",
       "      <td>13.8772</td>\n",
       "    </tr>\n",
       "    <tr>\n",
       "      <th>255</th>\n",
       "      <td>7812.50</td>\n",
       "      <td>6.5316</td>\n",
       "    </tr>\n",
       "    <tr>\n",
       "      <th>256</th>\n",
       "      <td>7875.00</td>\n",
       "      <td>4.5014</td>\n",
       "    </tr>\n",
       "    <tr>\n",
       "      <th>257</th>\n",
       "      <td>7937.50</td>\n",
       "      <td>3.4407</td>\n",
       "    </tr>\n",
       "    <tr>\n",
       "      <th>258</th>\n",
       "      <td>airflow(m/s)</td>\n",
       "      <td>9.4500</td>\n",
       "    </tr>\n",
       "  </tbody>\n",
       "</table>\n",
       "<p>96492 rows × 2 columns</p>\n",
       "</div>"
      ],
      "text/plain": [
       "        frequency   amplitude\n",
       "0               0  17959.1616\n",
       "2            62.5  14926.8584\n",
       "4             125   8456.3285\n",
       "6           187.5   1466.4065\n",
       "8             250   1123.9574\n",
       "..            ...         ...\n",
       "254       7750.00     13.8772\n",
       "255       7812.50      6.5316\n",
       "256       7875.00      4.5014\n",
       "257       7937.50      3.4407\n",
       "258  airflow(m/s)      9.4500\n",
       "\n",
       "[96492 rows x 2 columns]"
      ]
     },
     "execution_count": 144,
     "metadata": {},
     "output_type": "execute_result"
    }
   ],
   "source": [
    "df = df.dropna()\n",
    "df[:129*800]"
   ]
  },
  {
   "cell_type": "code",
   "execution_count": 145,
   "metadata": {},
   "outputs": [],
   "source": [
    "def convert(df: pd.DataFrame, frame_size=129):\n",
    "    x = np.asarray(df.iloc[:, 1]).reshape(-1, frame_size)\n",
    "#     x = x[x.shape[0]//10:-x.shape[0]//10]\n",
    "    return x"
   ]
  },
  {
   "cell_type": "code",
   "execution_count": 146,
   "metadata": {},
   "outputs": [
    {
     "data": {
      "text/html": [
       "<div>\n",
       "<style scoped>\n",
       "    .dataframe tbody tr th:only-of-type {\n",
       "        vertical-align: middle;\n",
       "    }\n",
       "\n",
       "    .dataframe tbody tr th {\n",
       "        vertical-align: top;\n",
       "    }\n",
       "\n",
       "    .dataframe thead th {\n",
       "        text-align: right;\n",
       "    }\n",
       "</style>\n",
       "<table border=\"1\" class=\"dataframe\">\n",
       "  <thead>\n",
       "    <tr style=\"text-align: right;\">\n",
       "      <th></th>\n",
       "      <th>frequency</th>\n",
       "      <th>amplitude</th>\n",
       "    </tr>\n",
       "  </thead>\n",
       "  <tbody>\n",
       "    <tr>\n",
       "      <th>0</th>\n",
       "      <td>0</td>\n",
       "      <td>17959.1616</td>\n",
       "    </tr>\n",
       "    <tr>\n",
       "      <th>2</th>\n",
       "      <td>62.5</td>\n",
       "      <td>14926.8584</td>\n",
       "    </tr>\n",
       "    <tr>\n",
       "      <th>4</th>\n",
       "      <td>125</td>\n",
       "      <td>8456.3285</td>\n",
       "    </tr>\n",
       "    <tr>\n",
       "      <th>6</th>\n",
       "      <td>187.5</td>\n",
       "      <td>1466.4065</td>\n",
       "    </tr>\n",
       "    <tr>\n",
       "      <th>8</th>\n",
       "      <td>250</td>\n",
       "      <td>1123.9574</td>\n",
       "    </tr>\n",
       "    <tr>\n",
       "      <th>...</th>\n",
       "      <td>...</td>\n",
       "      <td>...</td>\n",
       "    </tr>\n",
       "    <tr>\n",
       "      <th>254</th>\n",
       "      <td>7750.00</td>\n",
       "      <td>13.8772</td>\n",
       "    </tr>\n",
       "    <tr>\n",
       "      <th>255</th>\n",
       "      <td>7812.50</td>\n",
       "      <td>6.5316</td>\n",
       "    </tr>\n",
       "    <tr>\n",
       "      <th>256</th>\n",
       "      <td>7875.00</td>\n",
       "      <td>4.5014</td>\n",
       "    </tr>\n",
       "    <tr>\n",
       "      <th>257</th>\n",
       "      <td>7937.50</td>\n",
       "      <td>3.4407</td>\n",
       "    </tr>\n",
       "    <tr>\n",
       "      <th>258</th>\n",
       "      <td>airflow(m/s)</td>\n",
       "      <td>9.4500</td>\n",
       "    </tr>\n",
       "  </tbody>\n",
       "</table>\n",
       "<p>96492 rows × 2 columns</p>\n",
       "</div>"
      ],
      "text/plain": [
       "        frequency   amplitude\n",
       "0               0  17959.1616\n",
       "2            62.5  14926.8584\n",
       "4             125   8456.3285\n",
       "6           187.5   1466.4065\n",
       "8             250   1123.9574\n",
       "..            ...         ...\n",
       "254       7750.00     13.8772\n",
       "255       7812.50      6.5316\n",
       "256       7875.00      4.5014\n",
       "257       7937.50      3.4407\n",
       "258  airflow(m/s)      9.4500\n",
       "\n",
       "[96492 rows x 2 columns]"
      ]
     },
     "execution_count": 146,
     "metadata": {},
     "output_type": "execute_result"
    }
   ],
   "source": [
    "# df = df[df.columns[1:2]]\n",
    "df"
   ]
  },
  {
   "cell_type": "code",
   "execution_count": 147,
   "metadata": {},
   "outputs": [
    {
     "data": {
      "text/plain": [
       "(748, 129)"
      ]
     },
     "execution_count": 147,
     "metadata": {},
     "output_type": "execute_result"
    }
   ],
   "source": [
    "data = convert(df)\n",
    "data.shape\n"
   ]
  },
  {
   "cell_type": "code",
   "execution_count": 148,
   "metadata": {},
   "outputs": [
    {
     "data": {
      "text/plain": [
       "(748, 9)"
      ]
     },
     "execution_count": 148,
     "metadata": {},
     "output_type": "execute_result"
    }
   ],
   "source": [
    "X = data[:,:-1]\n",
    "\n",
    "X = X[:, :9]\n",
    "X.shape"
   ]
  },
  {
   "cell_type": "code",
   "execution_count": 149,
   "metadata": {},
   "outputs": [
    {
     "data": {
      "text/plain": [
       "(748,)"
      ]
     },
     "execution_count": 149,
     "metadata": {},
     "output_type": "execute_result"
    }
   ],
   "source": [
    "y = data[:, -1]\n",
    "y.shape\n",
    "# print(y)"
   ]
  },
  {
   "cell_type": "code",
   "execution_count": 150,
   "metadata": {},
   "outputs": [],
   "source": [
    "X_train, X_test, y_train, y_test = train_test_split(X, y, test_size=0.2)"
   ]
  },
  {
   "cell_type": "code",
   "execution_count": 151,
   "metadata": {},
   "outputs": [
    {
     "data": {
      "text/plain": [
       "GradientBoostingRegressor(learning_rate=0.01, max_depth=4, min_samples_split=5,\n",
       "                          n_estimators=500)"
      ]
     },
     "execution_count": 151,
     "metadata": {},
     "output_type": "execute_result"
    }
   ],
   "source": [
    "reg = ensemble.GradientBoostingRegressor(**params)\n",
    "reg.fit(X_train, y_train)"
   ]
  },
  {
   "cell_type": "code",
   "execution_count": 152,
   "metadata": {},
   "outputs": [],
   "source": [
    "y_pred = reg.predict(X_test)\n",
    "y_train_pred = reg.predict(X_train)"
   ]
  },
  {
   "cell_type": "code",
   "execution_count": 153,
   "metadata": {},
   "outputs": [
    {
     "name": "stdout",
     "output_type": "stream",
     "text": [
      "[ 7.01876679 21.99955514 20.38938396 21.05449943 21.85772035]\n",
      "[ 6.31 22.43 20.04 19.04 22.15]\n"
     ]
    }
   ],
   "source": [
    "print(y_pred[:5])\n",
    "print(y_test[:5])"
   ]
  },
  {
   "cell_type": "code",
   "execution_count": 154,
   "metadata": {},
   "outputs": [
    {
     "name": "stdout",
     "output_type": "stream",
     "text": [
      "[10.80770943 21.22934901 19.57277498 20.43419146  5.34403244]\n",
      "[ 6.77 21.61 19.79 19.79  5.05]\n"
     ]
    }
   ],
   "source": [
    "print(y_train_pred[:5])\n",
    "print(y_train[:5])"
   ]
  },
  {
   "cell_type": "code",
   "execution_count": 155,
   "metadata": {},
   "outputs": [
    {
     "name": "stdout",
     "output_type": "stream",
     "text": [
      "MSE of test:  4.535654456031213\n"
     ]
    }
   ],
   "source": [
    "print(\"MSE of test: \", mean_squared_error(y_test, y_pred))"
   ]
  },
  {
   "cell_type": "code",
   "execution_count": 156,
   "metadata": {},
   "outputs": [
    {
     "name": "stdout",
     "output_type": "stream",
     "text": [
      "MSE of training:  1.7231964966489604\n"
     ]
    }
   ],
   "source": [
    "print(\"MSE of training: \",  mean_squared_error(y_train, y_train_pred))"
   ]
  },
  {
   "cell_type": "code",
   "execution_count": 157,
   "metadata": {},
   "outputs": [
    {
     "data": {
      "text/plain": [
       "Text(0.5, 1.0, 'Estimating Airflow (XGBoost)')"
      ]
     },
     "execution_count": 157,
     "metadata": {},
     "output_type": "execute_result"
    },
    {
     "data": {
      "image/png": "[encoded data removed]",
      "text/plain": [
       "<Figure size 720x360 with 1 Axes>"
      ]
     },
     "metadata": {
      "needs_background": "light"
     },
     "output_type": "display_data"
    }
   ],
   "source": [
    "plt.figure(figsize=(10,5))\n",
    "plt.plot(y_test, 'g', label=\"actual\")\n",
    "plt.plot(y_pred, 'r', label=\"predicted\")\n",
    "plt.legend()\n",
    "plt.xlabel(\"test points\")\n",
    "plt.ylabel(\"airflow(m/s)\")\n",
    "plt.title(\"Estimating Airflow (XGBoost)\")"
   ]
  },
  {
   "cell_type": "code",
   "execution_count": null,
   "metadata": {},
   "outputs": [],
   "source": []
  },
  {
   "cell_type": "code",
   "execution_count": null,
   "metadata": {},
   "outputs": [],
   "source": []
  },
  {
   "cell_type": "code",
   "execution_count": null,
   "metadata": {},
   "outputs": [],
   "source": []
  }
 ],
 "metadata": {
  "kernelspec": {
   "display_name": "Python 3",
   "language": "python",
   "name": "python3"
  },
  "language_info": {
   "codemirror_mode": {
    "name": "ipython",
    "version": 3
   },
   "file_extension": ".py",
   "mimetype": "text/x-python",
   "name": "python",
   "nbconvert_exporter": "python",
   "pygments_lexer": "ipython3",
   "version": "3.9.2"
  }
 },
 "nbformat": 4,
 "nbformat_minor": 4
}
