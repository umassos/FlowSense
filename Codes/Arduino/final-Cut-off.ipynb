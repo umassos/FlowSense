{
 "cells": [
  {
   "cell_type": "code",
   "execution_count": 192,
   "metadata": {},
   "outputs": [],
   "source": [
    "import numpy as np\n",
    "import pandas as pd\n",
    "from pathlib import Path\n",
    "import torch\n",
    "from torch import nn\n",
    "import torch.nn.functional as F\n",
    "import matplotlib.pyplot as plt\n",
    "from sklearn.metrics import mean_squared_error\n",
    "from sklearn import datasets, ensemble\n",
    "from sklearn.inspection import permutation_importance\n",
    "import os\n",
    "import glob\n",
    "from sklearn.neighbors import KNeighborsClassifier\n",
    "from sklearn import neighbors\n",
    "from sklearn import datasets, linear_model, metrics\n",
    "\n",
    "from sklearn.svm import SVR\n",
    "from sklearn.tree import DecisionTreeRegressor\n",
    "from sklearn.linear_model import LogisticRegression, LogisticRegressionCV, LinearRegression\n",
    "from sklearn.metrics import confusion_matrix, accuracy_score, recall_score, precision_score, f1_score\n",
    "from sklearn.model_selection import train_test_split\n",
    "pd.set_option('display.max_colwidth', None)\n",
    "\n",
    "np.random.seed(0)"
   ]
  },
  {
   "cell_type": "code",
   "execution_count": 193,
   "metadata": {},
   "outputs": [],
   "source": [
    "data_dir = Path('./Data_Files')"
   ]
  },
  {
   "cell_type": "code",
   "execution_count": 194,
   "metadata": {},
   "outputs": [],
   "source": [
    "# Params\n",
    "params = {'n_estimators': 500,\n",
    "          'max_depth': 4,\n",
    "          'min_samples_split': 5,\n",
    "          'learning_rate': 0.01,\n",
    "          'loss': 'ls'}"
   ]
  },
  {
   "cell_type": "code",
   "execution_count": 195,
   "metadata": {},
   "outputs": [],
   "source": [
    "df1 = pd.read_csv(data_dir / \"+60degrees.csv\", low_memory=False, names= ['frequency','amplitude'] , index_col = False)\n",
    "df2 = pd.read_csv(data_dir / \"0degrees.csv\", low_memory=False, names= ['frequency','amplitude'] , index_col = False)\n",
    "df3 = pd.read_csv(data_dir / \"16cm_away.csv\", low_memory=False, names= ['frequency','amplitude'] , index_col = False)\n",
    "df4 = pd.read_csv(data_dir / \"180.csv\", low_memory=False, names= ['frequency','amplitude'] , index_col = False)\n",
    "df5 = pd.read_csv(data_dir / \"32cm_away.csv\", low_memory=False, names= ['frequency','amplitude'] , index_col = False)\n",
    "df6 = pd.read_csv(data_dir / \"80cm_away.csv\", low_memory=False, names= ['frequency','amplitude'] , index_col = False)\n",
    "df7 = pd.read_csv(data_dir / \"air.csv\", low_memory=False, names= ['frequency','amplitude'] , index_col = False)\n",
    "df8 = pd.read_csv(data_dir / \"minus_60degrees.csv\", low_memory=False, names= ['frequency','amplitude'] , index_col = False)\n",
    "df9 = pd.read_csv(data_dir / \"no_air_.csv\", low_memory=False, names= ['frequency','amplitude'] , index_col = False)\n",
    "df10 = pd.read_csv(data_dir / \"vent_air.csv\", low_memory=False, names= ['frequency','amplitude'] , index_col = False)\n",
    "df11 = pd.read_csv(data_dir / \"very_close_to_vent.csv\", low_memory=False, names= ['frequency','amplitude'] , index_col = False)"
   ]
  },
  {
   "cell_type": "code",
   "execution_count": 196,
   "metadata": {},
   "outputs": [],
   "source": [
    "data_dir2 = Path(\"./Jun30_data_files/\")"
   ]
  },
  {
   "cell_type": "code",
   "execution_count": 197,
   "metadata": {},
   "outputs": [],
   "source": [
    "# for dir,subdir,files in os.walk(data_dir2):\n",
    "#     for i in files:\n",
    "#         print (i)\n",
    "#         if i==\"test2.txt\" and i == \"TEST2.TXT.sb-5b453c2d-NvFVlZ\":\n",
    "#             continue\n",
    "#         dataframe = pd.read_csv(data_dir2 / i, low_memory=False, names= ['frequency','amplitude'] , index_col = False)\n",
    "#         dataframe = dataframe[dataframe['frequency'] != \"clocktime\"]\n",
    "#         print(dataframe)\n",
    "#         dataframe = dataframe.dropna()\n",
    "#         #dataframe = dataframe[:129]\n",
    "#         #print(dataframe[:129*7])\n",
    "#         df12 = df12.append(dataframe)"
   ]
  },
  {
   "cell_type": "code",
   "execution_count": 198,
   "metadata": {},
   "outputs": [],
   "source": [
    "df12 = pd.read_csv(data_dir2 / \"Dist1_4.txt\", low_memory=False, names= ['frequency','amplitude'] , index_col = False)\n",
    "df12 = df12[df12['frequency'] != \"clocktime\"]\n",
    "\n",
    "\n",
    "df13 = pd.read_csv(data_dir2 / \"Dist1_6.txt\", low_memory=False, names= ['frequency','amplitude'] , index_col = False)\n",
    "df13 = df13[df13['frequency'] != \"clocktime\"]\n",
    "\n",
    "\n",
    "df14 = pd.read_csv(data_dir2 / \"Dist1_8.txt\", low_memory=False, names= ['frequency','amplitude'] , index_col = False)\n",
    "df14 = df14[df14['frequency'] != \"clocktime\"]\n",
    "\n",
    "\n",
    "df15 = pd.read_csv(data_dir2 / \"Dist1.txt\", low_memory=False, names= ['frequency','amplitude'] , index_col = False)\n",
    "df15 = df15[df15['frequency'] != \"clocktime\"]\n",
    "df15 = df15[:129*2]\n",
    "\n",
    "df16 = pd.read_csv(data_dir2 / \"Dist2.txt\", low_memory=False, names= ['frequency','amplitude'] , index_col = False)\n",
    "df16 = df16[df16['frequency'] != \"clocktime\"]\n",
    "\n",
    "df17 = pd.read_csv(data_dir2 / \"Dist1_2.txt\", low_memory=False, names= ['frequency','amplitude'] , index_col = False)\n",
    "df17 = df17[df17['frequency'] != \"clocktime\"]\n",
    "\n",
    "df18 = pd.read_csv(data_dir2 / \"Dist0_5.txt\", low_memory=False, names= ['frequency','amplitude'] , index_col = False)\n",
    "df18 = df18[df18['frequency'] != \"clocktime\"]\n",
    "\n",
    "df19 = pd.read_csv(data_dir2 / \"Dist0_3.txt\", low_memory=False, names= ['frequency','amplitude'] , index_col = False)\n",
    "df19 = df19[df19['frequency'] != \"clocktime\"]\n"
   ]
  },
  {
   "cell_type": "code",
   "execution_count": 199,
   "metadata": {},
   "outputs": [
    {
     "data": {
      "text/html": [
       "<div>\n",
       "<style scoped>\n",
       "    .dataframe tbody tr th:only-of-type {\n",
       "        vertical-align: middle;\n",
       "    }\n",
       "\n",
       "    .dataframe tbody tr th {\n",
       "        vertical-align: top;\n",
       "    }\n",
       "\n",
       "    .dataframe thead th {\n",
       "        text-align: right;\n",
       "    }\n",
       "</style>\n",
       "<table border=\"1\" class=\"dataframe\">\n",
       "  <thead>\n",
       "    <tr style=\"text-align: right;\">\n",
       "      <th></th>\n",
       "      <th>frequency</th>\n",
       "      <th>amplitude</th>\n",
       "    </tr>\n",
       "  </thead>\n",
       "  <tbody>\n",
       "    <tr>\n",
       "      <th>0</th>\n",
       "      <td>0.00</td>\n",
       "      <td>62997.4405</td>\n",
       "    </tr>\n",
       "    <tr>\n",
       "      <th>1</th>\n",
       "      <td>62.50</td>\n",
       "      <td>27144.8022</td>\n",
       "    </tr>\n",
       "    <tr>\n",
       "      <th>2</th>\n",
       "      <td>125.00</td>\n",
       "      <td>200.6097</td>\n",
       "    </tr>\n",
       "    <tr>\n",
       "      <th>3</th>\n",
       "      <td>187.50</td>\n",
       "      <td>174.9460</td>\n",
       "    </tr>\n",
       "    <tr>\n",
       "      <th>4</th>\n",
       "      <td>250.00</td>\n",
       "      <td>155.6979</td>\n",
       "    </tr>\n",
       "    <tr>\n",
       "      <th>...</th>\n",
       "      <td>...</td>\n",
       "      <td>...</td>\n",
       "    </tr>\n",
       "    <tr>\n",
       "      <th>124</th>\n",
       "      <td>3812.50</td>\n",
       "      <td>6.6091</td>\n",
       "    </tr>\n",
       "    <tr>\n",
       "      <th>125</th>\n",
       "      <td>3875.00</td>\n",
       "      <td>3.3312</td>\n",
       "    </tr>\n",
       "    <tr>\n",
       "      <th>126</th>\n",
       "      <td>3937.50</td>\n",
       "      <td>8.6702</td>\n",
       "    </tr>\n",
       "    <tr>\n",
       "      <th>127</th>\n",
       "      <td>4000.00</td>\n",
       "      <td>4.8962</td>\n",
       "    </tr>\n",
       "    <tr>\n",
       "      <th>128</th>\n",
       "      <td>4062.50</td>\n",
       "      <td>6.0034</td>\n",
       "    </tr>\n",
       "  </tbody>\n",
       "</table>\n",
       "<p>129 rows × 2 columns</p>\n",
       "</div>"
      ],
      "text/plain": [
       "    frequency   amplitude\n",
       "0        0.00  62997.4405\n",
       "1       62.50  27144.8022\n",
       "2      125.00    200.6097\n",
       "3      187.50    174.9460\n",
       "4      250.00    155.6979\n",
       "..        ...         ...\n",
       "124   3812.50      6.6091\n",
       "125   3875.00      3.3312\n",
       "126   3937.50      8.6702\n",
       "127   4000.00      4.8962\n",
       "128   4062.50      6.0034\n",
       "\n",
       "[129 rows x 2 columns]"
      ]
     },
     "execution_count": 199,
     "metadata": {},
     "output_type": "execute_result"
    }
   ],
   "source": [
    "df19[:129]"
   ]
  },
  {
   "cell_type": "code",
   "execution_count": 200,
   "metadata": {},
   "outputs": [],
   "source": [
    "data_dir3 = Path(\"./July1_data_files/\") \n",
    "\n",
    "df20 = pd.read_csv(data_dir3 / \"Dist10cm.txt\", low_memory=False, names= ['frequency','amplitude'] , index_col = False)\n",
    "df20 = df20[df20['frequency'] != \"clocktime\"]\n",
    "\n",
    "df21 = pd.read_csv(data_dir3 / \"Dist15cm.txt\", low_memory=False, names= ['frequency','amplitude'] , index_col = False)\n",
    "df21 = df21[df21['frequency'] != \"clocktime\"]\n",
    "df21 = df21[:129*4]\n",
    "\n",
    "df22 = pd.read_csv(data_dir3 / \"Dist20cm.txt\", low_memory=False, names= ['frequency','amplitude'] , index_col = False)\n",
    "df22 = df22[df22['frequency'] != \"clocktime\"]\n",
    "\n",
    "df23 = pd.read_csv(data_dir3 / \"Dist25cm.txt\", low_memory=False, names= ['frequency','amplitude'] , index_col = False)\n",
    "df23 = df23[df23['frequency'] != \"clocktime\"]\n",
    "\n",
    "df24 = pd.read_csv(data_dir3 / \"Dist30cm.txt\", low_memory=False, names= ['frequency','amplitude'] , index_col = False)\n",
    "df24 = df24[df24['frequency'] != \"clocktime\"]\n"
   ]
  },
  {
   "cell_type": "code",
   "execution_count": 201,
   "metadata": {
    "scrolled": true
   },
   "outputs": [
    {
     "data": {
      "text/html": [
       "<div>\n",
       "<style scoped>\n",
       "    .dataframe tbody tr th:only-of-type {\n",
       "        vertical-align: middle;\n",
       "    }\n",
       "\n",
       "    .dataframe tbody tr th {\n",
       "        vertical-align: top;\n",
       "    }\n",
       "\n",
       "    .dataframe thead th {\n",
       "        text-align: right;\n",
       "    }\n",
       "</style>\n",
       "<table border=\"1\" class=\"dataframe\">\n",
       "  <thead>\n",
       "    <tr style=\"text-align: right;\">\n",
       "      <th></th>\n",
       "      <th>frequency</th>\n",
       "      <th>amplitude</th>\n",
       "    </tr>\n",
       "  </thead>\n",
       "  <tbody>\n",
       "    <tr>\n",
       "      <th>0</th>\n",
       "      <td>0.00</td>\n",
       "      <td>64181.0745</td>\n",
       "    </tr>\n",
       "    <tr>\n",
       "      <th>1</th>\n",
       "      <td>62.50</td>\n",
       "      <td>27679.9321</td>\n",
       "    </tr>\n",
       "    <tr>\n",
       "      <th>2</th>\n",
       "      <td>125.00</td>\n",
       "      <td>805.2501</td>\n",
       "    </tr>\n",
       "    <tr>\n",
       "      <th>3</th>\n",
       "      <td>187.50</td>\n",
       "      <td>612.9744</td>\n",
       "    </tr>\n",
       "    <tr>\n",
       "      <th>4</th>\n",
       "      <td>250.00</td>\n",
       "      <td>54.4231</td>\n",
       "    </tr>\n",
       "    <tr>\n",
       "      <th>...</th>\n",
       "      <td>...</td>\n",
       "      <td>...</td>\n",
       "    </tr>\n",
       "    <tr>\n",
       "      <th>254</th>\n",
       "      <td>4687.50</td>\n",
       "      <td>2.0852</td>\n",
       "    </tr>\n",
       "    <tr>\n",
       "      <th>255</th>\n",
       "      <td>4750.00</td>\n",
       "      <td>4.8306</td>\n",
       "    </tr>\n",
       "    <tr>\n",
       "      <th>256</th>\n",
       "      <td>4812.50</td>\n",
       "      <td>6.7667</td>\n",
       "    </tr>\n",
       "    <tr>\n",
       "      <th>257</th>\n",
       "      <td>4875.00</td>\n",
       "      <td>4.1614</td>\n",
       "    </tr>\n",
       "    <tr>\n",
       "      <th>258</th>\n",
       "      <td>4937.50</td>\n",
       "      <td>2.8692</td>\n",
       "    </tr>\n",
       "  </tbody>\n",
       "</table>\n",
       "<p>258 rows × 2 columns</p>\n",
       "</div>"
      ],
      "text/plain": [
       "    frequency   amplitude\n",
       "0        0.00  64181.0745\n",
       "1       62.50  27679.9321\n",
       "2      125.00    805.2501\n",
       "3      187.50    612.9744\n",
       "4      250.00     54.4231\n",
       "..        ...         ...\n",
       "254   4687.50      2.0852\n",
       "255   4750.00      4.8306\n",
       "256   4812.50      6.7667\n",
       "257   4875.00      4.1614\n",
       "258   4937.50      2.8692\n",
       "\n",
       "[258 rows x 2 columns]"
      ]
     },
     "execution_count": 201,
     "metadata": {},
     "output_type": "execute_result"
    }
   ],
   "source": [
    "df21[:129*2]"
   ]
  },
  {
   "cell_type": "code",
   "execution_count": 202,
   "metadata": {
    "scrolled": true
   },
   "outputs": [
    {
     "data": {
      "text/html": [
       "<div>\n",
       "<style scoped>\n",
       "    .dataframe tbody tr th:only-of-type {\n",
       "        vertical-align: middle;\n",
       "    }\n",
       "\n",
       "    .dataframe tbody tr th {\n",
       "        vertical-align: top;\n",
       "    }\n",
       "\n",
       "    .dataframe thead th {\n",
       "        text-align: right;\n",
       "    }\n",
       "</style>\n",
       "<table border=\"1\" class=\"dataframe\">\n",
       "  <thead>\n",
       "    <tr style=\"text-align: right;\">\n",
       "      <th></th>\n",
       "      <th>frequency</th>\n",
       "      <th>amplitude</th>\n",
       "    </tr>\n",
       "  </thead>\n",
       "  <tbody>\n",
       "    <tr>\n",
       "      <th>0</th>\n",
       "      <td>0.00</td>\n",
       "      <td>54508.3419</td>\n",
       "    </tr>\n",
       "    <tr>\n",
       "      <th>1</th>\n",
       "      <td>62.50</td>\n",
       "      <td>23471.8577</td>\n",
       "    </tr>\n",
       "    <tr>\n",
       "      <th>2</th>\n",
       "      <td>125.00</td>\n",
       "      <td>222.4883</td>\n",
       "    </tr>\n",
       "    <tr>\n",
       "      <th>3</th>\n",
       "      <td>187.50</td>\n",
       "      <td>65.2300</td>\n",
       "    </tr>\n",
       "    <tr>\n",
       "      <th>4</th>\n",
       "      <td>250.00</td>\n",
       "      <td>22.4759</td>\n",
       "    </tr>\n",
       "    <tr>\n",
       "      <th>...</th>\n",
       "      <td>...</td>\n",
       "      <td>...</td>\n",
       "    </tr>\n",
       "    <tr>\n",
       "      <th>18844</th>\n",
       "      <td>7750.00</td>\n",
       "      <td>34.0706</td>\n",
       "    </tr>\n",
       "    <tr>\n",
       "      <th>18845</th>\n",
       "      <td>7812.50</td>\n",
       "      <td>72.1740</td>\n",
       "    </tr>\n",
       "    <tr>\n",
       "      <th>18846</th>\n",
       "      <td>7875.00</td>\n",
       "      <td>45.6315</td>\n",
       "    </tr>\n",
       "    <tr>\n",
       "      <th>18847</th>\n",
       "      <td>7937.50</td>\n",
       "      <td>12.6362</td>\n",
       "    </tr>\n",
       "    <tr>\n",
       "      <th>18848</th>\n",
       "      <td>airflow(m/s)</td>\n",
       "      <td>19.5400</td>\n",
       "    </tr>\n",
       "  </tbody>\n",
       "</table>\n",
       "<p>18705 rows × 2 columns</p>\n",
       "</div>"
      ],
      "text/plain": [
       "          frequency   amplitude\n",
       "0              0.00  54508.3419\n",
       "1             62.50  23471.8577\n",
       "2            125.00    222.4883\n",
       "3            187.50     65.2300\n",
       "4            250.00     22.4759\n",
       "...             ...         ...\n",
       "18844       7750.00     34.0706\n",
       "18845       7812.50     72.1740\n",
       "18846       7875.00     45.6315\n",
       "18847       7937.50     12.6362\n",
       "18848  airflow(m/s)     19.5400\n",
       "\n",
       "[18705 rows x 2 columns]"
      ]
     },
     "execution_count": 202,
     "metadata": {},
     "output_type": "execute_result"
    }
   ],
   "source": [
    "data_dir4 = Path(\"./July8/\") \n",
    "\n",
    "df25 = pd.read_csv(data_dir4 / \"check.txt\", low_memory=False, names= ['frequency','amplitude'] , index_col = False)\n",
    "df25 = df25[df25['frequency'] != \"clocktime\"]\n",
    "df25 = df25.dropna()\n",
    "df25"
   ]
  },
  {
   "cell_type": "code",
   "execution_count": 203,
   "metadata": {},
   "outputs": [],
   "source": [
    "data_dir5 = Path(\"./19July/\") \n",
    "\n",
    "df26 = pd.read_csv(data_dir5 / \"check.txt\", low_memory=False, names= ['frequency','amplitude'] , index_col = False)\n",
    "df26 = df26[df26['frequency'] != \"clocktime\"]\n",
    "df26 = df26.dropna()\n",
    "\n",
    "\n",
    "df27 = pd.read_csv(data_dir5 / \"desk.txt\", low_memory=False, names= ['frequency','amplitude'] , index_col = False)\n",
    "df27 = df27[df27['frequency'] != \"clocktime\"]\n",
    "df27 = df27.dropna()\n",
    "\n",
    "df28 = pd.read_csv(data_dir5 / \"desk2.txt\", low_memory=False, names= ['frequency','amplitude'] , index_col = False)\n",
    "df28 = df28[df28['frequency'] != \"clocktime\"]\n",
    "df28 = df28.dropna()\n",
    "\n",
    "\n"
   ]
  },
  {
   "cell_type": "code",
   "execution_count": 204,
   "metadata": {},
   "outputs": [],
   "source": [
    "df26 = df26[:129*145]"
   ]
  },
  {
   "cell_type": "code",
   "execution_count": 205,
   "metadata": {},
   "outputs": [],
   "source": [
    "df28 = df28[:129*180]"
   ]
  },
  {
   "cell_type": "code",
   "execution_count": 206,
   "metadata": {},
   "outputs": [],
   "source": [
    "data_dir6 = Path(\"./new_files_july23/\") \n",
    "\n",
    "df29 = pd.read_csv(data_dir6 / \"desk.txt\", low_memory=False, names= ['frequency','amplitude'] , index_col = False)\n",
    "df29 = df29[df29['frequency'] != \"clocktime\"]\n",
    "df29 = df29.dropna()\n",
    "\n",
    "df30 = pd.read_csv(data_dir6 / \"no_air.txt\", low_memory=False, names= ['frequency','amplitude'] , index_col = False)\n",
    "df30 = df30[df30['frequency'] != \"clocktime\"]\n",
    "df30 = df30.dropna()\n",
    "\n",
    "df31 = pd.read_csv(data_dir6 / \"onvent.txt\", low_memory=False, names= ['frequency','amplitude'] , index_col = False)\n",
    "df31 = df31[df31['frequency'] != \"clocktime\"]\n",
    "df31 = df31.dropna()"
   ]
  },
  {
   "cell_type": "code",
   "execution_count": 207,
   "metadata": {},
   "outputs": [],
   "source": [
    "data_dir7 = Path(\"./final/\") \n",
    "\n",
    "df32 = pd.read_csv(data_dir7 / \"1m_v1.txt\", low_memory=False, names= ['frequency','amplitude'] , index_col = False)\n",
    "df32 = df32[df32['frequency'] != \"clocktime\"]\n",
    "df32 = df32.dropna()\n",
    "\n",
    "df33 = pd.read_csv(data_dir7 / \"fan_66cm.txt\", low_memory=False, names= ['frequency','amplitude'] , index_col = False)\n",
    "df33 = df33[df33['frequency'] != \"clocktime\"]\n",
    "df33 = df33.dropna()\n",
    "\n",
    "df34 = pd.read_csv(data_dir7 / \"50cm_v1.txt\", low_memory=False, names= ['frequency','amplitude'] , index_col = False)\n",
    "df34 = df34[df34['frequency'] != \"clocktime\"]\n",
    "df34 = df34.dropna()\n",
    "# df34 = df34[:129*198]\n",
    "\n",
    "df35 = pd.read_csv(data_dir7 / \"150cm_v1.txt\", low_memory=False, names= ['frequency','amplitude'] , index_col = False)\n",
    "df35 = df35[df35['frequency'] != \"clocktime\"]\n",
    "df35 = df35.dropna()\n",
    "# df35 = df35[:211*129]\n",
    "\n",
    "\n",
    "data_dir8 = Path(\"./finale/\") \n",
    "df36 = pd.read_csv(data_dir7 / \"50cm_v1.txt\", low_memory=False, names= ['frequency','amplitude'] , index_col = False)\n",
    "df36 = df36[df36['frequency'] != \"clocktime\"]\n",
    "df36 = df36.dropna()\n",
    "# df36 = df36[:129*198]\n",
    "\n",
    "df37 = pd.read_csv(data_dir7 / \"1m_v1.txt\", low_memory=False, names= ['frequency','amplitude'] , index_col = False)\n",
    "df37 = df37[df37['frequency'] != \"clocktime\"]\n",
    "df37 = df37.dropna()\n",
    "# df37 = df37[:129*198]"
   ]
  },
  {
   "cell_type": "code",
   "execution_count": 208,
   "metadata": {},
   "outputs": [
    {
     "data": {
      "text/html": [
       "<div>\n",
       "<style scoped>\n",
       "    .dataframe tbody tr th:only-of-type {\n",
       "        vertical-align: middle;\n",
       "    }\n",
       "\n",
       "    .dataframe tbody tr th {\n",
       "        vertical-align: top;\n",
       "    }\n",
       "\n",
       "    .dataframe thead th {\n",
       "        text-align: right;\n",
       "    }\n",
       "</style>\n",
       "<table border=\"1\" class=\"dataframe\">\n",
       "  <thead>\n",
       "    <tr style=\"text-align: right;\">\n",
       "      <th></th>\n",
       "      <th>frequency</th>\n",
       "      <th>amplitude</th>\n",
       "    </tr>\n",
       "  </thead>\n",
       "  <tbody>\n",
       "    <tr>\n",
       "      <th>0</th>\n",
       "      <td>0.00</td>\n",
       "      <td>67018.2937</td>\n",
       "    </tr>\n",
       "    <tr>\n",
       "      <th>1</th>\n",
       "      <td>62.50</td>\n",
       "      <td>28099.8738</td>\n",
       "    </tr>\n",
       "    <tr>\n",
       "      <th>2</th>\n",
       "      <td>125.00</td>\n",
       "      <td>876.9740</td>\n",
       "    </tr>\n",
       "    <tr>\n",
       "      <th>3</th>\n",
       "      <td>187.50</td>\n",
       "      <td>646.9032</td>\n",
       "    </tr>\n",
       "    <tr>\n",
       "      <th>4</th>\n",
       "      <td>250.00</td>\n",
       "      <td>1071.7751</td>\n",
       "    </tr>\n",
       "    <tr>\n",
       "      <th>...</th>\n",
       "      <td>...</td>\n",
       "      <td>...</td>\n",
       "    </tr>\n",
       "    <tr>\n",
       "      <th>25604</th>\n",
       "      <td>7750.00</td>\n",
       "      <td>6.6646</td>\n",
       "    </tr>\n",
       "    <tr>\n",
       "      <th>25605</th>\n",
       "      <td>7812.50</td>\n",
       "      <td>6.2637</td>\n",
       "    </tr>\n",
       "    <tr>\n",
       "      <th>25606</th>\n",
       "      <td>7875.00</td>\n",
       "      <td>4.8232</td>\n",
       "    </tr>\n",
       "    <tr>\n",
       "      <th>25607</th>\n",
       "      <td>7937.50</td>\n",
       "      <td>1.9443</td>\n",
       "    </tr>\n",
       "    <tr>\n",
       "      <th>25608</th>\n",
       "      <td>airflow(m/s)</td>\n",
       "      <td>4.9500</td>\n",
       "    </tr>\n",
       "  </tbody>\n",
       "</table>\n",
       "<p>25413 rows × 2 columns</p>\n",
       "</div>"
      ],
      "text/plain": [
       "          frequency   amplitude\n",
       "0              0.00  67018.2937\n",
       "1             62.50  28099.8738\n",
       "2            125.00    876.9740\n",
       "3            187.50    646.9032\n",
       "4            250.00   1071.7751\n",
       "...             ...         ...\n",
       "25604       7750.00      6.6646\n",
       "25605       7812.50      6.2637\n",
       "25606       7875.00      4.8232\n",
       "25607       7937.50      1.9443\n",
       "25608  airflow(m/s)      4.9500\n",
       "\n",
       "[25413 rows x 2 columns]"
      ]
     },
     "execution_count": 208,
     "metadata": {},
     "output_type": "execute_result"
    }
   ],
   "source": [
    "df34"
   ]
  },
  {
   "cell_type": "code",
   "execution_count": 209,
   "metadata": {},
   "outputs": [
    {
     "data": {
      "text/html": [
       "<div>\n",
       "<style scoped>\n",
       "    .dataframe tbody tr th:only-of-type {\n",
       "        vertical-align: middle;\n",
       "    }\n",
       "\n",
       "    .dataframe tbody tr th {\n",
       "        vertical-align: top;\n",
       "    }\n",
       "\n",
       "    .dataframe thead th {\n",
       "        text-align: right;\n",
       "    }\n",
       "</style>\n",
       "<table border=\"1\" class=\"dataframe\">\n",
       "  <thead>\n",
       "    <tr style=\"text-align: right;\">\n",
       "      <th></th>\n",
       "      <th>frequency</th>\n",
       "      <th>amplitude</th>\n",
       "    </tr>\n",
       "  </thead>\n",
       "  <tbody>\n",
       "    <tr>\n",
       "      <th>0</th>\n",
       "      <td>0.00</td>\n",
       "      <td>67018.2937</td>\n",
       "    </tr>\n",
       "    <tr>\n",
       "      <th>1</th>\n",
       "      <td>62.50</td>\n",
       "      <td>28099.8738</td>\n",
       "    </tr>\n",
       "    <tr>\n",
       "      <th>2</th>\n",
       "      <td>125.00</td>\n",
       "      <td>876.9740</td>\n",
       "    </tr>\n",
       "    <tr>\n",
       "      <th>3</th>\n",
       "      <td>187.50</td>\n",
       "      <td>646.9032</td>\n",
       "    </tr>\n",
       "    <tr>\n",
       "      <th>4</th>\n",
       "      <td>250.00</td>\n",
       "      <td>1071.7751</td>\n",
       "    </tr>\n",
       "    <tr>\n",
       "      <th>...</th>\n",
       "      <td>...</td>\n",
       "      <td>...</td>\n",
       "    </tr>\n",
       "    <tr>\n",
       "      <th>25604</th>\n",
       "      <td>7750.00</td>\n",
       "      <td>6.6646</td>\n",
       "    </tr>\n",
       "    <tr>\n",
       "      <th>25605</th>\n",
       "      <td>7812.50</td>\n",
       "      <td>6.2637</td>\n",
       "    </tr>\n",
       "    <tr>\n",
       "      <th>25606</th>\n",
       "      <td>7875.00</td>\n",
       "      <td>4.8232</td>\n",
       "    </tr>\n",
       "    <tr>\n",
       "      <th>25607</th>\n",
       "      <td>7937.50</td>\n",
       "      <td>1.9443</td>\n",
       "    </tr>\n",
       "    <tr>\n",
       "      <th>25608</th>\n",
       "      <td>airflow(m/s)</td>\n",
       "      <td>4.9500</td>\n",
       "    </tr>\n",
       "  </tbody>\n",
       "</table>\n",
       "<p>25413 rows × 2 columns</p>\n",
       "</div>"
      ],
      "text/plain": [
       "          frequency   amplitude\n",
       "0              0.00  67018.2937\n",
       "1             62.50  28099.8738\n",
       "2            125.00    876.9740\n",
       "3            187.50    646.9032\n",
       "4            250.00   1071.7751\n",
       "...             ...         ...\n",
       "25604       7750.00      6.6646\n",
       "25605       7812.50      6.2637\n",
       "25606       7875.00      4.8232\n",
       "25607       7937.50      1.9443\n",
       "25608  airflow(m/s)      4.9500\n",
       "\n",
       "[25413 rows x 2 columns]"
      ]
     },
     "execution_count": 209,
     "metadata": {},
     "output_type": "execute_result"
    }
   ],
   "source": [
    "\n",
    "\n",
    "df36[:129*210]"
   ]
  },
  {
   "cell_type": "code",
   "execution_count": 210,
   "metadata": {},
   "outputs": [],
   "source": [
    "# df = df1.append([df2, df3, df4, df5, df6, df7, df8, df9, df10, df11, df12, df13, df14, df16, df17, df18, df20, df22, df23, df24, df25, df26, df27, df28, df29, df30, df31, df32, df33])\n",
    "df = df29.append([df30, df31, df32, df33, df34, df35, df36, df37])\n"
   ]
  },
  {
   "cell_type": "code",
   "execution_count": null,
   "metadata": {},
   "outputs": [],
   "source": []
  },
  {
   "cell_type": "code",
   "execution_count": 211,
   "metadata": {},
   "outputs": [
    {
     "data": {
      "text/html": [
       "<div>\n",
       "<style scoped>\n",
       "    .dataframe tbody tr th:only-of-type {\n",
       "        vertical-align: middle;\n",
       "    }\n",
       "\n",
       "    .dataframe tbody tr th {\n",
       "        vertical-align: top;\n",
       "    }\n",
       "\n",
       "    .dataframe thead th {\n",
       "        text-align: right;\n",
       "    }\n",
       "</style>\n",
       "<table border=\"1\" class=\"dataframe\">\n",
       "  <thead>\n",
       "    <tr style=\"text-align: right;\">\n",
       "      <th></th>\n",
       "      <th>frequency</th>\n",
       "      <th>amplitude</th>\n",
       "    </tr>\n",
       "  </thead>\n",
       "  <tbody>\n",
       "    <tr>\n",
       "      <th>0</th>\n",
       "      <td>0.00</td>\n",
       "      <td>74691.3654</td>\n",
       "    </tr>\n",
       "    <tr>\n",
       "      <th>1</th>\n",
       "      <td>62.50</td>\n",
       "      <td>31866.3058</td>\n",
       "    </tr>\n",
       "    <tr>\n",
       "      <th>2</th>\n",
       "      <td>125.00</td>\n",
       "      <td>285.2973</td>\n",
       "    </tr>\n",
       "    <tr>\n",
       "      <th>3</th>\n",
       "      <td>187.50</td>\n",
       "      <td>330.8644</td>\n",
       "    </tr>\n",
       "    <tr>\n",
       "      <th>4</th>\n",
       "      <td>250.00</td>\n",
       "      <td>68.8822</td>\n",
       "    </tr>\n",
       "    <tr>\n",
       "      <th>...</th>\n",
       "      <td>...</td>\n",
       "      <td>...</td>\n",
       "    </tr>\n",
       "    <tr>\n",
       "      <th>29894</th>\n",
       "      <td>7750.00</td>\n",
       "      <td>41.3127</td>\n",
       "    </tr>\n",
       "    <tr>\n",
       "      <th>29895</th>\n",
       "      <td>7812.50</td>\n",
       "      <td>26.5759</td>\n",
       "    </tr>\n",
       "    <tr>\n",
       "      <th>29896</th>\n",
       "      <td>7875.00</td>\n",
       "      <td>24.3431</td>\n",
       "    </tr>\n",
       "    <tr>\n",
       "      <th>29897</th>\n",
       "      <td>7937.50</td>\n",
       "      <td>1.7325</td>\n",
       "    </tr>\n",
       "    <tr>\n",
       "      <th>29898</th>\n",
       "      <td>airflow(m/s)</td>\n",
       "      <td>11.7200</td>\n",
       "    </tr>\n",
       "  </tbody>\n",
       "</table>\n",
       "<p>103200 rows × 2 columns</p>\n",
       "</div>"
      ],
      "text/plain": [
       "          frequency   amplitude\n",
       "0              0.00  74691.3654\n",
       "1             62.50  31866.3058\n",
       "2            125.00    285.2973\n",
       "3            187.50    330.8644\n",
       "4            250.00     68.8822\n",
       "...             ...         ...\n",
       "29894       7750.00     41.3127\n",
       "29895       7812.50     26.5759\n",
       "29896       7875.00     24.3431\n",
       "29897       7937.50      1.7325\n",
       "29898  airflow(m/s)     11.7200\n",
       "\n",
       "[103200 rows x 2 columns]"
      ]
     },
     "execution_count": 211,
     "metadata": {},
     "output_type": "execute_result"
    }
   ],
   "source": [
    "df = df.dropna()\n",
    "df[:129*800]"
   ]
  },
  {
   "cell_type": "code",
   "execution_count": 212,
   "metadata": {},
   "outputs": [],
   "source": [
    "def convert(df: pd.DataFrame, frame_size=129):\n",
    "    x = np.asarray(df.iloc[:, 1]).reshape(-1, frame_size)\n",
    "#     x = x[x.shape[0]//10:-x.shape[0]//10]\n",
    "    return x"
   ]
  },
  {
   "cell_type": "code",
   "execution_count": 213,
   "metadata": {},
   "outputs": [],
   "source": [
    "# df = df[df.columns[1:2]]\n"
   ]
  },
  {
   "cell_type": "code",
   "execution_count": 214,
   "metadata": {},
   "outputs": [
    {
     "data": {
      "text/plain": [
       "(1876, 129)"
      ]
     },
     "execution_count": 214,
     "metadata": {},
     "output_type": "execute_result"
    }
   ],
   "source": [
    "data = convert(df)\n",
    "data.shape\n"
   ]
  },
  {
   "cell_type": "code",
   "execution_count": 215,
   "metadata": {},
   "outputs": [
    {
     "data": {
      "text/plain": [
       "(1876, 7)"
      ]
     },
     "execution_count": 215,
     "metadata": {},
     "output_type": "execute_result"
    }
   ],
   "source": [
    "X = data[:,:-1]\n",
    "\n",
    "X = X[:, :7]\n",
    "X.shape"
   ]
  },
  {
   "cell_type": "code",
   "execution_count": null,
   "metadata": {},
   "outputs": [],
   "source": []
  },
  {
   "cell_type": "code",
   "execution_count": 216,
   "metadata": {},
   "outputs": [
    {
     "data": {
      "text/plain": [
       "(1876,)"
      ]
     },
     "execution_count": 216,
     "metadata": {},
     "output_type": "execute_result"
    }
   ],
   "source": [
    "y = data[:, -1]\n",
    "y.shape\n"
   ]
  },
  {
   "cell_type": "code",
   "execution_count": 217,
   "metadata": {},
   "outputs": [
    {
     "name": "stdout",
     "output_type": "stream",
     "text": [
      "(1876, 7) (1876,)\n"
     ]
    }
   ],
   "source": [
    "print (X.shape, y.shape)"
   ]
  },
  {
   "cell_type": "code",
   "execution_count": 218,
   "metadata": {},
   "outputs": [
    {
     "name": "stdout",
     "output_type": "stream",
     "text": [
      "32.9 2.57\n"
     ]
    }
   ],
   "source": [
    "print(max(y), min(y))\n",
    "for i in range(len(y)):\n",
    "    if i >= len(y):\n",
    "        break\n",
    "    if y[i]>35 or y[i]<1:\n",
    "        print (i, y[i])\n",
    "        X = np.delete(X, i, axis = 0)\n",
    "        y = np.delete(y, i)\n",
    "        "
   ]
  },
  {
   "cell_type": "code",
   "execution_count": 219,
   "metadata": {},
   "outputs": [],
   "source": [
    "X_train, X_test, y_train, y_test = train_test_split(X, y, test_size=0.2)"
   ]
  },
  {
   "cell_type": "code",
   "execution_count": 220,
   "metadata": {},
   "outputs": [
    {
     "data": {
      "text/plain": [
       "GradientBoostingRegressor(learning_rate=0.01, max_depth=4, min_samples_split=5,\n",
       "                          n_estimators=500)"
      ]
     },
     "execution_count": 220,
     "metadata": {},
     "output_type": "execute_result"
    }
   ],
   "source": [
    "reg = ensemble.GradientBoostingRegressor(**params)\n",
    "reg.fit(X_train, y_train)\n"
   ]
  },
  {
   "cell_type": "code",
   "execution_count": 221,
   "metadata": {},
   "outputs": [
    {
     "data": {
      "text/plain": [
       "['flowSense.joblib']"
      ]
     },
     "execution_count": 221,
     "metadata": {},
     "output_type": "execute_result"
    }
   ],
   "source": [
    "from joblib import dump, load\n",
    "dump(reg, \"flowSense.joblib\")"
   ]
  },
  {
   "cell_type": "code",
   "execution_count": 222,
   "metadata": {},
   "outputs": [],
   "source": [
    "y_pred = reg.predict(X_test)\n",
    "y_train_pred = reg.predict(X_train)"
   ]
  },
  {
   "cell_type": "code",
   "execution_count": 223,
   "metadata": {},
   "outputs": [
    {
     "name": "stdout",
     "output_type": "stream",
     "text": [
      "[28.80259073  8.94125074  6.67036677  5.63067296  5.88075359]\n",
      "[28.11  4.77  9.91  4.41  5.76]\n"
     ]
    }
   ],
   "source": [
    "print(y_pred[:5])\n",
    "print(y_test[:5])"
   ]
  },
  {
   "cell_type": "code",
   "execution_count": 224,
   "metadata": {},
   "outputs": [
    {
     "name": "stdout",
     "output_type": "stream",
     "text": [
      "[ 6.01441651  7.11011104  5.0086177   5.82858494 10.39404725]\n",
      "[ 5.87  8.17  3.9   6.31 12.44]\n"
     ]
    }
   ],
   "source": [
    "print(y_train_pred[:5])\n",
    "print(y_train[:5])"
   ]
  },
  {
   "cell_type": "code",
   "execution_count": 225,
   "metadata": {},
   "outputs": [
    {
     "name": "stdout",
     "output_type": "stream",
     "text": [
      "MSE of test:  6.117211944922302\n",
      "(376,)\n",
      "Test Reg score:  0.9031382130641886\n"
     ]
    }
   ],
   "source": [
    "print(\"MSE of test: \", mean_squared_error(y_test, y_pred))\n",
    "print(y_pred.shape)\n",
    "\n",
    "print(\"Test Reg score: \", reg.score(X_test, y_test))\n",
    "    "
   ]
  },
  {
   "cell_type": "code",
   "execution_count": 226,
   "metadata": {},
   "outputs": [
    {
     "name": "stdout",
     "output_type": "stream",
     "text": [
      "MSE of training:  3.673203898174165\n",
      "Train Reg score:  0.9479844578813782\n"
     ]
    }
   ],
   "source": [
    "print(\"MSE of training: \",  mean_squared_error(y_train, y_train_pred))\n",
    "\n",
    "print(\"Train Reg score: \", reg.score(X_train, y_train))"
   ]
  },
  {
   "cell_type": "code",
   "execution_count": 227,
   "metadata": {},
   "outputs": [
    {
     "name": "stdout",
     "output_type": "stream",
     "text": [
      "3.673203898174165 , 6.117211944922302 0.9479844578813782 0.9031382130641886\n"
     ]
    }
   ],
   "source": [
    "print (mean_squared_error(y_train, y_train_pred), \",\" ,  mean_squared_error(y_test, y_pred), reg.score(X_train, y_train), reg.score(X_test, y_test) )"
   ]
  },
  {
   "cell_type": "code",
   "execution_count": 228,
   "metadata": {},
   "outputs": [
    {
     "data": {
      "image/png": "[encoded data removed]",
      "text/plain": [
       "<Figure size 720x360 with 1 Axes>"
      ]
     },
     "metadata": {
      "needs_background": "light"
     },
     "output_type": "display_data"
    }
   ],
   "source": [
    "plt.figure(figsize=(10,5))\n",
    "plt.plot(y_test[50:100], 'g', label=\"actual\")\n",
    "plt.plot(y_pred[50:100], 'r', label=\"predicted\")\n",
    "plt.legend()\n",
    "plt.xlabel(\"test points\")\n",
    "plt.ylabel(\"airflow(m/s)\")\n",
    "plt.title(\"Estimating Airflow (XGBoost)\")\n",
    "plt.savefig(\"final.png\")"
   ]
  },
  {
   "cell_type": "code",
   "execution_count": 229,
   "metadata": {},
   "outputs": [
    {
     "data": {
      "text/plain": [
       "Text(0.5, 1.0, 'Estimating Airflow (XGBoost)')"
      ]
     },
     "execution_count": 229,
     "metadata": {},
     "output_type": "execute_result"
    },
    {
     "data": {
      "image/png": "[encoded data removed]",
      "text/plain": [
       "<Figure size 720x360 with 1 Axes>"
      ]
     },
     "metadata": {
      "needs_background": "light"
     },
     "output_type": "display_data"
    }
   ],
   "source": [
    "plt.figure(figsize=(10,5))\n",
    "plt.plot(y_train[50:100], 'g', label=\"actual\")\n",
    "plt.plot(y_train_pred[50:100], 'r', label=\"predicted\")\n",
    "plt.legend()\n",
    "plt.xlabel(\"train points\")\n",
    "plt.ylabel(\"airflow(m/s)\")\n",
    "plt.title(\"Estimating Airflow (XGBoost)\")\n",
    "# plt.savefig(\"1m_v1.jpg\")\n",
    "\n"
   ]
  },
  {
   "cell_type": "code",
   "execution_count": null,
   "metadata": {},
   "outputs": [],
   "source": []
  },
  {
   "cell_type": "code",
   "execution_count": null,
   "metadata": {},
   "outputs": [],
   "source": []
  }
 ],
 "metadata": {
  "kernelspec": {
   "display_name": "Python 3",
   "language": "python",
   "name": "python3"
  },
  "language_info": {
   "codemirror_mode": {
    "name": "ipython",
    "version": 3
   },
   "file_extension": ".py",
   "mimetype": "text/x-python",
   "name": "python",
   "nbconvert_exporter": "python",
   "pygments_lexer": "ipython3",
   "version": "3.9.2"
  }
 },
 "nbformat": 4,
 "nbformat_minor": 4
}
