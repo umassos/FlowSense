{
 "cells": [
  {
   "cell_type": "code",
   "execution_count": 55,
   "metadata": {},
   "outputs": [],
   "source": [
    "import numpy as np\n",
    "import pandas as pd\n",
    "from pathlib import Path\n",
    "import matplotlib.pyplot as plt\n",
    "from sklearn.linear_model import LogisticRegression, LogisticRegressionCV\n",
    "from sklearn.metrics import confusion_matrix, accuracy_score, recall_score, precision_score, f1_score\n",
    "from sklearn.model_selection import train_test_split\n",
    "from sklearn.ensemble import GradientBoostingClassifier\n",
    "np.random.seed(0)"
   ]
  },
  {
   "cell_type": "code",
   "execution_count": 56,
   "metadata": {
    "scrolled": true
   },
   "outputs": [],
   "source": [
    "data_dir = Path(\"../../../Datasets/Arduino_dataset/\") "
   ]
  },
  {
   "cell_type": "code",
   "execution_count": 57,
   "metadata": {},
   "outputs": [],
   "source": [
    "# Params\n",
    "params = {'n_estimators': 500,\n",
    "          'max_depth': 4,\n",
    "          'min_samples_split': 5,\n",
    "          'learning_rate': 0.1,\n",
    "          'loss': 'ls'}"
   ]
  },
  {
   "cell_type": "code",
   "execution_count": 58,
   "metadata": {},
   "outputs": [],
   "source": [
    "def convert(df: pd.DataFrame, frame_size=10):\n",
    "    x = np.asarray(df.iloc[:, 1]).reshape(-1, frame_size)\n",
    "#     x = x[x.shape[0]//10:-x.shape[0]//10]\n",
    "    return x\n",
    "\n",
    "\n",
    "def change(df4: pd.DataFrame):\n",
    "    for index, row in df4.iterrows():\n",
    "        if row['frequency'] != \"airflow(m/s)\":\n",
    "            if float(row['frequency']) > 500:\n",
    "                df4.drop(index, inplace=True)\n",
    "    return df4"
   ]
  },
  {
   "cell_type": "code",
   "execution_count": 59,
   "metadata": {},
   "outputs": [],
   "source": [
    "\n",
    "\n",
    "df29 = pd.read_csv(data_dir / \"different_distances/Vent1_2_5m.txt\", low_memory=False, names= ['frequency','amplitude'] , index_col = False)\n",
    "df29 = df29[df29['frequency'] != \"clocktime\"]\n",
    "df29 = df29.dropna()\n",
    "df29 = change(df29)\n",
    "df29 = convert(df29)\n",
    "\n",
    "df30 = pd.read_csv(data_dir / \"no_air/noair.txt\", low_memory=False, names= ['frequency','amplitude'] , index_col = False)\n",
    "df30 = df30[df30['frequency'] != \"clocktime\"]\n",
    "df30 = df30.dropna()\n",
    "df30 = change(df30)\n",
    "df30 = convert(df30)\n",
    "\n",
    "df31 = pd.read_csv(data_dir / \"different_distances/Vent1_on_vent.txt\", low_memory=False, names= ['frequency','amplitude'] , index_col = False)\n",
    "df31 = df31[df31['frequency'] != \"clocktime\"]\n",
    "df31 = df31.dropna()\n",
    "df31 = change(df31)\n",
    "df31 = convert(df31)"
   ]
  },
  {
   "cell_type": "code",
   "execution_count": 60,
   "metadata": {},
   "outputs": [],
   "source": [
    "\n",
    "df32 = pd.read_csv(data_dir / \"different_distances/vent1_1m.txt\", low_memory=False, names= ['frequency','amplitude'] , index_col = False)\n",
    "df32 = df32[df32['frequency'] != \"clocktime\"]\n",
    "df32 = df32.dropna()\n",
    "df32 = change(df32)\n",
    "df32 = convert(df32)\n",
    "dftest1 = df32[-50:]\n",
    "df32 = df32[-50:]\n",
    "\n",
    "\n",
    "df34 = pd.read_csv(data_dir / \"different_distances/vent1_50cm.txt\", low_memory=False, names= ['frequency','amplitude'] , index_col = False)\n",
    "df34 = df34[df34['frequency'] != \"clocktime\"]\n",
    "df34 = df34.dropna()\n",
    "df34 = change(df34)\n",
    "df34 = convert(df34)\n",
    "dftest0_5 = df34[-50:]\n",
    "df34 = df34[:-50]\n",
    "\n",
    "\n",
    "df35 = pd.read_csv(data_dir / \"different_distances/vent1_150cm.txt\", low_memory=False, names= ['frequency','amplitude'] , index_col = False)\n",
    "df35 = df35[df35['frequency'] != \"clocktime\"]\n",
    "df35 = df35.dropna()\n",
    "df35 = change(df35)\n",
    "df35 = convert(df35)\n",
    "\n",
    "df36 = pd.read_csv(data_dir / \"different_distances/vent1_2m.txt\", low_memory=False, names= ['frequency','amplitude'] , index_col = False)\n",
    "df36 = df36[df36['frequency'] != \"clocktime\"]\n",
    "df36 = df36.dropna()\n",
    "df36 = convert(df36)"
   ]
  },
  {
   "cell_type": "code",
   "execution_count": 61,
   "metadata": {
    "scrolled": true
   },
   "outputs": [],
   "source": [
    "\n",
    "# df38 = pd.read_csv(data_dir / \"different_distances/1m_vent1.txt\", low_memory=False, names= ['frequency','amplitude'] , index_col = False)\n",
    "# df38 = df38[df38['frequency'] != \"clocktime\"]\n",
    "# df38 = df38.dropna()\n",
    "# df38 = convert(df38)\n",
    "# # dftest1 = df38[-50:]\n",
    "# # df38 = df38[-50:]\n",
    "\n",
    "\n",
    "# df39 = pd.read_csv(data_dir / \"different_distances/50cm_vent1.txt\", low_memory=False, names= ['frequency','amplitude'] , index_col = False)\n",
    "# df39 = df39[df39['frequency'] != \"clocktime\"]\n",
    "# df39 = df39.dropna()\n",
    "# df39 = convert(df39)\n",
    "# # dftest0_5 = df39[-50:]\n",
    "# # df39 = df39[-50:]\n",
    "\n",
    "\n"
   ]
  },
  {
   "cell_type": "code",
   "execution_count": 62,
   "metadata": {},
   "outputs": [],
   "source": [
    "\n",
    "\n",
    "df42 = pd.read_csv(data_dir / \"no_air/noair.txt\", low_memory=False, names= ['frequency','amplitude'] , index_col = False)\n",
    "df42 = df42[df42['frequency'] != \"clocktime\"]\n",
    "df42 = df42.dropna()\n",
    "df42 = convert(df42)\n",
    "\n",
    "\n",
    "df43 = pd.read_csv(data_dir / \"mix_data/new1.txt\", low_memory=False, names= ['frequency','amplitude'] , index_col = False)\n",
    "df43 = df43[df43['frequency'] != \"clocktime\"]\n",
    "df43 = df43.dropna()\n",
    "df43 = convert(df43)\n",
    "# dftest1 = df43[-50:]\n",
    "# df43 = df43[-50:]"
   ]
  },
  {
   "cell_type": "code",
   "execution_count": 63,
   "metadata": {},
   "outputs": [],
   "source": [
    "\n",
    "\n",
    "df = np.concatenate([ df32, df34, df35, df36, df29, df31 ])\n",
    "df2 = np.concatenate([df42])"
   ]
  },
  {
   "cell_type": "code",
   "execution_count": 64,
   "metadata": {},
   "outputs": [
    {
     "data": {
      "text/plain": [
       "(2143, 10)"
      ]
     },
     "execution_count": 64,
     "metadata": {},
     "output_type": "execute_result"
    }
   ],
   "source": [
    "df.shape"
   ]
  },
  {
   "cell_type": "code",
   "execution_count": 65,
   "metadata": {},
   "outputs": [
    {
     "data": {
      "text/plain": [
       "(3415, 10)"
      ]
     },
     "execution_count": 65,
     "metadata": {},
     "output_type": "execute_result"
    }
   ],
   "source": [
    "df2.shape"
   ]
  },
  {
   "cell_type": "code",
   "execution_count": 66,
   "metadata": {},
   "outputs": [],
   "source": [
    "data = df\n"
   ]
  },
  {
   "cell_type": "code",
   "execution_count": 67,
   "metadata": {},
   "outputs": [
    {
     "data": {
      "text/plain": [
       "(2143, 7)"
      ]
     },
     "execution_count": 67,
     "metadata": {},
     "output_type": "execute_result"
    }
   ],
   "source": [
    "X1 = data[:,:-1]\n",
    "\n",
    "X1 = X1[:, :7]\n",
    "X1.shape"
   ]
  },
  {
   "cell_type": "code",
   "execution_count": 68,
   "metadata": {},
   "outputs": [
    {
     "data": {
      "text/plain": [
       "(2143,)"
      ]
     },
     "execution_count": 68,
     "metadata": {},
     "output_type": "execute_result"
    }
   ],
   "source": [
    "y1 =  np.ones(X1.shape[0], dtype=int)\n",
    "\n",
    "# y = data[:, -1]\n",
    "y1.shape\n"
   ]
  },
  {
   "cell_type": "code",
   "execution_count": 69,
   "metadata": {},
   "outputs": [
    {
     "data": {
      "text/plain": [
       "(3415,)"
      ]
     },
     "execution_count": 69,
     "metadata": {},
     "output_type": "execute_result"
    }
   ],
   "source": [
    "X2 = df2[:,:-1]\n",
    "\n",
    "X2 = X2[:, :7]\n",
    "X2.shape\n",
    "\n",
    "y2 =  np.zeros(X2.shape[0], dtype=int)\n",
    "\n",
    "# y = data[:, -1]\n",
    "y2.shape\n",
    "\n",
    "\n"
   ]
  },
  {
   "cell_type": "code",
   "execution_count": 70,
   "metadata": {},
   "outputs": [],
   "source": [
    "X = np.concatenate([X1,X2])\n",
    "y = np.concatenate([y1,y2])"
   ]
  },
  {
   "cell_type": "code",
   "execution_count": 71,
   "metadata": {},
   "outputs": [
    {
     "name": "stdout",
     "output_type": "stream",
     "text": [
      "(5558, 7) (5558,)\n"
     ]
    }
   ],
   "source": [
    "print (X.shape, y.shape)\n",
    "\n",
    "        "
   ]
  },
  {
   "cell_type": "code",
   "execution_count": 72,
   "metadata": {},
   "outputs": [],
   "source": [
    "X_train, X_test, y_train, y_test = train_test_split(X, y, test_size=0.2)"
   ]
  },
  {
   "cell_type": "code",
   "execution_count": 73,
   "metadata": {},
   "outputs": [
    {
     "data": {
      "text/plain": [
       "GradientBoostingClassifier(learning_rate=1.0, max_depth=1, random_state=0)"
      ]
     },
     "execution_count": 73,
     "metadata": {},
     "output_type": "execute_result"
    }
   ],
   "source": [
    "clf = GradientBoostingClassifier(n_estimators=100, learning_rate=1.0,\n",
    "...     max_depth=1, random_state=0).fit(X_train, y_train)\n",
    "clf.fit(X_train, y_train)\n"
   ]
  },
  {
   "cell_type": "code",
   "execution_count": 74,
   "metadata": {},
   "outputs": [
    {
     "data": {
      "text/plain": [
       "['flowSense_classifier.joblib']"
      ]
     },
     "execution_count": 74,
     "metadata": {},
     "output_type": "execute_result"
    }
   ],
   "source": [
    "from joblib import dump, load\n",
    "dump(clf, \"flowSense_classifier.joblib\")"
   ]
  },
  {
   "cell_type": "code",
   "execution_count": 75,
   "metadata": {},
   "outputs": [],
   "source": [
    "y_pred = clf.predict(X_test)\n",
    "y_train_pred = clf.predict(X_train)"
   ]
  },
  {
   "cell_type": "code",
   "execution_count": 76,
   "metadata": {},
   "outputs": [
    {
     "name": "stdout",
     "output_type": "stream",
     "text": [
      "[1 0 1 1 1]\n",
      "[1 0 1 1 1]\n"
     ]
    }
   ],
   "source": [
    "print(y_pred[:5])\n",
    "print(y_test[:5])"
   ]
  },
  {
   "cell_type": "code",
   "execution_count": 77,
   "metadata": {},
   "outputs": [
    {
     "name": "stdout",
     "output_type": "stream",
     "text": [
      "[1 0 1 0 1]\n",
      "[1 0 1 0 1]\n"
     ]
    }
   ],
   "source": [
    "print(y_train_pred[:5])\n",
    "print(y_train[:5])"
   ]
  },
  {
   "cell_type": "code",
   "execution_count": 78,
   "metadata": {},
   "outputs": [
    {
     "name": "stdout",
     "output_type": "stream",
     "text": [
      "For test set:\n",
      "Confusion Matrix:  [[672   4]\n",
      " [ 12 424]]\n",
      "Accuracy Score:  0.9856115107913669\n",
      "Recall:  [0.99408284 0.97247706]\n",
      "Precision:  [0.98245614 0.99065421]\n",
      "F1 Score:  [0.98823529 0.98148148]\n"
     ]
    }
   ],
   "source": [
    "\n",
    "from sklearn.metrics import confusion_matrix, accuracy_score, recall_score, precision_score, f1_score\n",
    "\n",
    "print (\"For test set:\")\n",
    "# Confusion Matrix\n",
    "print(\"Confusion Matrix: \",confusion_matrix(y_test, y_pred))\n",
    "\n",
    "# Accuracy\n",
    "print(\"Accuracy Score: \", accuracy_score(y_test, y_pred))\n",
    "\n",
    "# Recall\n",
    "print(\"Recall: \", recall_score(y_test, y_pred, average=None))\n",
    "\n",
    "# Precision\n",
    "print(\"Precision: \",precision_score(y_test, y_pred, average=None))\n",
    "\n",
    "#F1\n",
    "print(\"F1 Score: \",f1_score(y_test, y_pred, average=None))\n"
   ]
  },
  {
   "cell_type": "code",
   "execution_count": 79,
   "metadata": {},
   "outputs": [
    {
     "name": "stdout",
     "output_type": "stream",
     "text": [
      "For train set:\n",
      "Confusion Matrix:  [[2720   19]\n",
      " [  19 1688]]\n",
      "Accuracy Score:  0.9914529914529915\n",
      "Recall:  [0.99306316 0.98886936]\n",
      "Precision:  [0.99306316 0.98886936]\n",
      "F1 Score:  [0.99306316 0.98886936]\n"
     ]
    }
   ],
   "source": [
    "print (\"For train set:\")\n",
    "# Confusion Matrix\n",
    "print(\"Confusion Matrix: \",confusion_matrix(y_train, y_train_pred))\n",
    "\n",
    "# Accuracy\n",
    "print(\"Accuracy Score: \", accuracy_score(y_train, y_train_pred))\n",
    "\n",
    "# Recall\n",
    "print(\"Recall: \", recall_score(y_train, y_train_pred, average=None))\n",
    "\n",
    "# Precision\n",
    "print(\"Precision: \",precision_score(y_train, y_train_pred, average=None))\n",
    "\n",
    "#F1\n",
    "print(\"F1 Score: \",f1_score(y_train, y_train_pred, average=None))\n"
   ]
  },
  {
   "cell_type": "code",
   "execution_count": 80,
   "metadata": {},
   "outputs": [
    {
     "data": {
      "image/png": "[encoded data removed]",
      "text/plain": [
       "<Figure size 720x360 with 1 Axes>"
      ]
     },
     "metadata": {
      "needs_background": "light"
     },
     "output_type": "display_data"
    }
   ],
   "source": [
    "plt.figure(figsize=(10,5))\n",
    "plt.plot(y_test[50:100], 'g', label=\"actual\")\n",
    "plt.plot(y_pred[50:100], 'r', label=\"predicted\")\n",
    "plt.legend()\n",
    "plt.xlabel(\"test points\")\n",
    "plt.ylabel(\"airflow(m/s)\")\n",
    "plt.title(\"Estimating Airflow (XGBoost)\")\n",
    "plt.savefig(\"final.png\")"
   ]
  },
  {
   "cell_type": "code",
   "execution_count": 81,
   "metadata": {},
   "outputs": [
    {
     "data": {
      "text/plain": [
       "Text(0.5, 1.0, 'Estimating Airflow (XGBoost)')"
      ]
     },
     "execution_count": 81,
     "metadata": {},
     "output_type": "execute_result"
    },
    {
     "data": {
      "image/png": "[encoded data removed]",
      "text/plain": [
       "<Figure size 720x360 with 1 Axes>"
      ]
     },
     "metadata": {
      "needs_background": "light"
     },
     "output_type": "display_data"
    }
   ],
   "source": [
    "plt.figure(figsize=(10,5))\n",
    "plt.plot(y_train[50:100], 'g', label=\"actual\")\n",
    "plt.plot(y_train_pred[50:100], 'r', label=\"predicted\")\n",
    "plt.legend()\n",
    "plt.xlabel(\"train points\")\n",
    "plt.ylabel(\"airflow(m/s)\")\n",
    "plt.title(\"Estimating Airflow (XGBoost)\")\n",
    "# plt.savefig(\"1m_v1.jpg\")\n",
    "\n"
   ]
  },
  {
   "cell_type": "code",
   "execution_count": null,
   "metadata": {},
   "outputs": [],
   "source": []
  },
  {
   "cell_type": "code",
   "execution_count": null,
   "metadata": {},
   "outputs": [],
   "source": []
  },
  {
   "cell_type": "code",
   "execution_count": null,
   "metadata": {},
   "outputs": [],
   "source": []
  }
 ],
 "metadata": {
  "kernelspec": {
   "display_name": "Python 3",
   "language": "python",
   "name": "python3"
  },
  "language_info": {
   "codemirror_mode": {
    "name": "ipython",
    "version": 3
   },
   "file_extension": ".py",
   "mimetype": "text/x-python",
   "name": "python",
   "nbconvert_exporter": "python",
   "pygments_lexer": "ipython3",
   "version": "3.9.2"
  }
 },
 "nbformat": 4,
 "nbformat_minor": 4
}
