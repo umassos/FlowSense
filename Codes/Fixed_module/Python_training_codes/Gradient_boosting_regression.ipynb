{
 "cells": [
  {
   "cell_type": "code",
   "execution_count": 45,
   "metadata": {},
   "outputs": [],
   "source": [
    "import numpy as np\n",
    "import pandas as pd\n",
    "from pathlib import Path\n",
    "import torch\n",
    "from torch import nn\n",
    "import torch.nn.functional as F\n",
    "import matplotlib.pyplot as plt\n",
    "from sklearn.metrics import mean_squared_error\n",
    "from sklearn import datasets, ensemble\n",
    "from sklearn.inspection import permutation_importance\n",
    "import os\n",
    "import glob\n",
    "from sklearn.neighbors import KNeighborsClassifier\n",
    "from sklearn import neighbors\n",
    "from sklearn import datasets, linear_model, metrics\n",
    "\n",
    "from sklearn.svm import SVR\n",
    "from sklearn.tree import DecisionTreeRegressor\n",
    "from sklearn.linear_model import LogisticRegression, LogisticRegressionCV, LinearRegression\n",
    "from sklearn.metrics import confusion_matrix, accuracy_score, recall_score, precision_score, f1_score\n",
    "from sklearn.model_selection import train_test_split\n",
    "pd.set_option('display.max_colwidth', None)\n",
    "\n",
    "np.random.seed(0)"
   ]
  },
  {
   "cell_type": "code",
   "execution_count": 46,
   "metadata": {},
   "outputs": [],
   "source": [
    "data_dir = Path(\"../../../Datasets/Arduino_dataset/\") "
   ]
  },
  {
   "cell_type": "code",
   "execution_count": 47,
   "metadata": {},
   "outputs": [],
   "source": [
    "# Params\n",
    "params = {'n_estimators': 500,\n",
    "          'max_depth': 4,\n",
    "          'min_samples_split': 5,\n",
    "          'learning_rate': 0.1,\n",
    "          'loss': 'ls'}"
   ]
  },
  {
   "cell_type": "code",
   "execution_count": 48,
   "metadata": {},
   "outputs": [],
   "source": [
    "def convert(df: pd.DataFrame, frame_size=10):\n",
    "    x = np.asarray(df.iloc[:, 1]).reshape(-1, frame_size)\n",
    "#     x = x[x.shape[0]//10:-x.shape[0]//10]\n",
    "    return x\n",
    "\n",
    "\n",
    "def change(df4: pd.DataFrame):\n",
    "    for index, row in df4.iterrows():\n",
    "        if row['frequency'] != \"airflow(m/s)\":\n",
    "            if float(row['frequency']) > 500:\n",
    "                df4.drop(index, inplace=True)\n",
    "    return df4"
   ]
  },
  {
   "cell_type": "code",
   "execution_count": 49,
   "metadata": {},
   "outputs": [],
   "source": [
    "\n",
    "df29 = pd.read_csv(data_dir / \"different_distances/Vent1_2_5m.txt\", low_memory=False, names= ['frequency','amplitude'] , index_col = False)\n",
    "df29 = df29[df29['frequency'] != \"clocktime\"]\n",
    "df29 = df29.dropna()\n",
    "df29 = change(df29)\n",
    "df29 = convert(df29)\n",
    "\n",
    "df30 = pd.read_csv(data_dir / \"no_air/noair.txt\", low_memory=False, names= ['frequency','amplitude'] , index_col = False)\n",
    "df30 = df30[df30['frequency'] != \"clocktime\"]\n",
    "df30 = df30.dropna()\n",
    "df30 = change(df30)\n",
    "df30 = convert(df30)\n",
    "\n",
    "df31 = pd.read_csv(data_dir / \"different_distances/Vent1_on_vent.txt\", low_memory=False, names= ['frequency','amplitude'] , index_col = False)\n",
    "df31 = df31[df31['frequency'] != \"clocktime\"]\n",
    "df31 = df31.dropna()\n",
    "df31 = change(df31)\n",
    "df31 = convert(df31)"
   ]
  },
  {
   "cell_type": "code",
   "execution_count": 50,
   "metadata": {},
   "outputs": [],
   "source": [
    "\n",
    "\n",
    "df32 = pd.read_csv(data_dir / \"different_distances/vent1_1m.txt\", low_memory=False, names= ['frequency','amplitude'] , index_col = False)\n",
    "df32 = df32[df32['frequency'] != \"clocktime\"]\n",
    "df32 = df32.dropna()\n",
    "df32 = change(df32)\n",
    "df32 = convert(df32)\n",
    "\n",
    "\n",
    "df34 = pd.read_csv(data_dir / \"different_distances/vent1_50cm.txt\", low_memory=False, names= ['frequency','amplitude'] , index_col = False)\n",
    "df34 = df34[df34['frequency'] != \"clocktime\"]\n",
    "df34 = df34.dropna()\n",
    "df34 = change(df34)\n",
    "df34 = convert(df34)\n",
    "\n",
    "\n",
    "df35 = pd.read_csv(data_dir / \"different_distances/vent1_150cm.txt\", low_memory=False, names= ['frequency','amplitude'] , index_col = False)\n",
    "df35 = df35[df35['frequency'] != \"clocktime\"]\n",
    "df35 = df35.dropna()\n",
    "df35 = change(df35)\n",
    "df35 = convert(df35)\n",
    "\n",
    "df42 = pd.read_csv(data_dir / \"different_distances/vent1_2m.txt\", low_memory=False, names= ['frequency','amplitude'] , index_col = False)\n",
    "df42 = df42[df42['frequency'] != \"clocktime\"]\n",
    "df42 = df42.dropna()\n",
    "df42 = convert(df42)\n",
    "\n",
    "\n",
    "\n"
   ]
  },
  {
   "cell_type": "code",
   "execution_count": 51,
   "metadata": {},
   "outputs": [],
   "source": [
    "\n",
    "df43 = pd.read_csv(data_dir / \"different_vents/vent2_1.txt\", low_memory=False, names= ['frequency','amplitude'] , index_col = False)\n",
    "df43 = df43[df43['frequency'] != \"clocktime\"]\n",
    "df43 = df43.dropna()\n",
    "df43 = convert(df43)\n",
    "df43 = df43[:-10]\n",
    "# dftest21 = df42[-50:]\n",
    "# df42 = df42[:-50]\n",
    "\n",
    "\n",
    "df44 = pd.read_csv(data_dir / \"different_vents/side_vent_1.txt\", low_memory=False, names= ['frequency','amplitude'] , index_col = False)\n",
    "df44 = df44[df44['frequency'] != \"clocktime\"]\n",
    "df44 = df44.dropna()\n",
    "df44 = convert(df44)\n",
    "df44 = df44[:-10]\n",
    "# dftests1 = df44[-50:]\n",
    "# df44 = df44[:-50]\n",
    "\n",
    "\n",
    "\n",
    "df45 = pd.read_csv(data_dir / \"different_vents/homevent.txt\", low_memory=False, names= ['frequency','amplitude'] , index_col = False)\n",
    "df45 = df45[df45['frequency'] != \"clocktime\"]\n",
    "df45 = df45.dropna()\n",
    "df45 = convert(df45)\n",
    "df45 = df45[:-10]\n",
    "# dftesth1 = df45[-50:]\n",
    "# df45 = df45[:-50]\n",
    "\n",
    "\n",
    "# df46 = pd.read_csv(data_dir9 / \"fan_high.txt\", low_memory=False, names= ['frequency','amplitude'] , index_col = False)\n",
    "# df46 = df46[df46['frequency'] != \"clocktime\"]\n",
    "# df46 = df46.dropna()\n",
    "# df46 = convert(df46)\n",
    "# df46 = df46[:-10]\n",
    "# dftestf1 = df46[-50:]\n",
    "# df46 = df46[:-50]\n",
    "\n"
   ]
  },
  {
   "cell_type": "code",
   "execution_count": 52,
   "metadata": {},
   "outputs": [],
   "source": [
    "\n",
    "df = np.concatenate([df29, df31, df32, df35, df42])"
   ]
  },
  {
   "cell_type": "code",
   "execution_count": 53,
   "metadata": {},
   "outputs": [],
   "source": [
    "data = df\n"
   ]
  },
  {
   "cell_type": "code",
   "execution_count": 54,
   "metadata": {},
   "outputs": [],
   "source": [
    "X = data[:,:-1]\n",
    "\n",
    "X = X[:, :7]\n"
   ]
  },
  {
   "cell_type": "code",
   "execution_count": 55,
   "metadata": {},
   "outputs": [],
   "source": [
    "y = data[:, -1]\n",
    "\n"
   ]
  },
  {
   "cell_type": "code",
   "execution_count": 56,
   "metadata": {},
   "outputs": [
    {
     "name": "stdout",
     "output_type": "stream",
     "text": [
      "32.9 2.17\n"
     ]
    }
   ],
   "source": [
    "print(max(y), min(y))\n",
    "for i in range(len(y)):\n",
    "    if i >= len(y):\n",
    "        break\n",
    "    if y[i]>35 or y[i]<1:\n",
    "        print (i, y[i])\n",
    "        X = np.delete(X, i, axis = 0)\n",
    "        y = np.delete(y, i)\n",
    "        "
   ]
  },
  {
   "cell_type": "code",
   "execution_count": 57,
   "metadata": {},
   "outputs": [],
   "source": [
    "X_train, X_test, y_train, y_test = train_test_split(X, y, test_size=0.2)"
   ]
  },
  {
   "cell_type": "code",
   "execution_count": 58,
   "metadata": {},
   "outputs": [
    {
     "data": {
      "text/plain": [
       "GradientBoostingRegressor(max_depth=4, min_samples_split=5, n_estimators=500)"
      ]
     },
     "execution_count": 58,
     "metadata": {},
     "output_type": "execute_result"
    }
   ],
   "source": [
    "reg = ensemble.GradientBoostingRegressor(**params)\n",
    "reg.fit(X_train, y_train)\n"
   ]
  },
  {
   "cell_type": "code",
   "execution_count": 59,
   "metadata": {},
   "outputs": [
    {
     "data": {
      "text/plain": [
       "['flowSense_regression.joblib']"
      ]
     },
     "execution_count": 59,
     "metadata": {},
     "output_type": "execute_result"
    }
   ],
   "source": [
    "from joblib import dump, load\n",
    "dump(reg, \"flowSense_regression.joblib\")"
   ]
  },
  {
   "cell_type": "code",
   "execution_count": 60,
   "metadata": {},
   "outputs": [],
   "source": [
    "y_pred = reg.predict(X_test)\n",
    "y_train_pred = reg.predict(X_train)"
   ]
  },
  {
   "cell_type": "code",
   "execution_count": 61,
   "metadata": {},
   "outputs": [
    {
     "name": "stdout",
     "output_type": "stream",
     "text": [
      "[3.46433075 3.5817273  3.7501707  3.55495544 3.71086506]\n",
      "[3.9  3.01 3.82 3.82 3.98]\n"
     ]
    }
   ],
   "source": [
    "print(y_pred[:5])\n",
    "print(y_test[:5])"
   ]
  },
  {
   "cell_type": "code",
   "execution_count": 62,
   "metadata": {},
   "outputs": [
    {
     "name": "stdout",
     "output_type": "stream",
     "text": [
      "[ 3.41039008 29.04734924  3.7060822   3.13428194  3.35040146]\n",
      "[ 3.59 29.09  3.82  3.01  3.44]\n"
     ]
    }
   ],
   "source": [
    "print(y_train_pred[:5])\n",
    "print(y_train[:5])"
   ]
  },
  {
   "cell_type": "code",
   "execution_count": 63,
   "metadata": {},
   "outputs": [
    {
     "name": "stdout",
     "output_type": "stream",
     "text": [
      "MSE of test:  4.809147303558632\n",
      "(516,)\n",
      "Test Reg score:  0.9158238167954162\n"
     ]
    }
   ],
   "source": [
    "print(\"MSE of test: \", mean_squared_error(y_test, y_pred))\n",
    "print(y_pred.shape)\n",
    "\n",
    "print(\"Test Reg score: \", reg.score(X_test, y_test))\n",
    "    "
   ]
  },
  {
   "cell_type": "code",
   "execution_count": 64,
   "metadata": {},
   "outputs": [
    {
     "name": "stdout",
     "output_type": "stream",
     "text": [
      "MSE of training:  0.07274052719145747\n",
      "Train Reg score:  0.998823723613507\n"
     ]
    }
   ],
   "source": [
    "print(\"MSE of training: \",  mean_squared_error(y_train, y_train_pred))\n",
    "\n",
    "print(\"Train Reg score: \", reg.score(X_train, y_train))"
   ]
  },
  {
   "cell_type": "code",
   "execution_count": 65,
   "metadata": {},
   "outputs": [
    {
     "data": {
      "image/png": "[encoded data removed]",
      "text/plain": [
       "<Figure size 720x360 with 1 Axes>"
      ]
     },
     "metadata": {
      "needs_background": "light"
     },
     "output_type": "display_data"
    }
   ],
   "source": [
    "plt.figure(figsize=(10,5))\n",
    "plt.plot(y_test[50:100], 'g', label=\"actual\")\n",
    "plt.plot(y_pred[50:100], 'r', label=\"predicted\")\n",
    "plt.legend()\n",
    "plt.xlabel(\"test points\")\n",
    "plt.ylabel(\"airflow(m/s)\")\n",
    "plt.title(\"Estimating Airflow (XGBoost)\")\n",
    "plt.savefig(\"final.png\")"
   ]
  },
  {
   "cell_type": "code",
   "execution_count": 66,
   "metadata": {},
   "outputs": [
    {
     "data": {
      "text/plain": [
       "Text(0.5, 1.0, 'Estimating Airflow (XGBoost)')"
      ]
     },
     "execution_count": 66,
     "metadata": {},
     "output_type": "execute_result"
    },
    {
     "data": {
      "image/png": "[encoded data removed]",
      "text/plain": [
       "<Figure size 720x360 with 1 Axes>"
      ]
     },
     "metadata": {
      "needs_background": "light"
     },
     "output_type": "display_data"
    }
   ],
   "source": [
    "plt.figure(figsize=(10,5))\n",
    "plt.plot(y_train[50:100], 'g', label=\"actual\")\n",
    "plt.plot(y_train_pred[50:100], 'r', label=\"predicted\")\n",
    "plt.legend()\n",
    "plt.xlabel(\"train points\")\n",
    "plt.ylabel(\"airflow(m/s)\")\n",
    "plt.title(\"Estimating Airflow (XGBoost)\")\n",
    "# plt.savefig(\"1m_v1.jpg\")\n",
    "\n"
   ]
  },
  {
   "cell_type": "code",
   "execution_count": null,
   "metadata": {},
   "outputs": [],
   "source": []
  },
  {
   "cell_type": "code",
   "execution_count": null,
   "metadata": {},
   "outputs": [],
   "source": []
  },
  {
   "cell_type": "code",
   "execution_count": null,
   "metadata": {},
   "outputs": [],
   "source": []
  }
 ],
 "metadata": {
  "kernelspec": {
   "display_name": "Python 3",
   "language": "python",
   "name": "python3"
  },
  "language_info": {
   "codemirror_mode": {
    "name": "ipython",
    "version": 3
   },
   "file_extension": ".py",
   "mimetype": "text/x-python",
   "name": "python",
   "nbconvert_exporter": "python",
   "pygments_lexer": "ipython3",
   "version": "3.9.2"
  }
 },
 "nbformat": 4,
 "nbformat_minor": 4
}
